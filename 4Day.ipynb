{
 "cells": [
  {
   "cell_type": "code",
   "execution_count": 1,
   "id": "50efd72c",
   "metadata": {},
   "outputs": [
    {
     "name": "stderr",
     "output_type": "stream",
     "text": [
      "C:\\Users\\soldesk\\AppData\\Local\\Temp\\ipykernel_12468\\1014303460.py:1: DeprecationWarning: Importing display from IPython.core.display is deprecated since IPython 7.14, please import from IPython display\n",
      "  from IPython.core.display import display, HTML\n"
     ]
    },
    {
     "data": {
      "text/html": [
       "<style>\n",
       "div.container { width:100% !important; }\n",
       "div.CodeMirror {font-family: Consolas; font-size: 30pt;}\n",
       "div.output { font-size: 20pt; font-weight: bold;}\n",
       "div.input { font-family: Consolas; font-size: 30pt;}\n",
       "div.prompt { min-width: 100px;}\n",
       "</style>\n"
      ],
      "text/plain": [
       "<IPython.core.display.HTML object>"
      ]
     },
     "metadata": {},
     "output_type": "display_data"
    }
   ],
   "source": [
    "from IPython.core.display import display, HTML\n",
    "display(HTML(\n",
    "\"\"\"<style>\n",
    "div.container { width:100% !important; }\n",
    "div.CodeMirror {font-family: Consolas; font-size: 30pt;}\n",
    "div.output { font-size: 20pt; font-weight: bold;}\n",
    "div.input { font-family: Consolas; font-size: 30pt;}\n",
    "div.prompt { min-width: 100px;}\n",
    "</style>\n",
    "\"\"\"))"
   ]
  },
  {
   "cell_type": "code",
   "execution_count": 5,
   "id": "ef7051e0",
   "metadata": {},
   "outputs": [
    {
     "name": "stdout",
     "output_type": "stream",
     "text": [
      "1\n",
      "100\n",
      "10\n",
      "100\n"
     ]
    }
   ],
   "source": [
    "#변수 ,함수를 하나로 묶어 놓은 것\n",
    "a = 1\n",
    "def test():\n",
    "    global a\n",
    "    a = 100\n",
    "    b = 10  # 지역변수\n",
    "    print(a)\n",
    "    print(b)\n",
    "print(a)\n",
    "test()\n",
    "print(a)\n",
    "#print(b) # 함수안에 있는 지역변수이므로 실행할 수 없다."
   ]
  },
  {
   "cell_type": "code",
   "execution_count": 14,
   "id": "c53694ce",
   "metadata": {},
   "outputs": [
    {
     "name": "stdout",
     "output_type": "stream",
     "text": [
      "20\n",
      "40\n"
     ]
    }
   ],
   "source": [
    "a = 10 # 전역변수\n",
    "def test_a(n):\n",
    "    global a\n",
    "    a += n\n",
    "test_a(10)\n",
    "print(a)\n",
    "test_a(20)\n",
    "print(a)"
   ]
  },
  {
   "cell_type": "code",
   "execution_count": 17,
   "id": "b1c01156",
   "metadata": {},
   "outputs": [
    {
     "name": "stdout",
     "output_type": "stream",
     "text": [
      "110\n",
      "310\n"
     ]
    }
   ],
   "source": [
    "b = 10 # 전역변수\n",
    "def test_b(n):\n",
    "    global b\n",
    "    b += n\n",
    "test_b(100)\n",
    "print(b)\n",
    "test_b(200)\n",
    "print(b)"
   ]
  },
  {
   "cell_type": "code",
   "execution_count": 16,
   "id": "edaa22e8",
   "metadata": {},
   "outputs": [
    {
     "name": "stdout",
     "output_type": "stream",
     "text": [
      "1010\n"
     ]
    }
   ],
   "source": [
    "c = 10 # 전역변수\n",
    "def test_c(n):\n",
    "    global c\n",
    "    c += n\n",
    "test_c(1000)\n",
    "print(c)"
   ]
  },
  {
   "cell_type": "code",
   "execution_count": 18,
   "id": "87020df1",
   "metadata": {},
   "outputs": [
    {
     "name": "stdout",
     "output_type": "stream",
     "text": [
      "40\n",
      "310\n",
      "1010\n"
     ]
    }
   ],
   "source": [
    "print(a)\n",
    "print(b)\n",
    "print(c)"
   ]
  },
  {
   "cell_type": "code",
   "execution_count": null,
   "id": "ba0c6be0",
   "metadata": {},
   "outputs": [],
   "source": [
    "d = 10 # 전역변수\n",
    "def test_d(n):\n",
    "    global d\n",
    "    d += n"
   ]
  },
  {
   "cell_type": "code",
   "execution_count": 28,
   "id": "2cf3d1d3",
   "metadata": {},
   "outputs": [],
   "source": [
    "class ClassTest:\n",
    "    d = 10 #  맴버변수, 멤버필드\n",
    "    def test_d(self, n): #self는 멤버필드임을 나타내주기 위해서 사용 \n",
    "        self.d += n    \n",
    "    "
   ]
  },
  {
   "cell_type": "code",
   "execution_count": 29,
   "id": "ac550839",
   "metadata": {},
   "outputs": [
    {
     "name": "stdout",
     "output_type": "stream",
     "text": [
      "10\n",
      "<__main__.ClassTest object at 0x000001E066E6FB90>\n",
      "10\n",
      "110\n"
     ]
    }
   ],
   "source": [
    "i = 10\n",
    "print(i)\n",
    "c1 = ClassTest() # d ,test_d() \n",
    "print(c1)\n",
    "print(c1.d)\n",
    "c1.test_d(100) # d= 110\n",
    "print(c1.d)\n",
    "'''\n",
    "    d = 10 # 전역변수\n",
    "    def test_d(self, n):\n",
    "        self.d += n  \n",
    "\n",
    "'''"
   ]
  },
  {
   "cell_type": "code",
   "execution_count": 30,
   "id": "c0c4fb23",
   "metadata": {},
   "outputs": [
    {
     "name": "stdout",
     "output_type": "stream",
     "text": [
      "10\n",
      "<__main__.ClassTest object at 0x000001E06699C750>\n",
      "10\n",
      "310\n"
     ]
    }
   ],
   "source": [
    "i1 = 10\n",
    "print(i1)\n",
    "c2 = ClassTest() # d ,test_d() \n",
    "print(c2)\n",
    "print(c2.d)\n",
    "c2.test_d(300)\n",
    "print(c2.d)\n",
    "'''\n",
    "    d = 10 # 전역변수\n",
    "    def test_d(self, n):\n",
    "        self.d += n  \n",
    "'''"
   ]
  },
  {
   "cell_type": "code",
   "execution_count": 31,
   "id": "9951f533",
   "metadata": {},
   "outputs": [
    {
     "name": "stdout",
     "output_type": "stream",
     "text": [
      "110\n",
      "310\n"
     ]
    }
   ],
   "source": [
    "print(c1.d)\n",
    "print(c2.d)"
   ]
  },
  {
   "cell_type": "code",
   "execution_count": 34,
   "id": "a669f92a",
   "metadata": {},
   "outputs": [
    {
     "name": "stdout",
     "output_type": "stream",
     "text": [
      "10\n",
      "1000\n"
     ]
    }
   ],
   "source": [
    "'''\n",
    "    d = 10 # 전역변수\n",
    "    def test_d(self, n):\n",
    "        self.d += n  \n",
    "'''\n",
    "c3 = ClassTest() #  d, test_d\n",
    "print(c3.d)\n",
    "c3.d = 1000\n",
    "print(c3.d)"
   ]
  },
  {
   "cell_type": "code",
   "execution_count": 35,
   "id": "26544083",
   "metadata": {},
   "outputs": [
    {
     "name": "stdout",
     "output_type": "stream",
     "text": [
      "110\n",
      "310\n",
      "1000\n"
     ]
    }
   ],
   "source": [
    "print(c1.d) \n",
    "print(c2.d)\n",
    "print(c3.d)"
   ]
  },
  {
   "cell_type": "code",
   "execution_count": null,
   "id": "7fb4bbe9",
   "metadata": {},
   "outputs": [],
   "source": [
    "'''\n",
    "class ClassTest:\n",
    "    d = 10 #  맴버변수, 멤버필드\n",
    "    def test_d(self, n): #self는 멤버필드임을 나타내주기 위해서 사용 \n",
    "        self.d += n \n",
    "'''"
   ]
  },
  {
   "cell_type": "code",
   "execution_count": 38,
   "id": "1f9e02d1",
   "metadata": {},
   "outputs": [
    {
     "name": "stdout",
     "output_type": "stream",
     "text": [
      "1110\n",
      "2110\n"
     ]
    }
   ],
   "source": [
    "print(c1.d)\n",
    "ClassTest.test_d(c1, 1000 )\n",
    "print(c1.d)"
   ]
  },
  {
   "cell_type": "code",
   "execution_count": 41,
   "id": "dc968070",
   "metadata": {},
   "outputs": [
    {
     "name": "stdout",
     "output_type": "stream",
     "text": [
      "4110\n"
     ]
    }
   ],
   "source": [
    "c1.test_d(1000) # ClassTest.test_d(c1, 1000 )\n",
    "print(c1.d)"
   ]
  },
  {
   "cell_type": "code",
   "execution_count": 43,
   "id": "c7c311fe",
   "metadata": {},
   "outputs": [
    {
     "name": "stdout",
     "output_type": "stream",
     "text": [
      "2010\n",
      "10\n"
     ]
    }
   ],
   "source": [
    "# 멤버변수를 가지고 있는 변수를 객체라고 한다.\n",
    "c4 = ClassTest() # d : 멤버변수\n",
    "ClassTest.test_d(c4, 1000)\n",
    "c4.test_d(1000)\n",
    "print(c4.d)\n",
    "i = 10 # 정수형 변수\n",
    "d = 10.5 # 실수형변수\n",
    "s = \"이숭무\" # 문자열형 변수\n",
    "l = [1,2,3,4,5] #리스트형변수\n",
    "s1 = {1,2,3,4,5} #집합형 변수\n",
    "t = (1,2,3,4,5,6) #튜플형변수\n",
    "c5 = ClassTest() # 클래스형 변수 # 객체변수\n",
    "print(c5.d)"
   ]
  },
  {
   "cell_type": "code",
   "execution_count": 66,
   "id": "3370145f",
   "metadata": {},
   "outputs": [],
   "source": [
    "# 멤버 필드 초기화 :멤버에 값을 가지도록 하는 것\n",
    "class FourCal:\n",
    "    #first\n",
    "    #second\n",
    "    #result \n",
    "    def setData(self, num1, num2): # 초기화\n",
    "        self.first = num1\n",
    "        self.second = num2\n",
    "    def add(self):\n",
    "        self.result = self.first + self.second\n",
    "    def div(self):\n",
    "        self.result = self.first / self.second"
   ]
  },
  {
   "cell_type": "code",
   "execution_count": 67,
   "id": "a16f5628",
   "metadata": {},
   "outputs": [
    {
     "name": "stdout",
     "output_type": "stream",
     "text": [
      "10\n",
      "20\n",
      "30\n",
      "0.5\n"
     ]
    }
   ],
   "source": [
    "cal = FourCal()\n",
    "cal.setData(10, 20)# 초기화하기 위해 값을 전달\n",
    "print(cal.first)\n",
    "print(cal.second)\n",
    "cal.add()\n",
    "print(cal.result)\n",
    "cal.div()\n",
    "print(cal.result)"
   ]
  },
  {
   "cell_type": "code",
   "execution_count": 71,
   "id": "ab31fc46",
   "metadata": {},
   "outputs": [
    {
     "name": "stdout",
     "output_type": "stream",
     "text": [
      "30\n"
     ]
    }
   ],
   "source": [
    "cal1 = FourCal()\n",
    "cal1.setData(30,50) # 멤버필드가 있는 경우 멤버필드를 초기화해야 사용할 수 있다.\n",
    "print(cal1.first)"
   ]
  },
  {
   "cell_type": "code",
   "execution_count": 74,
   "id": "ea7a6697",
   "metadata": {},
   "outputs": [
    {
     "name": "stdout",
     "output_type": "stream",
     "text": [
      "30\n"
     ]
    }
   ],
   "source": [
    "cal2 = FourCal() # 객체를 만든다\n",
    "cal2.setData(30,40) #초기화를 한다.\n",
    "print(cal2.first)"
   ]
  },
  {
   "cell_type": "code",
   "execution_count": 76,
   "id": "94120c84",
   "metadata": {},
   "outputs": [],
   "source": [
    "### 객체가 만들어 질 때 멤버필드가 같이 초기화가 되도록 하자.\n",
    "class FourCal:\n",
    "    #first\n",
    "    #second\n",
    "    #result \n",
    "    def __init__(self, num1, num2): #생성자\n",
    "        self.first = num1\n",
    "        self.second = num2\n",
    "    def add(self):\n",
    "        self.result = self.first + self.second\n",
    "    def div(self):\n",
    "        self.result = self.first / self.second"
   ]
  },
  {
   "cell_type": "code",
   "execution_count": 78,
   "id": "e3f66526",
   "metadata": {},
   "outputs": [
    {
     "name": "stdout",
     "output_type": "stream",
     "text": [
      "10\n"
     ]
    }
   ],
   "source": [
    "cal3 = FourCal(10, 20) # __init__는 객체만들어 질 때 자동으로 실행되는 함수\n",
    "print(cal3.first)"
   ]
  },
  {
   "cell_type": "code",
   "execution_count": 80,
   "id": "8848e118",
   "metadata": {},
   "outputs": [
    {
     "ename": "TypeError",
     "evalue": "FourCal.__init__() missing 2 required positional arguments: 'num1' and 'num2'",
     "output_type": "error",
     "traceback": [
      "\u001b[1;31m---------------------------------------------------------------------------\u001b[0m",
      "\u001b[1;31mTypeError\u001b[0m                                 Traceback (most recent call last)",
      "Cell \u001b[1;32mIn[80], line 1\u001b[0m\n\u001b[1;32m----> 1\u001b[0m cal4 \u001b[38;5;241m=\u001b[39m \u001b[43mFourCal\u001b[49m\u001b[43m(\u001b[49m\u001b[43m)\u001b[49m \u001b[38;5;66;03m# 생성자가 있는 경우에는 생성자에게 값을 전달해야 한다.\u001b[39;00m\n",
      "\u001b[1;31mTypeError\u001b[0m: FourCal.__init__() missing 2 required positional arguments: 'num1' and 'num2'"
     ]
    }
   ],
   "source": [
    "cal4 = FourCal() # 생성자가 있는 경우에는 생성자에게 값을 전달해야 한다."
   ]
  },
  {
   "cell_type": "code",
   "execution_count": 88,
   "id": "d670f4a4",
   "metadata": {},
   "outputs": [],
   "source": [
    "# 상속 : class(FourCal)를 가지고 오는 것 , 객체(cal1)를 가지고 오는 것이 아님\n",
    "#       자식Class(부모class):\n",
    "class MoreFourCal(FourCal):\n",
    "#     def __init__(self, num1, num2): #생성자\n",
    "#         self.first = num1\n",
    "#         self.second = num2\n",
    "#     def add(self):\n",
    "#         self.result = self.first + self.second\n",
    "#     def div(self):\n",
    "#         self.result = self.first / self.second\n",
    "    def sub(self):\n",
    "        self.result = self.first - self.second\n",
    "    def mul(self):\n",
    "        self.result = self.first * self.second\n"
   ]
  },
  {
   "cell_type": "code",
   "execution_count": 91,
   "id": "f9844cd4",
   "metadata": {},
   "outputs": [
    {
     "name": "stdout",
     "output_type": "stream",
     "text": [
      "50\n",
      "-10\n"
     ]
    }
   ],
   "source": [
    "mcal = MoreFourCal(20, 30)\n",
    "mcal.add()\n",
    "print(mcal.result)\n",
    "mcal.sub()\n",
    "print(mcal.result)"
   ]
  },
  {
   "cell_type": "code",
   "execution_count": 92,
   "id": "b5f4c673",
   "metadata": {},
   "outputs": [
    {
     "name": "stdout",
     "output_type": "stream",
     "text": [
      "0.0\n"
     ]
    }
   ],
   "source": [
    "mcal1 = MoreFourCal(0, 10) # 0 / 10 = 0:부정\n",
    "mcal1.div()\n",
    "print(mcal1.result)"
   ]
  },
  {
   "cell_type": "code",
   "execution_count": 93,
   "id": "a0bdf099",
   "metadata": {},
   "outputs": [
    {
     "ename": "ZeroDivisionError",
     "evalue": "division by zero",
     "output_type": "error",
     "traceback": [
      "\u001b[1;31m---------------------------------------------------------------------------\u001b[0m",
      "\u001b[1;31mZeroDivisionError\u001b[0m                         Traceback (most recent call last)",
      "Cell \u001b[1;32mIn[93], line 2\u001b[0m\n\u001b[0;32m      1\u001b[0m mcal2 \u001b[38;5;241m=\u001b[39m MoreFourCal(\u001b[38;5;241m10\u001b[39m, \u001b[38;5;241m0\u001b[39m) \u001b[38;5;66;03m# 10 / 0\u001b[39;00m\n\u001b[1;32m----> 2\u001b[0m \u001b[43mmcal2\u001b[49m\u001b[38;5;241;43m.\u001b[39;49m\u001b[43mdiv\u001b[49m\u001b[43m(\u001b[49m\u001b[43m)\u001b[49m\n\u001b[0;32m      3\u001b[0m \u001b[38;5;28mprint\u001b[39m(mcal1\u001b[38;5;241m.\u001b[39mresult)\n",
      "Cell \u001b[1;32mIn[76], line 12\u001b[0m, in \u001b[0;36mFourCal.div\u001b[1;34m(self)\u001b[0m\n\u001b[0;32m     11\u001b[0m \u001b[38;5;28;01mdef\u001b[39;00m \u001b[38;5;21mdiv\u001b[39m(\u001b[38;5;28mself\u001b[39m):\n\u001b[1;32m---> 12\u001b[0m     \u001b[38;5;28mself\u001b[39m\u001b[38;5;241m.\u001b[39mresult \u001b[38;5;241m=\u001b[39m \u001b[38;5;28;43mself\u001b[39;49m\u001b[38;5;241;43m.\u001b[39;49m\u001b[43mfirst\u001b[49m\u001b[43m \u001b[49m\u001b[38;5;241;43m/\u001b[39;49m\u001b[43m \u001b[49m\u001b[38;5;28;43mself\u001b[39;49m\u001b[38;5;241;43m.\u001b[39;49m\u001b[43msecond\u001b[49m\n",
      "\u001b[1;31mZeroDivisionError\u001b[0m: division by zero"
     ]
    }
   ],
   "source": [
    "mcal2 = MoreFourCal(10, 0) # 10 / 0 : 불능\n",
    "mcal2.div()\n",
    "print(mcal1.result)"
   ]
  },
  {
   "cell_type": "code",
   "execution_count": 100,
   "id": "a56d9697",
   "metadata": {},
   "outputs": [],
   "source": [
    "class MoreFourCal(FourCal):\n",
    "#     def div(self):\n",
    "#         self.result = self.first / self.second\n",
    "    def sub(self):\n",
    "        self.result = self.first - self.second\n",
    "    def mul(self):\n",
    "        self.result = self.first * self.second\n",
    "    def div(self): \n",
    "        #재정의 : overide :부모로부터 받은 함수를 자식class에서 다시 정의\n",
    "        #부모 클래스에 있는 함수를 사용하지 않고 함수명만 사용\n",
    "        if self.second == 0 :\n",
    "            self.result = 0\n",
    "        else:\n",
    "            self.result = self.first / self.second"
   ]
  },
  {
   "cell_type": "code",
   "execution_count": 103,
   "id": "cf446f73",
   "metadata": {},
   "outputs": [
    {
     "name": "stdout",
     "output_type": "stream",
     "text": [
      "0.0\n"
     ]
    }
   ],
   "source": [
    "mcal2 = MoreFourCal(10, 0) # 10 / 0 : 불능\n",
    "mcal2.div() # 재정의된 함수가 실행이 됨.\n",
    "print(mcal1.result)"
   ]
  },
  {
   "cell_type": "code",
   "execution_count": 110,
   "id": "3f781fee",
   "metadata": {},
   "outputs": [
    {
     "name": "stdout",
     "output_type": "stream",
     "text": [
      "3.141592\n",
      "10\n",
      "40\n",
      "20\n"
     ]
    }
   ],
   "source": [
    "# 모듈\n",
    "# 변수, 함수 , 클래스, 상수들을 모아 둔 파일 \n",
    "import mod1\n",
    "print(mod1.PI)\n",
    "print(mod1.a)\n",
    "print(mod1.sum1(10, 30))\n",
    "aaaaa = mod1.MoreFourCal(20, 30)\n",
    "print(aaaaa.first)"
   ]
  },
  {
   "cell_type": "code",
   "execution_count": 109,
   "id": "0522c229",
   "metadata": {},
   "outputs": [
    {
     "name": "stdout",
     "output_type": "stream",
     "text": [
      "3\n"
     ]
    }
   ],
   "source": [
    "import random\n",
    "n = random.randint(1, 10)\n",
    "print(n)"
   ]
  },
  {
   "cell_type": "code",
   "execution_count": 111,
   "id": "9e176876",
   "metadata": {},
   "outputs": [
    {
     "name": "stdout",
     "output_type": "stream",
     "text": [
      "1143\n"
     ]
    }
   ],
   "source": [
    "from random import randint\n",
    "n = randint(1, 2000)\n",
    "print(n)"
   ]
  },
  {
   "cell_type": "code",
   "execution_count": 114,
   "id": "22872ba4",
   "metadata": {},
   "outputs": [
    {
     "name": "stdout",
     "output_type": "stream",
     "text": [
      "50\n",
      "420\n"
     ]
    }
   ],
   "source": [
    "from random import *\n",
    "from mod1 import *\n",
    "print(sum1(20, 30))\n",
    "mmCal.add()\n",
    "print(mmCal.result)"
   ]
  },
  {
   "cell_type": "code",
   "execution_count": 115,
   "id": "854326b2",
   "metadata": {},
   "outputs": [],
   "source": [
    "### 스크래핑 : 웹 문서에 있는 코드 모두를 다 가지고 오는 것\n",
    "### 크롤링 : 스크래핑한 코드에서 원하는 내용만 추출해오는 것"
   ]
  },
  {
   "cell_type": "code",
   "execution_count": 117,
   "id": "8d499957",
   "metadata": {},
   "outputs": [
    {
     "data": {
      "text/plain": [
       "('test.png', <http.client.HTTPMessage at 0x1e066e68890>)"
      ]
     },
     "execution_count": 117,
     "metadata": {},
     "output_type": "execute_result"
    }
   ],
   "source": [
    "# 스크래핑\n",
    "import urllib.request\n",
    "url = \"http://uta.pw/shodou/img/28/214.png\"\n",
    "saveName = \"test.png\"\n",
    "urllib.request.urlretrieve(url, saveName)"
   ]
  },
  {
   "cell_type": "code",
   "execution_count": 120,
   "id": "9d727d6f",
   "metadata": {},
   "outputs": [],
   "source": [
    "import urllib.request\n",
    "url = \"http://uta.pw/shodou/img/28/214.png\"\n",
    "mem = urllib.request.urlopen(url).read()\n",
    "with open(\"test1.png\", \"wb\") as f:\n",
    "    f.write(mem)"
   ]
  },
  {
   "cell_type": "code",
   "execution_count": 122,
   "id": "2c0d168e",
   "metadata": {},
   "outputs": [
    {
     "name": "stdout",
     "output_type": "stream",
     "text": [
      "b'[ip]\\nAPI_URI=http://api.aoikujira.com/ip/get.php\\nREMOTE_ADDR=121.160.41.224\\nREMOTE_HOST=121.160.41.224\\nREMOTE_PORT=60084\\nHTTP_HOST=api.aoikujira.com\\nHTTP_USER_AGENT=Python-urllib/3.11\\nHTTP_ACCEPT_LANGUAGE=\\nHTTP_ACCEPT_CHARSET=\\nSERVER_PORT=80\\nFORMAT=ini\\n\\n'\n",
      "[ip]\n",
      "API_URI=http://api.aoikujira.com/ip/get.php\n",
      "REMOTE_ADDR=121.160.41.224\n",
      "REMOTE_HOST=121.160.41.224\n",
      "REMOTE_PORT=60084\n",
      "HTTP_HOST=api.aoikujira.com\n",
      "HTTP_USER_AGENT=Python-urllib/3.11\n",
      "HTTP_ACCEPT_LANGUAGE=\n",
      "HTTP_ACCEPT_CHARSET=\n",
      "SERVER_PORT=80\n",
      "FORMAT=ini\n",
      "\n",
      "\n"
     ]
    }
   ],
   "source": [
    "url = \"http://api.aoikujira.com/ip/ini\"\n",
    "mem = urllib.request.urlopen(url).read()\n",
    "print(mem)\n",
    "text = mem.decode(\"utf-8\")\n",
    "print(text)"
   ]
  },
  {
   "cell_type": "code",
   "execution_count": 127,
   "id": "2b7d69c3",
   "metadata": {},
   "outputs": [
    {
     "name": "stdout",
     "output_type": "stream",
     "text": [
      "url =http://www.kma.go.kr/weather/forecast/mid-term-rss3.jsp?stnId=108\n"
     ]
    }
   ],
   "source": [
    "# https://search.naver.com/news/search.naver?query=이숭무&sm=top_hty\n",
    "# <---------------------------------------------------------------> : url\n",
    "#                         <---------------->? uri\n",
    "#                                           ?<--------------------->쿼리스트링\n",
    "import urllib.request\n",
    "import urllib.parse\n",
    "API = \"http://www.kma.go.kr/weather/forecast/mid-term-rss3.jsp\"\n",
    "value= {\"stnId\":108}\n",
    "params = urllib.parse.urlencode(value)\n",
    "url = API + \"?\" + params\n",
    "print(\"url =\" + url)\n",
    "data = urllib.request.urlopen(url).read()\n",
    "text = data.decode(\"utf-8\")"
   ]
  },
  {
   "cell_type": "code",
   "execution_count": 135,
   "id": "4b9fdbbc",
   "metadata": {},
   "outputs": [
    {
     "name": "stdout",
     "output_type": "stream",
     "text": [
      "지역번호를 입력해 주세요108\n",
      "url =http://www.kma.go.kr/weather/forecast/mid-term-rss3.jsp?stnId=108\n"
     ]
    }
   ],
   "source": [
    "regionNumber = input(\"지역번호를 입력해 주세요\")\n",
    "API = \"http://www.kma.go.kr/weather/forecast/mid-term-rss3.jsp\"\n",
    "value= {\"stnId\":regionNumber}\n",
    "params = urllib.parse.urlencode(value)\n",
    "url = API + \"?\" + params\n",
    "print(\"url =\" + url)\n",
    "data = urllib.request.urlopen(url).read()\n",
    "html = data.decode(\"utf-8\")"
   ]
  },
  {
   "cell_type": "code",
   "execution_count": 141,
   "id": "dd649b11",
   "metadata": {},
   "outputs": [
    {
     "name": "stdout",
     "output_type": "stream",
     "text": [
      "<h1>스크레이핑이란?</h1>\n",
      "스크레이핑이란?\n",
      "<p>웹 페이지를 분석하는 것</p>\n",
      "웹 페이지를 분석하는 것\n",
      "<p>원하는 부분을 추출하는 것</p>\n",
      "원하는 부분을 추출하는 것\n"
     ]
    }
   ],
   "source": [
    "### 크롤링\n",
    "from bs4 import BeautifulSoup\n",
    "# 스크래핑한 결과\n",
    "html = \"\"\"  \n",
    "<html><body>\n",
    "  <h1>스크레이핑이란?</h1>\n",
    "  <p>웹 페이지를 분석하는 것</p>\n",
    "  <p>원하는 부분을 추출하는 것</p>\n",
    "</body></html>\n",
    "\"\"\"\n",
    "# HTML 분석하기\n",
    "soup = BeautifulSoup(html, 'html.parser') # text를 html로 변환\n",
    "h1 = soup.html.h1\n",
    "print(h1)\n",
    "print(h1.string)\n",
    "p = soup.html.p\n",
    "print(p)\n",
    "print(p.string) # 태그를 이용해서 크롤링\n",
    "p1 = soup.html.p.next_sibling.next_sibling\n",
    "print(p1)\n",
    "print(p1.string)"
   ]
  },
  {
   "cell_type": "code",
   "execution_count": 146,
   "id": "6a3f4245",
   "metadata": {},
   "outputs": [
    {
     "ename": "SyntaxError",
     "evalue": "invalid syntax (686622688.py, line 11)",
     "output_type": "error",
     "traceback": [
      "\u001b[1;36m  Cell \u001b[1;32mIn[146], line 11\u001b[1;36m\u001b[0m\n\u001b[1;33m    body = soup.find(class='body').string\u001b[0m\n\u001b[1;37m                     ^\u001b[0m\n\u001b[1;31mSyntaxError\u001b[0m\u001b[1;31m:\u001b[0m invalid syntax\n"
     ]
    }
   ],
   "source": [
    "html = \"\"\"  \n",
    "<html><body>\n",
    "  <h1 id='title'>스크레이핑이란?</h1>\n",
    "  <p id='body'>웹 페이지를 분석하는 것</p>\n",
    "  <p>원하는 부분을 추출하는 것</p>\n",
    "</body></html>\n",
    "\"\"\"\n",
    "soup = BeautifulSoup(html, 'html.parser')\n",
    "title = soup.find(id='title') #find함수를 이용해서 크롤링\n",
    "print(title.string)\n",
    "body = soup.find(id ='body').string\n",
    "print(body)\n",
    "h1 = soup.find(\"h1\").string\n",
    "print(h1)"
   ]
  },
  {
   "cell_type": "code",
   "execution_count": 150,
   "id": "7b005f91",
   "metadata": {
    "scrolled": true
   },
   "outputs": [
    {
     "name": "stdout",
     "output_type": "stream",
     "text": [
      "<a href=\"a.html\" id=\"link\">원하는 부분을 추출하는 것</a>\n",
      "원하는 부분을 추출하는 것\n",
      "{'href': 'a.html', 'id': 'link'}\n",
      "a.html\n"
     ]
    }
   ],
   "source": [
    "html = \"\"\"  \n",
    "<html><body>\n",
    "  <h1 id='title'>스크레이핑이란?</h1>\n",
    "  <p id='body'>웹 페이지를 분석하는 것</p>\n",
    "  <p><a href='a.html' id='link'>원하는 부분을 추출하는 것</a></p>\n",
    "</body></html>\n",
    "\"\"\"\n",
    "soup = BeautifulSoup(html, 'html.parser')\n",
    "a = soup.html.a\n",
    "print(a)\n",
    "print(a.string)\n",
    "attr = a.attrs\n",
    "print(attr)\n",
    "print(attr['href'])"
   ]
  },
  {
   "cell_type": "code",
   "execution_count": 155,
   "id": "b722d877",
   "metadata": {},
   "outputs": [
    {
     "name": "stdout",
     "output_type": "stream",
     "text": [
      "기상청 육상 중기예보\n",
      "○ (강수) 5월 4일(목)은 전남권과 경남권, 제주도에 비가 오겠습니다.<br />○ (기온) 이번 예보기간 아침 기온은 5~17도, 낮 기온은 16~27도로 평년(최저기온 9~14도, 최고기온 20~25도)과 비슷하겠습니다.<br /><br />* 5월 4일(목)은 기압골의 발달 정도와 이동 속도에 따라 강수시점과 구역이 변경될 가능성이 있으니, 앞으로 발표되는 최신 예보를 참고하기 바랍니다.\n"
     ]
    }
   ],
   "source": [
    "import urllib.request as req # 스크래핑\n",
    "from bs4 import BeautifulSoup # 크롤링\n",
    "url = \"http://www.kma.go.kr/weather/forecast/mid-term-rss3.jsp\"\n",
    "data = urllib.request.urlopen(url).read()\n",
    "#html = data.decode(\"utf-8\")\n",
    "soup = BeautifulSoup(data, \"html.parser\")\n",
    "#### 크롤링\n",
    "title = soup.find('title').string\n",
    "print(title)\n",
    "wf = soup.find('wf').string\n",
    "print(wf)"
   ]
  },
  {
   "cell_type": "code",
   "execution_count": 172,
   "id": "f5d49218",
   "metadata": {},
   "outputs": [
    {
     "name": "stdout",
     "output_type": "stream",
     "text": [
      "<h1>위키북스 도서</h1>\n",
      "위키북스 도서\n",
      "위키북스 도서\n",
      "위키북스 도서\n",
      "위키북스 도서\n",
      "<li>유니티 게임 이펙트 입문</li>\n",
      "<li>유니티 게임 이펙트 입문</li>\n",
      "[<li>유니티 게임 이펙트 입문</li>, <li>스위프트로 시작하는 아이폰 앱 개발 교과서</li>, <li>모던 웹사이트 디자인의 정석</li>]\n",
      "유니티 게임 이펙트 입문\n",
      "스위프트로 시작하는 아이폰 앱 개발 교과서\n",
      "모던 웹사이트 디자인의 정석\n"
     ]
    }
   ],
   "source": [
    "import urllib.request as req # 스크래핑\n",
    "from bs4 import BeautifulSoup # 크롤링\n",
    "# 스크래핑 \n",
    "text = \"\"\"\n",
    "<html><body>\n",
    "<div id=\"meigen\">\n",
    "  <h1>위키북스 도서</h1>\n",
    "  <ul class=\"items\">\n",
    "    <li>유니티 게임 이펙트 입문</li>\n",
    "    <li>스위프트로 시작하는 아이폰 앱 개발 교과서</li>\n",
    "    <li>모던 웹사이트 디자인의 정석</li>\n",
    "  </ul>\n",
    "</div>\n",
    "</body></html>\n",
    "\"\"\"\n",
    "soup = BeautifulSoup(text, \"html.parser\")\n",
    "# 크롤링\n",
    "h1 = soup.html.h1\n",
    "print(h1)\n",
    "print(h1.string)\n",
    "h11 = soup.find(\"h1\").string\n",
    "print(h11)\n",
    "### css selector(css 선택자)\n",
    "h12 = soup.select_one(\"div > h1\")\n",
    "print(h12.string)\n",
    "div = soup.select_one(\"div#meigen > h1\").string\n",
    "print(div)\n",
    "li = soup.select_one(\"div  li\")\n",
    "print(li)\n",
    "li1 = soup.select_one(\"div#meigen > ul.items > li\")\n",
    "print(li1)\n",
    "li2 = soup.select(\"div#meigen > ul.items > li\")\n",
    "print(li2)\n",
    "for str1 in li2:\n",
    "    print(str1.string)"
   ]
  },
  {
   "cell_type": "code",
   "execution_count": 179,
   "id": "0a164e42",
   "metadata": {},
   "outputs": [
    {
     "name": "stdout",
     "output_type": "stream",
     "text": [
      "1,341.00\n",
      "[<span class=\"value\">1,341.00</span>, <span class=\"value\">983.82</span>, <span class=\"value\">1,477.18</span>, <span class=\"value\">193.60</span>, <span class=\"value\">136.1500</span>, <span class=\"value\">1.1039</span>, <span class=\"value\">1.2567</span>, <span class=\"value\">101.4000</span>, <span class=\"value\">76.78</span>, <span class=\"value\">1663.0</span>, <span class=\"value\">1999.1</span>, <span class=\"value\">85428.53</span>]\n",
      "1,341.00\n",
      "983.82\n",
      "1,477.18\n",
      "193.60\n",
      "136.1500\n",
      "1.1039\n",
      "1.2567\n",
      "101.4000\n",
      "76.78\n",
      "1663.0\n",
      "1999.1\n",
      "85428.53\n"
     ]
    }
   ],
   "source": [
    "import urllib.request as req # 스크래핑\n",
    "from bs4 import BeautifulSoup # 크롤링\n",
    "##naver를 스크래핑\n",
    "url = \"http://finance.naver.com/marketindex/\"\n",
    "res  = req.urlopen(url)\n",
    "#print(res)\n",
    "## 크로링\n",
    "soup = BeautifulSoup(res, \"html.parser\")\n",
    "pri = soup.select_one(\"#exchangeList > li.on > a.head.usd > div > span.value\")\n",
    "print(pri.string)\n",
    "\n",
    "prices = soup.select(\"div span.value\")\n",
    "print(prices)\n",
    "for price in prices:\n",
    "    print(price.string)"
   ]
  },
  {
   "cell_type": "code",
   "execution_count": 205,
   "id": "53e6b392",
   "metadata": {},
   "outputs": [
    {
     "data": {
      "image/png": "[encoded data removed]",
      "text/plain": [
       "<Figure size 1200x400 with 1 Axes>"
      ]
     },
     "metadata": {},
     "output_type": "display_data"
    }
   ],
   "source": [
    "import requests #스크래핑\n",
    "from bs4 import BeautifulSoup # 크롤링\n",
    "import pandas\n",
    "import matplotlib as mpl\n",
    "import matplotlib.pyplot as plt\n",
    "url = \"https://www.weather.go.kr/w/obs-climate/land/city-obs.do\"\n",
    "source = requests.get(url) # 스크래핑\n",
    "# 크롤링 시작\n",
    "soup = BeautifulSoup(source.content, \"html.parser\")\n",
    "table = soup.find('table', {'class':'table-col'})\n",
    "\n",
    "data = []\n",
    "\n",
    "for tr in table.find_all('tr'):\n",
    "    tds = list(tr.find_all('td'))\n",
    "    for td in tds:\n",
    "        if td.find('a'):\n",
    "            point = td.find('a').text # 이름\n",
    "            temp = tds[5].string\n",
    "            humidity = tds[10].text\n",
    "            data.append([point,temp,humidity])\n",
    "####print(data)\n",
    "### 크롤링 끝\n",
    "## 크롤링한 데이터를 파일에 저장\n",
    "with open('weather.csv', 'w', encoding='utf-8') as f:\n",
    "    f.write('지역, 온도, 습도\\n')\n",
    "    for i in data:\n",
    "        f.write(\"{0},{1},{2}\\n\".format(i[0],i[1],i[2]))\n",
    "\n",
    "\n",
    "# 뷴석할 데이터 저장\n",
    "### 파일에 저장한 후 데이터 분석을 하기 위해 pandas로 불러온다.\n",
    "df = pandas.read_csv('weather.csv',index_col='지역',encoding='utf-8')\n",
    "df\n",
    "city_df = df.loc[['서울','인천','대전','대구','광주','부산','울산']]\n",
    "#print(city_df)\n",
    "\n",
    "font_name = mpl.font_manager.FontProperties(fname=\"c:\\\\windows\\\\Fonts\\\\malgun.ttf\").get_name()\n",
    "mpl.rc('font',family=font_name)\n",
    "\n",
    "ax = city_df.plot(kind='bar',title='날씨',figsize=(12,4),legend=True,fontsize=15 )\n",
    "ax.set_xlabel('도시',fontsize=15)\n",
    "ax.set_ylabel('기온/습도',fontsize=15)\n",
    "ax.legend(['기온','습도'],fontsize=15)\n",
    "plt.show()"
   ]
  },
  {
   "cell_type": "code",
   "execution_count": null,
   "id": "ca0519ad",
   "metadata": {},
   "outputs": [],
   "source": [
    "!pip install matplotlib"
   ]
  },
  {
   "cell_type": "code",
   "execution_count": null,
   "id": "c1fdeca2",
   "metadata": {},
   "outputs": [],
   "source": [
    "!pip install pandas"
   ]
  },
  {
   "cell_type": "code",
   "execution_count": null,
   "id": "72ef6dc0",
   "metadata": {},
   "outputs": [],
   "source": []
  }
 ],
 "metadata": {
  "kernelspec": {
   "display_name": "Python 3 (ipykernel)",
   "language": "python",
   "name": "python3"
  },
  "language_info": {
   "codemirror_mode": {
    "name": "ipython",
    "version": 3
   },
   "file_extension": ".py",
   "mimetype": "text/x-python",
   "name": "python",
   "nbconvert_exporter": "python",
   "pygments_lexer": "ipython3",
   "version": "3.11.2"
  }
 },
 "nbformat": 4,
 "nbformat_minor": 5
}
