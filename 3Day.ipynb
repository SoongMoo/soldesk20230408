{
 "cells": [
  {
   "cell_type": "code",
   "execution_count": 1,
   "id": "ca9f844e",
   "metadata": {},
   "outputs": [
    {
     "name": "stderr",
     "output_type": "stream",
     "text": [
      "C:\\Users\\soldesk\\AppData\\Local\\Temp\\ipykernel_14676\\1014303460.py:1: DeprecationWarning: Importing display from IPython.core.display is deprecated since IPython 7.14, please import from IPython display\n",
      "  from IPython.core.display import display, HTML\n"
     ]
    },
    {
     "data": {
      "text/html": [
       "<style>\n",
       "div.container { width:100% !important; }\n",
       "div.CodeMirror {font-family: Consolas; font-size: 30pt;}\n",
       "div.output { font-size: 20pt; font-weight: bold;}\n",
       "div.input { font-family: Consolas; font-size: 30pt;}\n",
       "div.prompt { min-width: 100px;}\n",
       "</style>\n"
      ],
      "text/plain": [
       "<IPython.core.display.HTML object>"
      ]
     },
     "metadata": {},
     "output_type": "display_data"
    }
   ],
   "source": [
    "from IPython.core.display import display, HTML\n",
    "display(HTML(\n",
    "\"\"\"<style>\n",
    "div.container { width:100% !important; }\n",
    "div.CodeMirror {font-family: Consolas; font-size: 30pt;}\n",
    "div.output { font-size: 20pt; font-weight: bold;}\n",
    "div.input { font-family: Consolas; font-size: 30pt;}\n",
    "div.prompt { min-width: 100px;}\n",
    "</style>\n",
    "\"\"\"))"
   ]
  },
  {
   "cell_type": "code",
   "execution_count": 4,
   "id": "1d44f560",
   "metadata": {},
   "outputs": [
    {
     "name": "stdout",
     "output_type": "stream",
     "text": [
      "4\n",
      "[1, 2, 3, 5, 6, 7, 8, 9]\n",
      "7\n"
     ]
    }
   ],
   "source": [
    "lotto = [1,2,3,4,5,6,7,8,9]\n",
    "#        0 1 2 3 4 5 6 7 8\n",
    "result = lotto.pop(3)\n",
    "print(result)\n",
    "print(lotto) # [1, 2, 3, 5, 6, 7, 8, 9]\n",
    "result = lotto.pop(5)\n",
    "print(result)"
   ]
  },
  {
   "cell_type": "code",
   "execution_count": 22,
   "id": "81bb22d5",
   "metadata": {},
   "outputs": [
    {
     "name": "stdout",
     "output_type": "stream",
     "text": [
      "idx : 3\n",
      "lotto :  4\n",
      "9\n",
      "8\n"
     ]
    }
   ],
   "source": [
    "import random\n",
    "lotto = [1,2,3,4,5,6,7,8,9]\n",
    "#        0 1 2 3 4 5 6 7 8\n",
    "idx=random.randint(0,8)\n",
    "print(\"idx :\" , idx)\n",
    "print(\"lotto : \" ,lotto[idx])\n",
    "print(len(lotto))\n",
    "result = lotto.pop(idx)\n",
    "print(len(lotto))\n",
    "idx=random.randint(0,7)"
   ]
  },
  {
   "cell_type": "code",
   "execution_count": 70,
   "id": "f28aefe6",
   "metadata": {},
   "outputs": [
    {
     "name": "stdout",
     "output_type": "stream",
     "text": [
      "32\n",
      "9\n",
      "4\n",
      "30\n",
      "41\n",
      "26\n"
     ]
    }
   ],
   "source": [
    "import random\n",
    "lotto = []\n",
    "i = 1\n",
    "while i <= 45:\n",
    "    lotto.append(i)\n",
    "    i+=1\n",
    "#print(lotto)\n",
    "#print(\"len(lotto) \" , len(lotto))\n",
    "size = len(lotto) #45\n",
    "y = 1\n",
    "while y <= 6:\n",
    "    size -= 1\n",
    "    idx = random.randint(0,size)\n",
    "    #print(idx)\n",
    "    lottoNum = lotto.pop(idx) # 비복원추출\n",
    "    print(lottoNum, end=\", \")\n",
    "    y+=1"
   ]
  },
  {
   "cell_type": "code",
   "execution_count": 71,
   "id": "87baba08",
   "metadata": {},
   "outputs": [
    {
     "name": "stdout",
     "output_type": "stream",
     "text": [
      "3 * 1 = 3\n",
      "3 * 2 = 6\n",
      "3 * 3 = 9\n",
      "3 * 4 = 12\n",
      "3 * 5 = 15\n",
      "3 * 6 = 18\n",
      "3 * 7 = 21\n",
      "3 * 8 = 24\n",
      "3 * 9 = 27\n"
     ]
    }
   ],
   "source": [
    "# 3단을 출력하시오\n",
    "i = 1\n",
    "while i <= 9:\n",
    "    print(f\"3 * {i} = {3 * i}\")\n",
    "    i+=1\n",
    "# 4단을 출력하시오\n",
    "i = 1\n",
    "while i <= 9:\n",
    "    print(f\"4 * {i} = {4 * i}\")\n",
    "    i+=1\n",
    "# 5단을 출력하시오\n",
    "i = 1\n",
    "while i <= 9:\n",
    "    print(f\"5 * {i} = {5 * i}\")\n",
    "    i+=1\n",
    "# 6단을 출력하시오\n",
    "i = 1\n",
    "while i <= 9:\n",
    "    print(f\"6 * {i} = {6 * i}\")\n",
    "    i+=1"
   ]
  },
  {
   "cell_type": "code",
   "execution_count": null,
   "id": "4990f79e",
   "metadata": {},
   "outputs": [],
   "source": [
    "dan = 3\n",
    "while dan <= 6:\n",
    "    i = 1\n",
    "    while i <= 9:\n",
    "        print(f\"{dan} * {i} = {dan * i}\")\n",
    "        i+=1\n",
    "    dan += 1"
   ]
  },
  {
   "cell_type": "code",
   "execution_count": null,
   "id": "89549806",
   "metadata": {},
   "outputs": [],
   "source": [
    "startDan =  int(input(\"시작단을 넣어주세요.: \"))\n",
    "endDan = int(input(\"마지막단을 넣어주세요.: \"))\n",
    "startGop = int(input(\"시작곱을 넣어주세요.: \"))\n",
    "endGop = int(input(\"마지막곱을 넣어주세요.: \"))\n",
    "dan = startDan\n",
    "while dan <= endDan:\n",
    "    i = startGop\n",
    "    while i <= endGop:\n",
    "        print(f\"{dan} * {i} = {dan * i}\")\n",
    "        i+=1\n",
    "    dan += 1"
   ]
  },
  {
   "cell_type": "code",
   "execution_count": 79,
   "id": "0ae4a8cf",
   "metadata": {},
   "outputs": [
    {
     "name": "stdout",
     "output_type": "stream",
     "text": [
      "8, 1, 14, 21, 6, 40, [2, 3, 4, 5, 7, 9, 10, 11, 12, 13, 15, 16, 17, 18, 19, 20, 22, 23, 24, 25, 26, 27, 28, 29, 30, 31, 32, 33, 34, 35, 36, 37, 38, 39, 41, 42, 43, 44, 45]\n",
      "[]\n"
     ]
    }
   ],
   "source": [
    "import random\n",
    "lotto = []\n",
    "i = 1\n",
    "while i <= 45:\n",
    "    lotto.append(i)\n",
    "    i+=1\n",
    "size = len(lotto) #45\n",
    "y = 1\n",
    "while y <= 6:\n",
    "    size -= 1\n",
    "    idx = random.randint(0,size)\n",
    "    lottoNum = lotto.pop(idx) # 비복원추출\n",
    "    print(lottoNum, end=\", \")\n",
    "    y+=1\n",
    "lotto.clear()\n"
   ]
  },
  {
   "cell_type": "code",
   "execution_count": 84,
   "id": "2243326a",
   "metadata": {},
   "outputs": [
    {
     "name": "stdout",
     "output_type": "stream",
     "text": [
      "구매숫자를 입력해주세요6\n",
      "36, 32, 27, 42, 35, 37, \n",
      "14, 5, 23, 30, 42, 45, \n",
      "26, 19, 25, 3, 36, 44, \n",
      "10, 23, 32, 17, 22, 43, \n",
      "21, 2, 42, 23, 33, 19, \n",
      "9, 7, 14, 28, 43, 29, \n"
     ]
    }
   ],
   "source": [
    "qty = int(input(\"구매숫자를 입력해주세요 : \"))\n",
    "cnt = 1\n",
    "while cnt <= qty:\n",
    "    i = 1\n",
    "    while i <= 45:\n",
    "        lotto.append(i)\n",
    "        i+=1\n",
    "    size = len(lotto) #45\n",
    "    y = 1\n",
    "    while y <= 6:\n",
    "        size -= 1\n",
    "        idx = random.randint(0,size)\n",
    "        lottoNum = lotto.pop(idx) # 비복원추출\n",
    "        print(lottoNum, end=\", \")\n",
    "        y+=1\n",
    "    lotto.clear()\n",
    "    print()\n",
    "    cnt += 1"
   ]
  },
  {
   "cell_type": "code",
   "execution_count": null,
   "id": "25b5f58e",
   "metadata": {},
   "outputs": [],
   "source": [
    "### 1 ~ 100까지의 합을 구하시오.\n",
    "i = 1\n",
    "result = 0\n",
    "result = result + 1\n",
    "result = result + 2\n",
    "result = result + 3\n",
    "result = result + 4\n",
    "result = result + 5\n",
    "result = result + 6\n",
    "result = result + 7\n",
    "...\n",
    "result = result + 100"
   ]
  },
  {
   "cell_type": "code",
   "execution_count": 86,
   "id": "71b757c9",
   "metadata": {},
   "outputs": [
    {
     "name": "stdout",
     "output_type": "stream",
     "text": [
      "5050\n"
     ]
    }
   ],
   "source": [
    "i = 1\n",
    "result = 0\n",
    "while i <= 100:\n",
    "    result += i\n",
    "    i += 1\n",
    "print(result)"
   ]
  },
  {
   "cell_type": "code",
   "execution_count": 89,
   "id": "307eefff",
   "metadata": {},
   "outputs": [
    {
     "name": "stdout",
     "output_type": "stream",
     "text": [
      "2550\n"
     ]
    }
   ],
   "source": [
    "### 1 ~ 100까지의 합 중 짝수만 구하시오.\n",
    "i = 0\n",
    "result=0\n",
    "while i < 100:\n",
    "    i += 1\n",
    "    if i % 2 != 0:\n",
    "        continue\n",
    "    result += i \n",
    "print(result)"
   ]
  },
  {
   "cell_type": "code",
   "execution_count": 93,
   "id": "2a9af6d7",
   "metadata": {},
   "outputs": [
    {
     "name": "stdout",
     "output_type": "stream",
     "text": [
      "2500\n",
      "2500\n"
     ]
    }
   ],
   "source": [
    "### 1 ~ 100까지의 합 중 홀수만 구하시오.\n",
    "i = 0\n",
    "result = 0\n",
    "while i <= 99:\n",
    "    i += 1\n",
    "    if i % 2 == 0:\n",
    "        continue\n",
    "    result += i\n",
    "print(result)\n",
    "\n",
    "i = 1\n",
    "result = 0\n",
    "while i <= 100:\n",
    "    if i % 2 != 0:\n",
    "        result += i\n",
    "    i += 1\n",
    "print(result)\n",
    "\n",
    "i = 0\n",
    "while i <= 99:\n",
    "    i += 1\n",
    "    if i % 2 != 0:\n",
    "        result += i"
   ]
  },
  {
   "cell_type": "code",
   "execution_count": 96,
   "id": "a336ec38",
   "metadata": {},
   "outputs": [
    {
     "name": "stdout",
     "output_type": "stream",
     "text": [
      "5050\n"
     ]
    }
   ],
   "source": [
    "i = 1\n",
    "result = 0\n",
    "while True:\n",
    "    if i == 101:\n",
    "        break\n",
    "    result += i\n",
    "    i += 1\n",
    "print(result)\n"
   ]
  },
  {
   "cell_type": "code",
   "execution_count": 97,
   "id": "7a56c75e",
   "metadata": {},
   "outputs": [
    {
     "name": "stdout",
     "output_type": "stream",
     "text": [
      "2500\n"
     ]
    }
   ],
   "source": [
    "### 1 ~ 100까지의 합 중 홀수만 구하시오.  True를 이용\n",
    "i = 0\n",
    "result = 0\n",
    "while True:\n",
    "    i += 1\n",
    "    if i == 101:\n",
    "        break\n",
    "    if i % 2 == 0:\n",
    "        continue   \n",
    "    result += i\n",
    "print(result)\n"
   ]
  },
  {
   "cell_type": "code",
   "execution_count": 98,
   "id": "2e0b52a4",
   "metadata": {},
   "outputs": [
    {
     "name": "stdout",
     "output_type": "stream",
     "text": [
      "421\n"
     ]
    }
   ],
   "source": [
    "# 리스트에 있는 합을 구하시오\n",
    "l = [34,76,99,45,78,89]\n",
    "#     0  1  2  3  4  5\n",
    "result = 0\n",
    "result = result + l[0]\n",
    "result = result + l[1]\n",
    "result = result + l[2]\n",
    "result = result + l[3]\n",
    "result = result + l[4]\n",
    "result = result + l[5]\n",
    "print(result)"
   ]
  },
  {
   "cell_type": "code",
   "execution_count": 101,
   "id": "2bb67890",
   "metadata": {},
   "outputs": [
    {
     "name": "stdout",
     "output_type": "stream",
     "text": [
      "421\n",
      "False\n",
      "True\n"
     ]
    }
   ],
   "source": [
    "l = [34,76,99,45,78,89]\n",
    "result = 0 \n",
    "i = 0\n",
    "while i <= 5:\n",
    "    result = result + l[i]\n",
    "    i += 1\n",
    "print(result)\n",
    "\n",
    "print(1 in l)\n",
    "print(99 in l)"
   ]
  },
  {
   "cell_type": "code",
   "execution_count": 105,
   "id": "4b2d5b2a",
   "metadata": {},
   "outputs": [
    {
     "name": "stdout",
     "output_type": "stream",
     "text": [
      "421\n",
      "\n",
      "421\n"
     ]
    }
   ],
   "source": [
    "l = [34,76,99,45,78,89]\n",
    "i = 0\n",
    "result = 0\n",
    "while i <= 5:\n",
    "    num = l[i]\n",
    "    result += num\n",
    "    i += 1\n",
    "print(result)\n",
    "\n",
    "print()\n",
    "\n",
    "result = 0 \n",
    "for num in l:\n",
    "    result += num\n",
    "print(result)"
   ]
  },
  {
   "cell_type": "code",
   "execution_count": null,
   "id": "d7fa26b6",
   "metadata": {},
   "outputs": [],
   "source": [
    "while True:\n",
    "    dan = int(input(\"단을 입력해주세요. : \"))\n",
    "    if dan >= 10:\n",
    "        print(\"프로그램이 종료되었습니다.\")\n",
    "        break\n",
    "    gop = 1\n",
    "    while gop <= 9:\n",
    "        print(f\"{dan} * {gop} = {dan * gop}\")\n",
    "        gop += 1"
   ]
  },
  {
   "cell_type": "code",
   "execution_count": 112,
   "id": "eb318002",
   "metadata": {},
   "outputs": [
    {
     "name": "stdout",
     "output_type": "stream",
     "text": [
      "1441\n"
     ]
    }
   ],
   "source": [
    "t = (23,454,76,232,656)\n",
    "result = 0 \n",
    "for num in t:\n",
    "    result += num\n",
    "print(result)"
   ]
  },
  {
   "cell_type": "code",
   "execution_count": 116,
   "id": "5ac9b271",
   "metadata": {},
   "outputs": [
    {
     "name": "stdout",
     "output_type": "stream",
     "text": [
      "5050\n",
      "5050\n"
     ]
    }
   ],
   "source": [
    "### 1 ~ 100까지의 합 중 홀수만 구하시오.\n",
    "i = 1\n",
    "result = 0\n",
    "while i <= 100:\n",
    "    result += i\n",
    "    i += 1\n",
    "print(result)\n",
    "\n",
    "result = 0\n",
    "for i in range(1,101):\n",
    "    result += i\n",
    "print(result)"
   ]
  },
  {
   "cell_type": "code",
   "execution_count": 118,
   "id": "21a1682d",
   "metadata": {},
   "outputs": [
    {
     "name": "stdout",
     "output_type": "stream",
     "text": [
      "2500\n",
      "2550\n"
     ]
    }
   ],
   "source": [
    "# 1~100까지의 합중 홀수만 더하시오.\n",
    "result = 0\n",
    "for i in range(1,101):\n",
    "    if i % 2 == 0:\n",
    "        continue\n",
    "    result += i\n",
    "print(result)\n",
    "result = 0\n",
    "for i in range(1,101):\n",
    "    if i % 2 != 0:\n",
    "        continue\n",
    "    result += i\n",
    "print(result)"
   ]
  },
  {
   "cell_type": "code",
   "execution_count": 120,
   "id": "2f76a939",
   "metadata": {},
   "outputs": [
    {
     "name": "stdout",
     "output_type": "stream",
     "text": [
      "5050\n"
     ]
    }
   ],
   "source": [
    "result = 0\n",
    "for i in range(1,1000):\n",
    "    if i == 101:\n",
    "        break\n",
    "    result += i\n",
    "print(result)"
   ]
  },
  {
   "cell_type": "code",
   "execution_count": null,
   "id": "f550c7e5",
   "metadata": {},
   "outputs": [],
   "source": [
    "t = (23,454,76,232,656)\n",
    "#     0  1   2  3   4\n",
    "i = 0\n",
    "result = 0\n",
    "size = len(t)\n",
    "while i < size:\n",
    "    result += t[i]\n",
    "print(result)\n",
    "\n",
    "for i in t:\n",
    "    result += t[i]\n",
    "print(result)"
   ]
  },
  {
   "cell_type": "code",
   "execution_count": 121,
   "id": "22ab167c",
   "metadata": {},
   "outputs": [
    {
     "name": "stdout",
     "output_type": "stream",
     "text": [
      "47.42857142857143\n"
     ]
    }
   ],
   "source": [
    "#리스트의 평균을 구하시오.\n",
    "l = [23,45,78,87,42,22,35] \n",
    "i = 0\n",
    "sum1 = 0\n",
    "size = len(l)\n",
    "while i < size:\n",
    "    sum1 += l[i]\n",
    "    i += 1\n",
    "print(sum1 / size)\n",
    "print(\"==\" * 30)\n",
    "sum1 = 0 \n",
    "for num in l:\n",
    "    sum1+=num\n",
    "print(sum1 / len(l))"
   ]
  },
  {
   "cell_type": "code",
   "execution_count": 125,
   "id": "f2c62532",
   "metadata": {},
   "outputs": [
    {
     "name": "stdout",
     "output_type": "stream",
     "text": [
      "(1, 2)\n",
      "(3, 4)\n",
      "(5, 6)\n",
      "10 30\n",
      "1 2\n",
      "3 4\n",
      "5 6\n",
      "1 2\n",
      "3 4\n",
      "5 6\n"
     ]
    }
   ],
   "source": [
    "l1 = [(1,2),(3,4),(5,6)]\n",
    "#       0     1     2\n",
    "for num in l1:\n",
    "    print(num)\n",
    "a , b = (10, 30)\n",
    "print(a, b)\n",
    "for  a, b in l1:\n",
    "    print(a , b)\n",
    "\n",
    "(a , b) = (10, 30)\n",
    "for  (a, b) in l1:\n",
    "    print(a , b)"
   ]
  },
  {
   "cell_type": "code",
   "execution_count": 130,
   "id": "bae0be11",
   "metadata": {},
   "outputs": [
    {
     "name": "stdout",
     "output_type": "stream",
     "text": [
      "[[1, 2, 3], [4, 5, 6], [7, 8, 9]]\n",
      "[1, 2, 3]\n",
      "[4, 5, 6]\n",
      "[7, 8, 9]\n",
      "1 2 3\n",
      "1 2 3\n",
      "4 5 6\n",
      "7 8 9\n",
      "1 2 3\n",
      "4 5 6\n",
      "7 8 9\n",
      "1 2 3\n",
      "4 5 6\n",
      "7 8 9\n"
     ]
    }
   ],
   "source": [
    "l1 = [[1,2,3],[4,5,6],[7,8,9]]\n",
    "print(l1)\n",
    "for num in l1:\n",
    "    print(num)\n",
    "[a,b,c] = [1,2,3]\n",
    "print(a,b,c)\n",
    "for a,b,c in l1:\n",
    "    print(a,b,c)\n",
    "    \n",
    "for (a,b,c) in l1:\n",
    "    print(a,b,c)\n",
    "    \n",
    "for [a,b,c] in l1:\n",
    "    print(a,b,c)"
   ]
  },
  {
   "cell_type": "code",
   "execution_count": 132,
   "id": "30ba266e",
   "metadata": {},
   "outputs": [
    {
     "data": {
      "text/plain": [
       "'\\nl1 = [[1,2,3],[4,5],[7,8,9]]\\nfor a,b,c in l1:\\n    print(a,b,c)\\n'"
      ]
     },
     "execution_count": 132,
     "metadata": {},
     "output_type": "execute_result"
    }
   ],
   "source": [
    "'''\n",
    "l1 = [[1,2,3],[4,5],[7,8,9]]\n",
    "for a,b,c in l1:\n",
    "    print(a,b,c)\n",
    "'''"
   ]
  },
  {
   "cell_type": "code",
   "execution_count": 134,
   "id": "2ac2e237",
   "metadata": {},
   "outputs": [
    {
     "name": "stdout",
     "output_type": "stream",
     "text": [
      "3 * 1 = 3\n",
      "3 * 2 = 6\n",
      "3 * 3 = 9\n",
      "3 * 4 = 12\n",
      "3 * 5 = 15\n",
      "3 * 6 = 18\n",
      "3 * 7 = 21\n",
      "3 * 8 = 24\n",
      "3 * 9 = 27\n",
      "============================================================\n",
      "3 * 1 = 3\n",
      "3 * 2 = 6\n",
      "3 * 3 = 9\n",
      "3 * 4 = 12\n",
      "3 * 5 = 15\n",
      "3 * 6 = 18\n",
      "3 * 7 = 21\n",
      "3 * 8 = 24\n",
      "3 * 9 = 27\n"
     ]
    }
   ],
   "source": [
    "# 3단\n",
    "gop = 1\n",
    "while gop <= 9:\n",
    "    print(f\"3 * {gop} = {3 * gop}\")\n",
    "    gop += 1\n",
    "\n",
    "print(\"==\" * 30)\n",
    "\n",
    "for gop in range(1, 1 + 9):\n",
    "    print(f\"3 * {gop} = {3 * gop}\")"
   ]
  },
  {
   "cell_type": "code",
   "execution_count": null,
   "id": "a73929bb",
   "metadata": {},
   "outputs": [],
   "source": [
    "# 3단\n",
    "for gop in range(1, 1 + 9):\n",
    "    print(f\"3 * {gop} = {3 * gop}\")\n",
    "#4단\n",
    "for gop in range(1, 1 + 9):\n",
    "    print(f\"4 * {gop} = {4 * gop}\")\n",
    "#5단\n",
    "for gop in range(1, 1 + 9):\n",
    "    print(f\"5 * {gop} = {5 * gop}\")\n",
    "#6단\n",
    "for gop in range(1, 1 + 9):\n",
    "    print(f\"6 * {gop} = {6 * gop}\")"
   ]
  },
  {
   "cell_type": "code",
   "execution_count": null,
   "id": "d0425fc4",
   "metadata": {},
   "outputs": [],
   "source": [
    "dan = 3\n",
    "while dan <= 6:\n",
    "    for gop in range(1, 1 + 9):\n",
    "        print(f\"{dan} * {gop} = {dan * gop}\")\n",
    "    dan+=1\n",
    "\n",
    "for dan in range(3, 6 + 1):\n",
    "    for gop in range(1, 1 + 9):\n",
    "        print(f\"{dan} * {gop} = {dan * gop}\")"
   ]
  },
  {
   "cell_type": "code",
   "execution_count": null,
   "id": "2baabd50",
   "metadata": {},
   "outputs": [],
   "source": [
    "startDan = int(input(\"시작단을 입력해주세요 : \"))\n",
    "endDan = int(input(\"끝단을 입력해주세요 : \"))\n",
    "startGop = int(input(\"시작곱을 입력해주세요 : \"))\n",
    "endGop = int(input(\"끝단곱을 입력해주세요 : \"))\n",
    "for dan in range(startDan, endDan + 1):\n",
    "    for gop in range(startGop, endGop + 1):\n",
    "        print(f\"{dan} * {gop} = {dan * gop}\")"
   ]
  },
  {
   "cell_type": "code",
   "execution_count": 140,
   "id": "8728be4f",
   "metadata": {},
   "outputs": [
    {
     "name": "stdout",
     "output_type": "stream",
     "text": [
      "26, 11, 30, 14, 8, 41, "
     ]
    }
   ],
   "source": [
    "import random\n",
    "lotto = []\n",
    "i = 1\n",
    "while i <= 45:\n",
    "    lotto.append(i)\n",
    "    i+=1\n",
    "size = len(lotto) #45\n",
    "y = 1\n",
    "while y <= 6:\n",
    "    size -= 1\n",
    "    idx = random.randint(0,size)\n",
    "    lottoNum = lotto.pop(idx) # 비복원추출\n",
    "    print(lottoNum, end=\", \")\n",
    "    y+=1"
   ]
  },
  {
   "cell_type": "code",
   "execution_count": 141,
   "id": "4dc03684",
   "metadata": {},
   "outputs": [
    {
     "name": "stdout",
     "output_type": "stream",
     "text": [
      "43, 2, 3, 20, 37, 23, "
     ]
    }
   ],
   "source": [
    "import random\n",
    "lotto = []\n",
    "for num in range(1, 45+ 1):\n",
    "    lotto.append(num)\n",
    "size = len(lotto)\n",
    "for i in range(6):\n",
    "    size -= 1\n",
    "    idx = random.randint(0,44)\n",
    "    lottoNum = lotto.pop(idx)\n",
    "    print(lottoNum, end=\", \")"
   ]
  },
  {
   "cell_type": "code",
   "execution_count": null,
   "id": "02b65ea3",
   "metadata": {},
   "outputs": [],
   "source": [
    "qty = int(input(\"수량을 입력해주세요. : \"))\n",
    "lotto = []\n",
    "for cnt in range(qty):\n",
    "    for num in range(1, 45+ 1):\n",
    "        lotto.append(num)\n",
    "    size = len(lotto)\n",
    "    for i in range(6):\n",
    "        size -= 1\n",
    "        idx = random.randint(0,size)\n",
    "        lottoNum = lotto.pop(idx)\n",
    "        print(lottoNum, end=\", \")\n",
    "    print()\n",
    "    lotto.clear()"
   ]
  },
  {
   "cell_type": "code",
   "execution_count": 158,
   "id": "569a95ee",
   "metadata": {},
   "outputs": [
    {
     "name": "stdout",
     "output_type": "stream",
     "text": [
      "[1, 2, 3, 4]\n",
      "[1, 2, 3, 4]\n",
      "[3, 6, 9, 12]\n",
      "[3, 6, 9, 12]\n",
      "[6, 12]\n",
      "[6, 12]\n"
     ]
    }
   ],
   "source": [
    "# 리스트를 포함한 반복문\n",
    "t = (1,2,3,4)\n",
    "l = []\n",
    "for num in t:\n",
    "    l.append(num)\n",
    "print(l)\n",
    "\n",
    "l = [num for num in t]\n",
    "print(l)\n",
    "\n",
    "#튜플에 있는 값에 3을 곱한 값을 리스트에 저장\n",
    "l = []\n",
    "for num in t:\n",
    "    l.append(num * 3)\n",
    "print(l)\n",
    "l=[num * 3 for num in t]\n",
    "print(l)\n",
    "\n",
    "#튜플에 있는 값 중 짝수만 3을 곱한 값을 리스트에 저장\n",
    "l = []\n",
    "for num in t:\n",
    "    if num % 2 == 0:\n",
    "        l.append(num * 3)\n",
    "print(l)\n",
    "l = [num *3 for num in t if num % 2 == 0]\n",
    "print(l)"
   ]
  },
  {
   "cell_type": "code",
   "execution_count": null,
   "id": "526c5b4f",
   "metadata": {},
   "outputs": [],
   "source": [
    "l =[]\n",
    "for gop in range(1, 10):\n",
    "    l.append(3 * gop)\n",
    "print(l)\n",
    "l = [3 * gop for gop in range(1, 10)]\n",
    "print(l)\n",
    "\n",
    "print()\n",
    "l = []\n",
    "for dan in range(3, 7):\n",
    "    for gop in range(1, 10):\n",
    "        l.append(dan * gop)\n",
    "print(l)\n",
    "l = [dan * gop for dan in range(3, 7) \n",
    "               for gop in range(1, 10)]\n",
    "print(l)\n",
    "\n",
    "l = []\n",
    "for dan in range(3, 7):\n",
    "    for gop in range(1, 10):\n",
    "        if gop % 2 == 0:\n",
    "            l.append(dan * gop)\n",
    "print(l)\n",
    "l=[dan * gop for dan in range(3, 7) \n",
    "             for gop in range(1, 10) if gop % 2 == 0]\n",
    "print(l)"
   ]
  },
  {
   "cell_type": "code",
   "execution_count": 168,
   "id": "8ecb1d64",
   "metadata": {},
   "outputs": [
    {
     "name": "stdout",
     "output_type": "stream",
     "text": [
      "307\n",
      "307\n",
      "307\n"
     ]
    }
   ],
   "source": [
    "marks = [90, 25, 67, 45, 80]\n",
    "sum1 = 0\n",
    "for num in marks:\n",
    "    sum1 += num\n",
    "print(sum1)\n",
    "idx = 0\n",
    "sum1 = 0\n",
    "while idx < len(marks):\n",
    "    sum1 += marks[idx]\n",
    "    idx += 1\n",
    "print(sum1)\n",
    "\n",
    "sum1 = 0\n",
    "for idx in range(len(marks)): # range(0, 5) : 0,1,2,3,4\n",
    "    sum1+=marks[idx]\n",
    "print(sum1)\n",
    "    "
   ]
  },
  {
   "cell_type": "code",
   "execution_count": 169,
   "id": "84027cc9",
   "metadata": {},
   "outputs": [],
   "source": [
    "# 함수(function) : x 값에 따라 y값이 변화하도록 만들어주는 것\n",
    "'''\n",
    "func(x) = 2x + 3일 때\n",
    "y = func(4)라면 y는 얼마입니까? y = 11\n",
    "y = func(6)이라면  y값은? y=15\n",
    "'''\n",
    "def f(x):\n",
    "    return 2 * x + 3"
   ]
  },
  {
   "cell_type": "code",
   "execution_count": null,
   "id": "0b933ccc",
   "metadata": {},
   "outputs": [],
   "source": [
    "리터널 자료형 : 정수리터널 : 10 \n",
    "               실수 리터널: 10.5 \n",
    "               문자열 리터널 : \"a\",'a',\"\"\"a\"\"\",'''a'''\n",
    "               a : 변수 , \n",
    "               a() : 함수 : print(), str(), int(), float(), input()"
   ]
  },
  {
   "cell_type": "code",
   "execution_count": 194,
   "id": "e554a800",
   "metadata": {},
   "outputs": [
    {
     "name": "stdout",
     "output_type": "stream",
     "text": [
      "4\n"
     ]
    }
   ],
   "source": [
    "import random # 모듈 : random.py\n",
    "num = random.randint(1,20) #randint()함수\n",
    "print(num)"
   ]
  },
  {
   "cell_type": "code",
   "execution_count": 171,
   "id": "f294b68c",
   "metadata": {},
   "outputs": [
    {
     "name": "stdout",
     "output_type": "stream",
     "text": [
      "15\n",
      "11\n"
     ]
    }
   ],
   "source": [
    "y = f(6)\n",
    "print(y)\n",
    "y = f(4)\n",
    "print(y)"
   ]
  },
  {
   "cell_type": "code",
   "execution_count": 172,
   "id": "5b0fdab2",
   "metadata": {},
   "outputs": [],
   "source": [
    "'''\n",
    "func(x1, x2) = 3x1 + 4x2 + 5일때\n",
    "y = func(3, 5)라면 y값은?\n",
    "x1,x2 : 가인자 , parameter\n",
    "3, 5 : 실인자 , argument\n",
    "parameter와 argument는 서로 일대일 대응을 해야 한다.\n",
    "'''\n",
    "def f(x1, x2):\n",
    "    return 3*x1 + 4*x2 + 5"
   ]
  },
  {
   "cell_type": "code",
   "execution_count": 173,
   "id": "0a645a41",
   "metadata": {},
   "outputs": [
    {
     "name": "stdout",
     "output_type": "stream",
     "text": [
      "34\n"
     ]
    }
   ],
   "source": [
    "y = f(3, 5)\n",
    "print(y)"
   ]
  },
  {
   "cell_type": "code",
   "execution_count": null,
   "id": "ffa9a8dd",
   "metadata": {},
   "outputs": [],
   "source": [
    "'''\n",
    "# 함수 정의 \n",
    "func(x1, x2) = 3x1 + 4x2 + 5\n",
    "    피호출함수\n",
    "def function명(parameter1,parameter2,parameter3,...,parameter_n):\n",
    "    명령문1\n",
    "    명령문2\n",
    "    ....\n",
    "    결과값 = 명령문_n\n",
    "    return  결과값\n",
    "\n",
    "        호출함수\n",
    "변수 =  function명(argument1,argument2,argument3,...,argument_n)\n",
    "print(변수)\n",
    "호출함수에 있는 argument는 피호출함수의 parameter에게 전달이 된다.\n",
    "'''"
   ]
  },
  {
   "cell_type": "code",
   "execution_count": 175,
   "id": "3b6c106a",
   "metadata": {},
   "outputs": [],
   "source": [
    "def sum(x1, x2): #피호출함수 : x1, x2는 parameter, 가인자.\n",
    "    return x1 + x2"
   ]
  },
  {
   "cell_type": "code",
   "execution_count": 176,
   "id": "eb0d5677",
   "metadata": {},
   "outputs": [
    {
     "name": "stdout",
     "output_type": "stream",
     "text": [
      "9\n"
     ]
    }
   ],
   "source": [
    "    #호출함수 : 3,6은 argument,  실인자, 인자.\n",
    "y = sum(3, 6) #  = 9\n",
    "print(y)"
   ]
  },
  {
   "cell_type": "code",
   "execution_count": null,
   "id": "97f1eacf",
   "metadata": {},
   "outputs": [],
   "source": [
    "# 3단 : \n",
    "for gop in range(1, 10):\n",
    "    print(f\"3 * {gop} = {3 * gop}\")\n",
    "# 5단\n",
    "for gop in range(1, 10):\n",
    "    print(f\"5 * {gop} = {5 * gop}\")\n",
    "# 9단\n",
    "for gop in range(1, 10):\n",
    "    print(f\"9 * {gop} = {9 * gop}\")"
   ]
  },
  {
   "cell_type": "code",
   "execution_count": 178,
   "id": "b238d9e6",
   "metadata": {},
   "outputs": [],
   "source": [
    "def gugudan(dan): # 피호출함수 :dan은 parameter , 매개변수\n",
    "    for gop in range(1, 10):\n",
    "        print(f\"{dan} * {gop} = {dan * gop}\")"
   ]
  },
  {
   "cell_type": "code",
   "execution_count": null,
   "id": "6c357e9d",
   "metadata": {},
   "outputs": [],
   "source": [
    "gugudan(3) #  호출함수 : 3은 argument \n",
    "gugudan(5)\n",
    "gugudan(9)"
   ]
  },
  {
   "cell_type": "code",
   "execution_count": 189,
   "id": "fd49d724",
   "metadata": {},
   "outputs": [],
   "source": [
    "# 함수를 정의하는 4가지 방식\n",
    "#1. 입력값(x)이 있고 결과값(return)이 있는 경우\n",
    "#   일반적인 형식\n",
    "def add(x1, x2):\n",
    "    result = x1 + x2\n",
    "    return  result"
   ]
  },
  {
   "cell_type": "code",
   "execution_count": 190,
   "id": "2b36e678",
   "metadata": {},
   "outputs": [
    {
     "name": "stdout",
     "output_type": "stream",
     "text": [
      "숫자를 입력해주세요 : 3\n",
      "숫자를 입력해주세요 : 5\n",
      "8\n"
     ]
    }
   ],
   "source": [
    "i1 = int(input(\"숫자를 입력해주세요 : \")) \n",
    "i2 = int(input(\"숫자를 입력해주세요 : \")) \n",
    "y = add(i1, i2)\n",
    "print(y)"
   ]
  },
  {
   "cell_type": "code",
   "execution_count": 191,
   "id": "0a867909",
   "metadata": {},
   "outputs": [],
   "source": [
    "# 2.입력값은 없고 결과값이 있는 경우\n",
    "def add():\n",
    "    x1 = int(input(\"숫자를 입력해주세요 : \")) \n",
    "    x2 = int(input(\"숫자를 입력해주세요 : \")) \n",
    "    result = x1 + x2\n",
    "    return result"
   ]
  },
  {
   "cell_type": "code",
   "execution_count": 192,
   "id": "ee3af78a",
   "metadata": {},
   "outputs": [
    {
     "name": "stdout",
     "output_type": "stream",
     "text": [
      "숫자를 입력해주세요 : 3\n",
      "숫자를 입력해주세요 : 5\n",
      "8\n"
     ]
    }
   ],
   "source": [
    "y = add()\n",
    "print(y)"
   ]
  },
  {
   "cell_type": "code",
   "execution_count": 195,
   "id": "3b1cc671",
   "metadata": {},
   "outputs": [],
   "source": [
    "# 3.입력값은 있고 결과값이 없는 경우\n",
    "def add(x1, x2):\n",
    "    print(x1 + x2)"
   ]
  },
  {
   "cell_type": "code",
   "execution_count": 196,
   "id": "69141efa",
   "metadata": {},
   "outputs": [
    {
     "name": "stdout",
     "output_type": "stream",
     "text": [
      "8\n"
     ]
    }
   ],
   "source": [
    "add(3, 5)"
   ]
  },
  {
   "cell_type": "code",
   "execution_count": 199,
   "id": "9275073c",
   "metadata": {},
   "outputs": [],
   "source": [
    "#4.입력값이 없고 결과값도 없는 경우\n",
    "def add():\n",
    "    x1 = int(input(\"숫자를 입력해주세요\"))\n",
    "    x2 = int(input(\"숫자를 입력해주세요\"))\n",
    "    print(x1 + x2)\n",
    "#결과값이 있는 경우는 결과값이 하나인 경우에만 사용 가능하다."
   ]
  },
  {
   "cell_type": "code",
   "execution_count": 200,
   "id": "eea96d6c",
   "metadata": {},
   "outputs": [
    {
     "name": "stdout",
     "output_type": "stream",
     "text": [
      "숫자를 입력해주세요3\n",
      "숫자를 입력해주세요5\n",
      "8\n"
     ]
    }
   ],
   "source": [
    "add()"
   ]
  },
  {
   "cell_type": "code",
   "execution_count": 203,
   "id": "371b6775",
   "metadata": {},
   "outputs": [],
   "source": [
    "# 반복적으로 사용해야 하는 코드가 있는 경우\n",
    "def lotto():\n",
    "    qty = int(input(\"수량을 입력해주세요. : \"))\n",
    "    lotto = []\n",
    "    for cnt in range(qty):\n",
    "        for num in range(1, 45+ 1):\n",
    "            lotto.append(num)\n",
    "        size = len(lotto)\n",
    "        for i in range(6):\n",
    "            size -= 1\n",
    "            idx = random.randint(0,size)\n",
    "            lottoNum = lotto.pop(idx)\n",
    "            print(lottoNum, end=\", \")\n",
    "        print()\n",
    "        lotto.clear()"
   ]
  },
  {
   "cell_type": "code",
   "execution_count": 204,
   "id": "ea3bcf56",
   "metadata": {},
   "outputs": [
    {
     "name": "stdout",
     "output_type": "stream",
     "text": [
      "수량을 입력해주세요. : 1\n",
      "24, 42, 33, 43, 35, 11, \n"
     ]
    }
   ],
   "source": [
    "lotto()"
   ]
  },
  {
   "cell_type": "code",
   "execution_count": 205,
   "id": "042e2ccd",
   "metadata": {},
   "outputs": [
    {
     "name": "stdout",
     "output_type": "stream",
     "text": [
      "수량을 입력해주세요. : 4\n",
      "32, 35, 9, 20, 39, 22, \n",
      "12, 16, 20, 36, 45, 34, \n",
      "40, 9, 15, 45, 28, 6, \n",
      "44, 27, 19, 11, 28, 6, \n"
     ]
    }
   ],
   "source": [
    "lotto()"
   ]
  },
  {
   "cell_type": "code",
   "execution_count": 207,
   "id": "d976fc70",
   "metadata": {},
   "outputs": [],
   "source": [
    "def lotto(qty):\n",
    "    lotto = []\n",
    "    for cnt in range(qty):\n",
    "        for num in range(1, 45+ 1):\n",
    "            lotto.append(num)\n",
    "        size = len(lotto)\n",
    "        for i in range(6):\n",
    "            size -= 1\n",
    "            idx = random.randint(0,size)\n",
    "            lottoNum = lotto.pop(idx)\n",
    "            print(lottoNum, end=\", \")\n",
    "        print()\n",
    "        lotto.clear()"
   ]
  },
  {
   "cell_type": "code",
   "execution_count": 208,
   "id": "c6f409fa",
   "metadata": {},
   "outputs": [
    {
     "name": "stdout",
     "output_type": "stream",
     "text": [
      "수량을 입력해주세요. : 5\n",
      "20, 3, 27, 23, 12, 18, \n",
      "21, 14, 38, 28, 6, 10, \n",
      "3, 16, 34, 2, 32, 23, \n",
      "25, 12, 10, 23, 38, 26, \n",
      "19, 1, 28, 34, 40, 20, \n"
     ]
    }
   ],
   "source": [
    "x1 = int(input(\"수량을 입력해주세요. : \"))\n",
    "lotto(x1)"
   ]
  },
  {
   "cell_type": "code",
   "execution_count": 209,
   "id": "d0c3b826",
   "metadata": {},
   "outputs": [],
   "source": [
    "def lotto():\n",
    "    lotto = []\n",
    "    for num in range(1, 45+ 1):\n",
    "        lotto.append(num)\n",
    "    size = len(lotto)\n",
    "    lottoNum = []\n",
    "    for i in range(6):\n",
    "        size -= 1\n",
    "        idx = random.randint(0,size)\n",
    "        lottoNum.append(lotto.pop(idx))\n",
    "    return lottoNum"
   ]
  },
  {
   "cell_type": "code",
   "execution_count": 212,
   "id": "05d4021e",
   "metadata": {},
   "outputs": [
    {
     "name": "stdout",
     "output_type": "stream",
     "text": [
      "[32, 20, 16, 37, 5, 9]\n",
      "[29, 6, 15, 20, 25, 3]\n",
      "[38, 10, 22, 41, 27, 20]\n",
      "[19, 12, 29, 23, 41, 15]\n",
      "[25, 40, 12, 31, 1, 35]\n",
      "[19, 27, 29, 5, 11, 40]\n"
     ]
    }
   ],
   "source": [
    "result = lotto();\n",
    "print(result)"
   ]
  },
  {
   "cell_type": "code",
   "execution_count": 211,
   "id": "af6bc22a",
   "metadata": {},
   "outputs": [
    {
     "name": "stdout",
     "output_type": "stream",
     "text": [
      "숫자를 입력해 주세요5\n",
      "[15, 16, 34, 41, 33, 18]\n",
      "[13, 36, 19, 6, 3, 15]\n",
      "[23, 31, 15, 9, 19, 10]\n",
      "[22, 4, 37, 19, 24, 15]\n",
      "[20, 40, 32, 8, 45, 5]\n"
     ]
    }
   ],
   "source": [
    "cnt = int(input(\"숫자를 입력해 주세요\"))\n",
    "for i in range(cnt):\n",
    "    result = lotto();\n",
    "    print(result)"
   ]
  },
  {
   "cell_type": "code",
   "execution_count": 213,
   "id": "0999ffd8",
   "metadata": {},
   "outputs": [],
   "source": [
    "def lottoCnt():\n",
    "    cnt = int(input(\"숫자를 입력해 주세요\"))\n",
    "    for i in range(cnt):\n",
    "        result = lotto();\n",
    "        print(result)"
   ]
  },
  {
   "cell_type": "code",
   "execution_count": 214,
   "id": "48ab305b",
   "metadata": {},
   "outputs": [
    {
     "name": "stdout",
     "output_type": "stream",
     "text": [
      "숫자를 입력해 주세요4\n",
      "[36, 32, 5, 8, 44, 11]\n",
      "[38, 40, 29, 22, 3, 6]\n",
      "[26, 17, 13, 44, 42, 14]\n",
      "[29, 11, 20, 37, 25, 42]\n"
     ]
    }
   ],
   "source": [
    "lottoCnt()"
   ]
  },
  {
   "cell_type": "code",
   "execution_count": 215,
   "id": "40f190c3",
   "metadata": {},
   "outputs": [
    {
     "name": "stdout",
     "output_type": "stream",
     "text": [
      "5050\n"
     ]
    }
   ],
   "source": [
    "# 1~100, 20 ~200, 1 ~ 1000까지의 합을 구하시요.\n",
    "start = 1\n",
    "end = 100\n",
    "sum1 = 0\n",
    "for num in range(start , 1 + end ):\n",
    "    sum1+=num\n",
    "print(sum1)"
   ]
  },
  {
   "cell_type": "code",
   "execution_count": 216,
   "id": "16dab3a3",
   "metadata": {},
   "outputs": [
    {
     "name": "stdout",
     "output_type": "stream",
     "text": [
      "19910\n"
     ]
    }
   ],
   "source": [
    "start = 20\n",
    "end = 200\n",
    "sum1 = 0\n",
    "for num in range(start , 1 + end ):\n",
    "    sum1+=num\n",
    "print(sum1)"
   ]
  },
  {
   "cell_type": "code",
   "execution_count": 217,
   "id": "82431118",
   "metadata": {},
   "outputs": [
    {
     "name": "stdout",
     "output_type": "stream",
     "text": [
      "500500\n"
     ]
    }
   ],
   "source": [
    "start = 1\n",
    "end = 1000\n",
    "sum1 = 0\n",
    "for num in range(start , 1 + end ):\n",
    "    sum1+=num\n",
    "print(sum1)"
   ]
  },
  {
   "cell_type": "code",
   "execution_count": 220,
   "id": "46ad28b7",
   "metadata": {},
   "outputs": [],
   "source": [
    "def sum12(start, end): # 입력값이 있고 결과값이 있는 함수\n",
    "    sum1 = 0\n",
    "    for num in range(start , 1 + end ):\n",
    "        sum1+=num\n",
    "    return sum1"
   ]
  },
  {
   "cell_type": "code",
   "execution_count": 221,
   "id": "2c8a766d",
   "metadata": {},
   "outputs": [
    {
     "name": "stdout",
     "output_type": "stream",
     "text": [
      "5050\n",
      "19910\n"
     ]
    }
   ],
   "source": [
    "y = sum12(1, 100)\n",
    "print(y)\n",
    "y = sum12(20, 200)\n",
    "print(y)"
   ]
  },
  {
   "cell_type": "code",
   "execution_count": 223,
   "id": "bd33ea0a",
   "metadata": {},
   "outputs": [],
   "source": [
    "def sum12(start, end): # 입력값이 있고 결과값이 없는 함수\n",
    "    sum1 = 0\n",
    "    for num in range(start , 1 + end ):\n",
    "        sum1+=num\n",
    "    print(sum1)\n",
    "    "
   ]
  },
  {
   "cell_type": "code",
   "execution_count": 231,
   "id": "b1394ce6",
   "metadata": {},
   "outputs": [
    {
     "name": "stdout",
     "output_type": "stream",
     "text": [
      "2000999\n",
      "5050\n",
      "5050\n",
      "5050\n",
      "5050\n"
     ]
    }
   ],
   "source": [
    "sum12(2, 2000)\n",
    "sum12(1, 100)\n",
    "sum12(start = 1, end = 100)\n",
    "sum12(end = 100, start = 1)\n",
    "sum12(1, end = 100)"
   ]
  },
  {
   "cell_type": "code",
   "execution_count": 232,
   "id": "a2512386",
   "metadata": {},
   "outputs": [],
   "source": [
    "def sum12(a,b,c,d):\n",
    "    print(a + b+ c +d)"
   ]
  },
  {
   "cell_type": "code",
   "execution_count": 235,
   "id": "1846ecd7",
   "metadata": {},
   "outputs": [
    {
     "name": "stdout",
     "output_type": "stream",
     "text": [
      "239\n",
      "45\n",
      "100, "
     ]
    }
   ],
   "source": [
    "# parameter이름을 이용해서 값을 전달\n",
    "sum12(10, c = 199, b = 20, d =10)\n",
    "sum12(19, 20, d = 4, c= 2)\n",
    "print(100 , end =\", \")"
   ]
  },
  {
   "cell_type": "code",
   "execution_count": 244,
   "id": "85942c7a",
   "metadata": {},
   "outputs": [],
   "source": [
    "def sum11(* para): # 매개변수에 *연산자를 사용하면 매개변수를 튜플로 사용\n",
    "    print(para)\n",
    "    result = 0\n",
    "    for num in para:\n",
    "        result += num\n",
    "    print(result)"
   ]
  },
  {
   "cell_type": "code",
   "execution_count": 245,
   "id": "92115cd0",
   "metadata": {},
   "outputs": [
    {
     "name": "stdout",
     "output_type": "stream",
     "text": [
      "(1, 2)\n",
      "3\n",
      "(1, 2, 3)\n",
      "6\n",
      "(1, 2, 3, 4, 5)\n",
      "15\n",
      "(1, 2, 3, 4, 5, 6)\n",
      "(1, 2, 3, 4, 5, 6)\n",
      "(1, 2)\n",
      "(1, 2, 3)\n",
      "(1, 2, 3, 4, 5)\n"
     ]
    }
   ],
   "source": [
    "sum11(1,2)\n",
    "sum11(1,2,3)\n",
    "sum11(1,2,3,4,5)\n",
    "\n",
    "t = (1,2,3,4,5,6)\n",
    "print(t)\n",
    "t1 = 1,2,3,4,5,6\n",
    "print(t1)\n",
    "t = 1,2\n",
    "print(t)\n",
    "t = 1,2,3\n",
    "print(t)\n",
    "t = 1,2,3,4,5\n",
    "print(t)"
   ]
  },
  {
   "cell_type": "code",
   "execution_count": 253,
   "id": "83c73ce7",
   "metadata": {},
   "outputs": [],
   "source": [
    "def sum11(*para1):\n",
    "    result = 1\n",
    "    if para1[0] == \"add\":\n",
    "        for idx in range(1,len(para1)):\n",
    "            result += para1[idx]\n",
    "    elif para1[0] == \"sub\":\n",
    "        for idx in range(1,len(para1)):\n",
    "            result -= para1[idx]\n",
    "    elif para1[0] == \"mul\":\n",
    "        for idx in range(1,len(para1)):\n",
    "            result *= para1[idx]\n",
    "    print(result)"
   ]
  },
  {
   "cell_type": "code",
   "execution_count": 252,
   "id": "a0dc7484",
   "metadata": {},
   "outputs": [
    {
     "name": "stdout",
     "output_type": "stream",
     "text": [
      "4\n",
      "6\n",
      "-14\n"
     ]
    }
   ],
   "source": [
    "sum11(\"add\",1,2)\n",
    "sum11(\"mul\",1,2,3)\n",
    "sum11(\"sub\",1,2,3,4,5)"
   ]
  },
  {
   "cell_type": "code",
   "execution_count": 246,
   "id": "e92e5cd8",
   "metadata": {},
   "outputs": [
    {
     "name": "stdout",
     "output_type": "stream",
     "text": [
      "('add', 1, 2)\n"
     ]
    }
   ],
   "source": [
    "t = \"add\",1,2\n",
    "print(t)"
   ]
  },
  {
   "cell_type": "code",
   "execution_count": 258,
   "id": "df6a29c9",
   "metadata": {},
   "outputs": [],
   "source": [
    "def sum11(opt, *para1):\n",
    "    result1 = 1\n",
    "    if opt == \"add\":\n",
    "        for num in para1:\n",
    "            result1 += num\n",
    "    elif opt == \"sub\":\n",
    "        for num in para1:\n",
    "            result1 -= num\n",
    "    elif opt == \"mul\":\n",
    "        for num in para1:\n",
    "            result1 *= num\n",
    "    else:\n",
    "        for num in para1:\n",
    "            result1 /= num\n",
    "    print(result1)"
   ]
  },
  {
   "cell_type": "code",
   "execution_count": 259,
   "id": "67fca1ec",
   "metadata": {},
   "outputs": [
    {
     "name": "stdout",
     "output_type": "stream",
     "text": [
      "4\n",
      "6\n",
      "-14\n"
     ]
    }
   ],
   "source": [
    "sum11(\"add\",1,2)\n",
    "sum11(\"mul\",1,2,3)\n",
    "sum11(\"sub\",1,2,3,4,5)"
   ]
  },
  {
   "cell_type": "code",
   "execution_count": 264,
   "id": "7dac3a56",
   "metadata": {},
   "outputs": [],
   "source": [
    "def add_mul(x, y):\n",
    "    i = x + y\n",
    "    j = x * y\n",
    "    return i, j"
   ]
  },
  {
   "cell_type": "code",
   "execution_count": 267,
   "id": "a32cee60",
   "metadata": {},
   "outputs": [
    {
     "name": "stdout",
     "output_type": "stream",
     "text": [
      "(1, 2)\n",
      "(1, 2)\n",
      "(8, 15)\n",
      "23\n"
     ]
    }
   ],
   "source": [
    "t = 1, 2\n",
    "print(t)\n",
    "x = 1\n",
    "y = 2\n",
    "t = x, y\n",
    "print(t)\n",
    "result = add_mul(3, 5)\n",
    "print(result)\n",
    "print(result[0] + result[1])"
   ]
  },
  {
   "cell_type": "code",
   "execution_count": 269,
   "id": "197e880e",
   "metadata": {},
   "outputs": [],
   "source": [
    "def add_mul(x, y):\n",
    "    i = x + y\n",
    "    j = x * y\n",
    "    return i # return문은 하나만 사용이 가능하다. return은 함수를 종료\n",
    "    return j"
   ]
  },
  {
   "cell_type": "code",
   "execution_count": 270,
   "id": "c8a43a89",
   "metadata": {},
   "outputs": [
    {
     "name": "stdout",
     "output_type": "stream",
     "text": [
      "8\n"
     ]
    }
   ],
   "source": [
    "result = add_mul(3, 5)\n",
    "print(result)"
   ]
  },
  {
   "cell_type": "code",
   "execution_count": 271,
   "id": "4c138ffc",
   "metadata": {},
   "outputs": [],
   "source": [
    "#### 매개변수에 초깃값 미리 설정하기 \n",
    "def say_myself(name, old, man):\n",
    "    print(\"나의 이름은 %s입니다\" %  name)\n",
    "    print(\"나의 나이는 %d입니다.\"% old)\n",
    "    if man:\n",
    "        print(\"남자입니다.\")\n",
    "    else:\n",
    "        print(\"여자입니다.\")"
   ]
  },
  {
   "cell_type": "code",
   "execution_count": 275,
   "id": "f81a4031",
   "metadata": {},
   "outputs": [
    {
     "name": "stdout",
     "output_type": "stream",
     "text": [
      "나의 이름은 이숭무입니다\n",
      "나의 나이는 35입니다.\n",
      "남자입니다.\n",
      "나의 이름은 이숭무입니다\n",
      "나의 나이는 35입니다.\n",
      "남자입니다.\n"
     ]
    }
   ],
   "source": [
    "say_myself(\"이숭무\", 35, True)\n",
    "say_myself(old=35, man=True, name=\"이숭무\")"
   ]
  },
  {
   "cell_type": "code",
   "execution_count": 276,
   "id": "d7f5fa7e",
   "metadata": {},
   "outputs": [],
   "source": [
    "def say_myself(name, old, man=True):\n",
    "    print(\"나의 이름은 %s입니다\" %  name)\n",
    "    print(\"나의 나이는 %d입니다.\"% old)\n",
    "    if man:\n",
    "        print(\"남자입니다.\")\n",
    "    else:\n",
    "        print(\"여자입니다.\")"
   ]
  },
  {
   "cell_type": "code",
   "execution_count": 279,
   "id": "f6f51bfd",
   "metadata": {},
   "outputs": [
    {
     "name": "stdout",
     "output_type": "stream",
     "text": [
      "나의 이름은 이숭무입니다\n",
      "나의 나이는 35입니다.\n",
      "남자입니다.\n",
      "나의 이름은 이숭무입니다\n",
      "나의 나이는 35입니다.\n",
      "남자입니다.\n",
      "나의 이름은 아이유입니다\n",
      "나의 나이는 29입니다.\n",
      "여자입니다.\n"
     ]
    }
   ],
   "source": [
    "say_myself(\"이숭무\", 35, True)\n",
    "say_myself(\"이숭무\", 35)\n",
    "say_myself(\"아이유\", 29, False)"
   ]
  },
  {
   "cell_type": "code",
   "execution_count": 283,
   "id": "c120a31c",
   "metadata": {},
   "outputs": [
    {
     "ename": "SyntaxError",
     "evalue": "non-default argument follows default argument (3074980091.py, line 1)",
     "output_type": "error",
     "traceback": [
      "\u001b[1;36m  Cell \u001b[1;32mIn[283], line 1\u001b[1;36m\u001b[0m\n\u001b[1;33m    def say_myself(name, old=25, man):\u001b[0m\n\u001b[1;37m                                 ^\u001b[0m\n\u001b[1;31mSyntaxError\u001b[0m\u001b[1;31m:\u001b[0m non-default argument follows default argument\n"
     ]
    }
   ],
   "source": [
    "def say_myself(name, old=25, man=True):\n",
    "    print(\"나의 이름은 %s입니다\" %  name)\n",
    "    print(\"나의 나이는 %d입니다.\"% old)\n",
    "    if man:\n",
    "        print(\"남자입니다.\")\n",
    "    else:\n",
    "        print(\"여자입니다.\")"
   ]
  },
  {
   "cell_type": "code",
   "execution_count": 286,
   "id": "011af38d",
   "metadata": {},
   "outputs": [
    {
     "name": "stdout",
     "output_type": "stream",
     "text": [
      "나의 이름은 이숭무입니다\n",
      "나의 나이는 25입니다.\n",
      "남자입니다.\n",
      "나의 이름은 이숭무입니다\n",
      "나의 나이는 20입니다.\n",
      "여자입니다.\n"
     ]
    }
   ],
   "source": [
    "say_myself(\"이숭무\")\n",
    "say_myself(\"이숭무\", False) # old에게 False값이 전달"
   ]
  },
  {
   "cell_type": "code",
   "execution_count": 308,
   "id": "0c7946b0",
   "metadata": {},
   "outputs": [],
   "source": [
    "#전역변수 : 프로그램 전체에서 사용 가능한 변수, 함수밖에 있는 변수\n",
    "#지역변수 : 함수안에서만 사용가능한 변수\n",
    "b = 1 # 전역변수\n",
    "def test3():\n",
    "    b = 100 # 지역변수\n",
    "    cccc = 1000\n",
    "    print(\"함수 안에 있는 변수 :\" , cccc)\n",
    "    print(\"함수 안에 있는 변수 :\" , b)"
   ]
  },
  {
   "cell_type": "code",
   "execution_count": 310,
   "id": "b0d2abed",
   "metadata": {},
   "outputs": [
    {
     "name": "stdout",
     "output_type": "stream",
     "text": [
      "함수 밖에 있는 변수 :  1\n",
      "함수 안에 있는 변수 : 1000\n",
      "함수 안에 있는 변수 : 100\n",
      "함수 밖에 있는 변수 :  1\n"
     ]
    }
   ],
   "source": [
    "print(\"함수 밖에 있는 변수 : \" , b) # 전역변수\n",
    "test3()\n",
    "print(\"함수 밖에 있는 변수 : \" , b)\n",
    "# print(cccc) : 지역변수는 함수 안에서만 사용 가능하다.\n",
    "# 전역변수와 지역변수의 이름이 같은 경우에는 지역변수가 우선하므로\n",
    "# 함수 안에서는 전역변수를 사용할 수 없다."
   ]
  },
  {
   "cell_type": "code",
   "execution_count": 312,
   "id": "1ac6a0da",
   "metadata": {},
   "outputs": [],
   "source": [
    "# 함수안에 있는 변수가 전역변수임을 나타내줘야 한다.\n",
    "b = 1 # 전역변수\n",
    "def test3():\n",
    "    global b\n",
    "    b = 100 # 전역변수\n",
    "    cccc = 10000\n",
    "    print(b)"
   ]
  },
  {
   "cell_type": "code",
   "execution_count": 314,
   "id": "94389c25",
   "metadata": {},
   "outputs": [
    {
     "name": "stdout",
     "output_type": "stream",
     "text": [
      "함수 밖에 있는 변수 :  100\n",
      "100\n",
      "함수 밖에 있는 변수 :  100\n"
     ]
    }
   ],
   "source": [
    "print(\"함수 밖에 있는 변수 : \", b)\n",
    "test3()\n",
    "print(\"함수 밖에 있는 변수 : \", b)\n",
    "# print(\"함수 안에 있는 변수 : \", cccc)"
   ]
  },
  {
   "cell_type": "code",
   "execution_count": 316,
   "id": "cd754c23",
   "metadata": {},
   "outputs": [],
   "source": [
    "### lambda함수\n",
    "def add(a, b):\n",
    "    return a + b"
   ]
  },
  {
   "cell_type": "code",
   "execution_count": 318,
   "id": "b6ffa056",
   "metadata": {},
   "outputs": [
    {
     "name": "stdout",
     "output_type": "stream",
     "text": [
      "7\n"
     ]
    }
   ],
   "source": [
    "result = add(3, 4)\n",
    "print(result)"
   ]
  },
  {
   "cell_type": "code",
   "execution_count": 320,
   "id": "5be0da1a",
   "metadata": {},
   "outputs": [],
   "source": [
    "add = lambda a, b : a + b"
   ]
  },
  {
   "cell_type": "code",
   "execution_count": 321,
   "id": "8bf39a1d",
   "metadata": {},
   "outputs": [
    {
     "name": "stdout",
     "output_type": "stream",
     "text": [
      "7\n"
     ]
    }
   ],
   "source": [
    "result = add(3, 4)\n",
    "print(result)"
   ]
  },
  {
   "cell_type": "code",
   "execution_count": null,
   "id": "76696ba2",
   "metadata": {},
   "outputs": [],
   "source": [
    "def add(a, b=4):\n",
    "    return a + b"
   ]
  },
  {
   "cell_type": "code",
   "execution_count": 323,
   "id": "6682c068",
   "metadata": {},
   "outputs": [],
   "source": [
    "add = lambda a, b=4 : a + b"
   ]
  },
  {
   "cell_type": "code",
   "execution_count": 325,
   "id": "eed7ec61",
   "metadata": {},
   "outputs": [
    {
     "name": "stdout",
     "output_type": "stream",
     "text": [
      "7\n"
     ]
    }
   ],
   "source": [
    "result = add(3, 4)\n",
    "print(result)"
   ]
  },
  {
   "cell_type": "code",
   "execution_count": 331,
   "id": "ebd60216",
   "metadata": {},
   "outputs": [],
   "source": [
    "def calu(opt , a, b):\n",
    "    if opt == \"add\":\n",
    "        return a + b\n",
    "    else:\n",
    "        return a - b"
   ]
  },
  {
   "cell_type": "code",
   "execution_count": 332,
   "id": "f2127698",
   "metadata": {},
   "outputs": [
    {
     "name": "stdout",
     "output_type": "stream",
     "text": [
      "10\n"
     ]
    }
   ],
   "source": [
    "result = calu(\"add\", 4, 6)\n",
    "print(result)"
   ]
  },
  {
   "cell_type": "code",
   "execution_count": 333,
   "id": "d5dfbfd0",
   "metadata": {},
   "outputs": [],
   "source": [
    "calu = lambda opt , a, b : a + b if opt == \"add\" else a - b"
   ]
  },
  {
   "cell_type": "code",
   "execution_count": 334,
   "id": "29495aab",
   "metadata": {},
   "outputs": [
    {
     "name": "stdout",
     "output_type": "stream",
     "text": [
      "10\n"
     ]
    }
   ],
   "source": [
    "result = calu(\"add\", 4, 6)\n",
    "print(result)"
   ]
  },
  {
   "cell_type": "code",
   "execution_count": 335,
   "id": "fc560859",
   "metadata": {},
   "outputs": [],
   "source": [
    "def calu(opt , a, b):\n",
    "    if opt == \"add\":\n",
    "        return a + b\n",
    "    else:\n",
    "        if opt == \"sub\":\n",
    "            return a - b\n",
    "        else:\n",
    "            if opt == \"mul\":\n",
    "                return a * b\n",
    "            else:\n",
    "                return a / b"
   ]
  },
  {
   "cell_type": "code",
   "execution_count": 336,
   "id": "716e7f10",
   "metadata": {},
   "outputs": [
    {
     "name": "stdout",
     "output_type": "stream",
     "text": [
      "10\n"
     ]
    }
   ],
   "source": [
    "result = calu(\"add\", 4, 6)\n",
    "print(result)"
   ]
  },
  {
   "cell_type": "code",
   "execution_count": 338,
   "id": "8e904bbc",
   "metadata": {},
   "outputs": [],
   "source": [
    "calu = lambda opt , a, b : a + b if opt == \"add\" else(\n",
    "                           a - b if opt == \"sub\" else(\n",
    "                           a * b if opt == \"mul\" else a / b\n",
    "                           )\n",
    ")"
   ]
  },
  {
   "cell_type": "code",
   "execution_count": 339,
   "id": "16eef0b4",
   "metadata": {},
   "outputs": [
    {
     "name": "stdout",
     "output_type": "stream",
     "text": [
      "10\n"
     ]
    }
   ],
   "source": [
    "result = calu(\"add\", 4, 6)\n",
    "print(result)"
   ]
  },
  {
   "cell_type": "code",
   "execution_count": 347,
   "id": "7d093a2a",
   "metadata": {},
   "outputs": [],
   "source": [
    "## 파일 입출력\n",
    "### 데이터를 파일에 저장하거나 파일에 있는 내용을 가지고 오는 것\n",
    "## 파일에 데이터 저장\n",
    "#f = open(\"C:/Users/soldesk/python20230408/test.txt\", \"w\")\n",
    "#open(file, mode='r', buffering=None, encoding=None, errors=None, newline=None, closefd=True):\n",
    "f = open(\"test.txt\",'r', encoding = \"utf-8\" )\n",
    "f.write(\"1번째줄입니다.\\n\")\n",
    "f.write(\"2번째줄입니다.\\n\")\n",
    "f.write(\"3번째줄입니다.\\n\")\n",
    "f.write(\"4번째줄입니다.\\n\")\n",
    "f.write(\"5번째줄입니다.\\n\")\n",
    "f.close()"
   ]
  },
  {
   "cell_type": "code",
   "execution_count": 348,
   "id": "20f14ff1",
   "metadata": {},
   "outputs": [],
   "source": [
    "f = open(\"test.txt\",\"w\", encoding = \"utf-8\")\n",
    "f.write(\"6번째줄입니다.\\n\")\n",
    "f.write(\"7번째줄입니다.\\n\")\n",
    "f.write(\"8번째줄입니다.\\n\")\n",
    "f.write(\"9번째줄입니다.\\n\")\n",
    "f.write(\"10번째줄입니다.\\n\")\n",
    "f.close()"
   ]
  },
  {
   "cell_type": "code",
   "execution_count": 349,
   "id": "03a9b876",
   "metadata": {},
   "outputs": [],
   "source": [
    "f = open(\"test.txt\",\"w\", encoding = \"utf-8\")\n",
    "for i in range(1,11):\n",
    "    f.write(f\"{i}번째줄입니다.\\n\")\n",
    "f.close()"
   ]
  },
  {
   "cell_type": "code",
   "execution_count": 350,
   "id": "6c13fa72",
   "metadata": {},
   "outputs": [],
   "source": [
    "f = open(\"test.txt\",\"a\", encoding = \"utf-8\")\n",
    "for i in range(11,21):\n",
    "    f.write(f\"{i}번째줄입니다.\\n\")\n",
    "f.close()"
   ]
  },
  {
   "cell_type": "code",
   "execution_count": 354,
   "id": "62380af8",
   "metadata": {},
   "outputs": [
    {
     "name": "stdout",
     "output_type": "stream",
     "text": [
      "﻿1번째줄입니다.\n",
      "\n",
      "2번째줄입니다.\n",
      "\n",
      "3번째줄입니다.\n",
      "\n",
      "4번째줄입니다.\n",
      "\n"
     ]
    }
   ],
   "source": [
    "f = open(\"test.txt\",\"r\", encoding = \"utf-8\")\n",
    "line = f.readline()\n",
    "print(line)\n",
    "line = f.readline()\n",
    "print(line)\n",
    "line = f.readline()\n",
    "print(line)\n",
    "line = f.readline()\n",
    "print(line)\n",
    "f.close()"
   ]
  },
  {
   "cell_type": "code",
   "execution_count": 358,
   "id": "3f6a1d2e",
   "metadata": {},
   "outputs": [
    {
     "name": "stdout",
     "output_type": "stream",
     "text": [
      "﻿1번째줄입니다.\n",
      "2번째줄입니다.\n",
      "3번째줄입니다.\n",
      "4번째줄입니다.\n",
      "5번째줄입니다.\n",
      "6번째줄입니다.\n",
      "7번째줄입니다.\n",
      "8번째줄입니다.\n",
      "9번째줄입니다.\n",
      "10번째줄입니다.\n",
      "11번째줄입니다.\n",
      "12번째줄입니다.\n",
      "13번째줄입니다.\n",
      "14번째줄입니다.\n",
      "15번째줄입니다.\n",
      "16번째줄입니다.\n",
      "17번째줄입니다.\n",
      "18번째줄입니다.\n",
      "19번째줄입니다.\n",
      "20번째줄입니다.\n"
     ]
    }
   ],
   "source": [
    "f = open(\"test.txt\",\"r\", encoding = \"utf-8\")\n",
    "while True:\n",
    "    line = f.readline()\n",
    "    if not line:\n",
    "        break\n",
    "    print(line, end=\"\")\n",
    "f.close()"
   ]
  },
  {
   "cell_type": "code",
   "execution_count": 366,
   "id": "1460d6b8",
   "metadata": {},
   "outputs": [
    {
     "name": "stdout",
     "output_type": "stream",
     "text": [
      "['\\ufeff1번째줄입니다.\\n', '2번째줄입니다.\\n', '3번째줄입니다.\\n', '4번째줄입니다.\\n', '5번째줄입니다.\\n', '6번째줄입니다.\\n', '7번째줄입니다.\\n', '8번째줄입니다.\\n', '9번째줄입니다.\\n', '10번째줄입니다.\\n', '11번째줄입니다.\\n', '12번째줄입니다.\\n', '13번째줄입니다.\\n', '14번째줄입니다.\\n', '15번째줄입니다.\\n', '16번째줄입니다.\\n', '17번째줄입니다.\\n', '18번째줄입니다.\\n', '19번째줄입니다.\\n', '20번째줄입니다.\\n']\n",
      "﻿1번째줄입니다.\n",
      "2번째줄입니다.\n",
      "3번째줄입니다.\n",
      "4번째줄입니다.\n",
      "5번째줄입니다.\n",
      "6번째줄입니다.\n",
      "7번째줄입니다.\n",
      "8번째줄입니다.\n",
      "9번째줄입니다.\n",
      "10번째줄입니다.\n",
      "11번째줄입니다.\n",
      "12번째줄입니다.\n",
      "13번째줄입니다.\n",
      "14번째줄입니다.\n",
      "15번째줄입니다.\n",
      "16번째줄입니다.\n",
      "17번째줄입니다.\n",
      "18번째줄입니다.\n",
      "19번째줄입니다.\n",
      "20번째줄입니다.\n",
      "﻿1번째줄입니다.\n",
      "2번째줄입니다.\n",
      "3번째줄입니다.\n",
      "4번째줄입니다.\n",
      "5번째줄입니다.\n",
      "6번째줄입니다.\n",
      "7번째줄입니다.\n",
      "8번째줄입니다.\n",
      "9번째줄입니다.\n",
      "10번째줄입니다.\n",
      "11번째줄입니다.\n",
      "12번째줄입니다.\n",
      "13번째줄입니다.\n",
      "14번째줄입니다.\n",
      "15번째줄입니다.\n",
      "16번째줄입니다.\n",
      "17번째줄입니다.\n",
      "18번째줄입니다.\n",
      "19번째줄입니다.\n",
      "20번째줄입니다.\n",
      "\n"
     ]
    }
   ],
   "source": [
    "f = open(\"test.txt\",\"r\", encoding = \"utf-8\")\n",
    "lines = f.readlines()\n",
    "print(lines)\n",
    "\n",
    "for line in lines:\n",
    "    print(line, end=\"\")\n",
    "\n",
    "print(\"\".join(lines))\n",
    "f.close()"
   ]
  },
  {
   "cell_type": "code",
   "execution_count": 367,
   "id": "c82c8b16",
   "metadata": {},
   "outputs": [
    {
     "name": "stdout",
     "output_type": "stream",
     "text": [
      "﻿1번째줄입니다.\n",
      "2번째줄입니다.\n",
      "3번째줄입니다.\n",
      "4번째줄입니다.\n",
      "5번째줄입니다.\n",
      "6번째줄입니다.\n",
      "7번째줄입니다.\n",
      "8번째줄입니다.\n",
      "9번째줄입니다.\n",
      "10번째줄입니다.\n",
      "11번째줄입니다.\n",
      "12번째줄입니다.\n",
      "13번째줄입니다.\n",
      "14번째줄입니다.\n",
      "15번째줄입니다.\n",
      "16번째줄입니다.\n",
      "17번째줄입니다.\n",
      "18번째줄입니다.\n",
      "19번째줄입니다.\n",
      "20번째줄입니다.\n",
      "\n"
     ]
    }
   ],
   "source": [
    "f = open(\"test.txt\",\"r\", encoding = \"utf-8\")\n",
    "data = f.read()\n",
    "print(data)\n",
    "f.close()"
   ]
  },
  {
   "cell_type": "code",
   "execution_count": 368,
   "id": "9dd72505",
   "metadata": {},
   "outputs": [],
   "source": [
    "with open(\"test.txt\",\"w\", encoding = \"utf-8\") as f:\n",
    "    for i in range(1, 11):\n",
    "        f.write(f\"{i}번째 줄입니다.\\n\")"
   ]
  },
  {
   "cell_type": "code",
   "execution_count": 369,
   "id": "d4b9b942",
   "metadata": {},
   "outputs": [],
   "source": [
    "with open(\"test.txt\",\"a\", encoding = \"utf-8\") as f:\n",
    "    for i in range(11, 21):\n",
    "        f.write(f\"{i}번째 줄입니다.\\n\")"
   ]
  },
  {
   "cell_type": "code",
   "execution_count": 370,
   "id": "6a4def94",
   "metadata": {},
   "outputs": [
    {
     "name": "stdout",
     "output_type": "stream",
     "text": [
      "1번째 줄입니다.\n",
      "2번째 줄입니다.\n",
      "3번째 줄입니다.\n",
      "4번째 줄입니다.\n",
      "5번째 줄입니다.\n",
      "6번째 줄입니다.\n",
      "7번째 줄입니다.\n",
      "8번째 줄입니다.\n",
      "9번째 줄입니다.\n",
      "10번째 줄입니다.\n",
      "11번째 줄입니다.\n",
      "12번째 줄입니다.\n",
      "13번째 줄입니다.\n",
      "14번째 줄입니다.\n",
      "15번째 줄입니다.\n",
      "16번째 줄입니다.\n",
      "17번째 줄입니다.\n",
      "18번째 줄입니다.\n",
      "19번째 줄입니다.\n",
      "20번째 줄입니다.\n",
      "\n"
     ]
    }
   ],
   "source": [
    "with open(\"test.txt\",\"r\", encoding = \"utf-8\") as f:\n",
    "    data = f.read()\n",
    "print(data)"
   ]
  },
  {
   "cell_type": "code",
   "execution_count": 401,
   "id": "b3589f01",
   "metadata": {},
   "outputs": [],
   "source": [
    "### class : 변수, 함수를 하나로 묶어서 반복적으로 사용\n",
    "result = 1 #전역변수\n",
    "def f(x): \n",
    "    global reulst \n",
    "    result += x\n",
    "\n",
    "class Calculator:\n",
    "    result = 1 #전역 변수\n",
    "    def f(self, x): # 전역변수를 사용하는 함수\n",
    "        self.result += x"
   ]
  },
  {
   "cell_type": "code",
   "execution_count": 396,
   "id": "e96218d5",
   "metadata": {},
   "outputs": [
    {
     "name": "stdout",
     "output_type": "stream",
     "text": [
      "1\n",
      "21\n",
      "100\n",
      "300\n"
     ]
    }
   ],
   "source": [
    "calculator = Calculator() # result = 1, f(x)\n",
    "print(calculator.result)\n",
    "calculator.f(20)\n",
    "print(calculator.result)\n",
    "calculator.result = 100\n",
    "print(calculator.result)\n",
    "calculator.f(200)\n",
    "print(calculator.result)"
   ]
  },
  {
   "cell_type": "code",
   "execution_count": 398,
   "id": "2a51f8f3",
   "metadata": {},
   "outputs": [
    {
     "name": "stdout",
     "output_type": "stream",
     "text": [
      "300\n",
      "10\n"
     ]
    }
   ],
   "source": [
    "calc = Calculator() # result = 1, f(x)\n",
    "calc.result = 10\n",
    "print(calculator.result)\n",
    "print(calc.result)"
   ]
  },
  {
   "cell_type": "code",
   "execution_count": 415,
   "id": "8453351c",
   "metadata": {},
   "outputs": [],
   "source": [
    "result = 1 \n",
    "def f(x): \n",
    "    global result \n",
    "    result += x"
   ]
  },
  {
   "cell_type": "code",
   "execution_count": 406,
   "id": "9c50eed3",
   "metadata": {},
   "outputs": [
    {
     "name": "stdout",
     "output_type": "stream",
     "text": [
      "21\n",
      "41\n"
     ]
    }
   ],
   "source": [
    "f(10)\n",
    "print(result)\n",
    "f(20)\n",
    "print(result)"
   ]
  },
  {
   "cell_type": "code",
   "execution_count": 416,
   "id": "95d8aaa8",
   "metadata": {},
   "outputs": [],
   "source": [
    "result1 = 1 \n",
    "def f1(x): \n",
    "    global result1 \n",
    "    result1 += x"
   ]
  },
  {
   "cell_type": "code",
   "execution_count": 417,
   "id": "6a407059",
   "metadata": {},
   "outputs": [
    {
     "name": "stdout",
     "output_type": "stream",
     "text": [
      "1\n",
      "1\n",
      "101\n"
     ]
    }
   ],
   "source": [
    "print(result)\n",
    "print(result1)\n",
    "f1(100)\n",
    "print(result1)"
   ]
  },
  {
   "cell_type": "code",
   "execution_count": null,
   "id": "795222d3",
   "metadata": {},
   "outputs": [],
   "source": [
    "result2 = 1 \n",
    "def f2(x): \n",
    "    global result2 \n",
    "    result2 += x"
   ]
  },
  {
   "cell_type": "code",
   "execution_count": 418,
   "id": "cb74b2d0",
   "metadata": {},
   "outputs": [],
   "source": [
    "a = Calculator() # result , f(x)\n",
    "b = Calculator() # result1 ,f1(x) : result , f(x)\n",
    "c = Calculator() # result2 , f2(x) : result , f(x)\n",
    "# a객체, b객체, c객체\n",
    "# class는 여러개의 객체를 만들기 위해서 사용한다."
   ]
  },
  {
   "cell_type": "code",
   "execution_count": 420,
   "id": "ea68ed1f",
   "metadata": {},
   "outputs": [
    {
     "name": "stdout",
     "output_type": "stream",
     "text": [
      "10\n"
     ]
    }
   ],
   "source": [
    "calc1 =  Calculator()\n",
    "calc1.result = 10\n",
    "print(calc1.result)\n",
    "Calculator.f(calc1, 10)  # f(self, x)"
   ]
  },
  {
   "cell_type": "code",
   "execution_count": null,
   "id": "02421f98",
   "metadata": {},
   "outputs": [],
   "source": []
  },
  {
   "cell_type": "code",
   "execution_count": null,
   "id": "47930859",
   "metadata": {},
   "outputs": [],
   "source": []
  },
  {
   "cell_type": "code",
   "execution_count": null,
   "id": "12bfea25",
   "metadata": {},
   "outputs": [],
   "source": []
  },
  {
   "cell_type": "code",
   "execution_count": null,
   "id": "98483f23",
   "metadata": {},
   "outputs": [],
   "source": []
  },
  {
   "cell_type": "code",
   "execution_count": null,
   "id": "4188d373",
   "metadata": {},
   "outputs": [],
   "source": []
  }
 ],
 "metadata": {
  "kernelspec": {
   "display_name": "Python 3 (ipykernel)",
   "language": "python",
   "name": "python3"
  },
  "language_info": {
   "codemirror_mode": {
    "name": "ipython",
    "version": 3
   },
   "file_extension": ".py",
   "mimetype": "text/x-python",
   "name": "python",
   "nbconvert_exporter": "python",
   "pygments_lexer": "ipython3",
   "version": "3.11.2"
  }
 },
 "nbformat": 4,
 "nbformat_minor": 5
}
