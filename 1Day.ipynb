{
 "cells": [
  {
   "cell_type": "code",
   "execution_count": 1,
   "id": "b0ee1830",
   "metadata": {},
   "outputs": [
    {
     "name": "stderr",
     "output_type": "stream",
     "text": [
      "C:\\Users\\soldesk\\AppData\\Local\\Temp\\ipykernel_8460\\1014303460.py:1: DeprecationWarning: Importing display from IPython.core.display is deprecated since IPython 7.14, please import from IPython display\n",
      "  from IPython.core.display import display, HTML\n"
     ]
    },
    {
     "data": {
      "text/html": [
       "<style>\n",
       "div.container { width:100% !important; }\n",
       "div.CodeMirror {font-family: Consolas; font-size: 30pt;}\n",
       "div.output { font-size: 20pt; font-weight: bold;}\n",
       "div.input { font-family: Consolas; font-size: 30pt;}\n",
       "div.prompt { min-width: 100px;}\n",
       "</style>\n"
      ],
      "text/plain": [
       "<IPython.core.display.HTML object>"
      ]
     },
     "metadata": {},
     "output_type": "display_data"
    }
   ],
   "source": [
    "from IPython.core.display import display, HTML\n",
    "display(HTML(\n",
    "\"\"\"<style>\n",
    "div.container { width:100% !important; }\n",
    "div.CodeMirror {font-family: Consolas; font-size: 30pt;}\n",
    "div.output { font-size: 20pt; font-weight: bold;}\n",
    "div.input { font-family: Consolas; font-size: 30pt;}\n",
    "div.prompt { min-width: 100px;}\n",
    "</style>\n",
    "\"\"\"))"
   ]
  },
  {
   "cell_type": "code",
   "execution_count": 12,
   "id": "f37f1ff3",
   "metadata": {},
   "outputs": [
    {
     "name": "stdout",
     "output_type": "stream",
     "text": [
      "8\n",
      "15\n"
     ]
    }
   ],
   "source": [
    "print(3 + 5);\n",
    "print(5 * 3)"
   ]
  },
  {
   "cell_type": "code",
   "execution_count": 17,
   "id": "bd4f6cd4",
   "metadata": {},
   "outputs": [
    {
     "name": "stdout",
     "output_type": "stream",
     "text": [
      "8\n",
      "12\n",
      "11\n"
     ]
    }
   ],
   "source": [
    "print(3 + 5); print(3 * 4); print(4 + 7)"
   ]
  },
  {
   "cell_type": "code",
   "execution_count": 18,
   "id": "dbeab2e2",
   "metadata": {},
   "outputs": [
    {
     "name": "stdout",
     "output_type": "stream",
     "text": [
      "1\n",
      "2\n",
      "3\n"
     ]
    }
   ],
   "source": [
    "for i in [1,2,3]:\n",
    "    print(i)"
   ]
  },
  {
   "cell_type": "code",
   "execution_count": 25,
   "id": "ad8e252b",
   "metadata": {},
   "outputs": [
    {
     "name": "stdout",
     "output_type": "stream",
     "text": [
      "10\n",
      "10.5\n",
      "10\n",
      "10\n",
      "20\n",
      "10.5\n",
      "30\n"
     ]
    }
   ],
   "source": [
    "#### 자료형\n",
    "#리터널 : 자연어 : 문자, 숫자(정수/실수), 참/거짓\n",
    "#         정수 리터널 : 10, 2, 3\n",
    "#         실수 리터널 : 10.5 , 1.5\n",
    "print(10)\n",
    "print(10.5)\n",
    "a = 10 # a : 정수리터널 변수 : 정수형 변수\n",
    "print(10)\n",
    "print(a)\n",
    "###  변수 = 리터널\n",
    "a = 20\n",
    "print(a)\n",
    "a = 10.5 ### 실수리터널 변수\n",
    "print(a)\n",
    "### 변수란 : 리터널값을 저장하는 문자\n",
    "a = 30\n",
    "print(a)"
   ]
  },
  {
   "cell_type": "code",
   "execution_count": 26,
   "id": "bd83485d",
   "metadata": {},
   "outputs": [
    {
     "name": "stdout",
     "output_type": "stream",
     "text": [
      "10\n"
     ]
    }
   ],
   "source": [
    "aaa = 10\n",
    "print(aaa)"
   ]
  },
  {
   "cell_type": "code",
   "execution_count": 48,
   "id": "0ced844a",
   "metadata": {},
   "outputs": [
    {
     "name": "stdout",
     "output_type": "stream",
     "text": [
      "5.0\n",
      "5.0\n",
      "5.0\n",
      "1\n",
      "1\n",
      "3.3333333333333335\n",
      "3\n",
      "3\n",
      "1000\n",
      "100\n",
      "1000\n",
      "1000\n"
     ]
    }
   ],
   "source": [
    "### 숫자 연산자 , +, -, *, /\n",
    "a  =  10 / 2\n",
    "print(a)\n",
    "a = 10\n",
    "b = 2\n",
    "print( a / b)\n",
    "print( 10 / 2)\n",
    "### 나머지 : %\n",
    "print( 10 % 3)\n",
    "a = 10 % 3\n",
    "print(a)\n",
    "print(10 / 3)\n",
    "### 몫 : //\n",
    "print(10 // 3)\n",
    "a = 10 // 3\n",
    "print(a)\n",
    "##### 제곱 승\n",
    "print(1000)\n",
    "print(10 ** 2)\n",
    "print(10 ** 3)\n",
    "b = 10 ** 3\n",
    "print(b)\n",
    "\n",
    "### 숫자리터널(정수, 실수) 연산자 : +, -, *, /, %, //, **"
   ]
  },
  {
   "cell_type": "code",
   "execution_count": 52,
   "id": "5ad3465a",
   "metadata": {},
   "outputs": [
    {
     "ename": "SyntaxError",
     "evalue": "cannot assign to literal here. Maybe you meant '==' instead of '='? (4258158931.py, line 11)",
     "output_type": "error",
     "traceback": [
      "\u001b[1;36m  Cell \u001b[1;32mIn[52], line 11\u001b[1;36m\u001b[0m\n\u001b[1;33m    10 = 10\u001b[0m\n\u001b[1;37m    ^\u001b[0m\n\u001b[1;31mSyntaxError\u001b[0m\u001b[1;31m:\u001b[0m cannot assign to literal here. Maybe you meant '==' instead of '='?\n"
     ]
    }
   ],
   "source": [
    "### 자연어 : 리터널 : 숫자, 문자, 참/거짓\n",
    "### 숫자리터널 : 정수리터널 : 10\n",
    "###              실수리터널 : 1.5\n",
    "### 문자리터널 : \"이숭무\", 'highland0@nate.com', \"01071461970\"\n",
    "###              '010' , \"a\", \"10\", '10', \"10.5\", '10.5'\n",
    "###               a, 이숭무 : 변수\n",
    "\n",
    "a = 10\n",
    "이숭무 = 'hello python'\n",
    "print(이숭무)\n",
    "print( 10 + 10 )\n",
    "print( \"10\" + \"10\" )\n",
    "# 숫자는 변수로 사용하지 못한다.\n",
    "a10 = 10;\n",
    "#10q = 100;"
   ]
  },
  {
   "cell_type": "code",
   "execution_count": 53,
   "id": "d54143df",
   "metadata": {},
   "outputs": [
    {
     "name": "stdout",
     "output_type": "stream",
     "text": [
      "10\n",
      "10\n",
      "10\n"
     ]
    }
   ],
   "source": [
    "print(10) # 정수리터널\n",
    "print(\"10\") # 문자리터널\n",
    "print('10') # 문자리터널"
   ]
  },
  {
   "cell_type": "code",
   "execution_count": 58,
   "id": "0525ab12",
   "metadata": {},
   "outputs": [
    {
     "name": "stdout",
     "output_type": "stream",
     "text": [
      "1020\n",
      "pythonisfun\n",
      "python is fun\n",
      "Rhee\n",
      "이숭무\n"
     ]
    }
   ],
   "source": [
    "# 문자 리터널 연산자 ,+ , *\n",
    "print( \"10\" + \"20\" ) # + : 문자열에서 붙이기 연산자.\n",
    "a = \"python\"\n",
    "b = \"is\"\n",
    "c = \"fun\"\n",
    "print(a + b + c)\n",
    "print(a + \" \" + b + \" \" + c)\n",
    "이숭무 = \"Rhee\"\n",
    "print(이숭무)\n",
    "b = \"이숭무\"\n",
    "print(b)"
   ]
  },
  {
   "cell_type": "code",
   "execution_count": 74,
   "id": "51cbdd17",
   "metadata": {},
   "outputs": [
    {
     "name": "stdout",
     "output_type": "stream",
     "text": [
      "이숭무\n",
      "이숭무\n",
      "이숭무\n",
      "이숭무\n",
      "Life is short,  You need python\n",
      "Life is short, \n",
      "You need python\n",
      "fe is short, \n",
      "You need python\n",
      "Life is short,\n",
      " You need python\n",
      "Life's short, You need python\n",
      "Life is short, \"You need python\"\n",
      "Life's short, You need python\n",
      "Life is short, \"You need python\"\n",
      "Life is short,\n",
      "You need python\n",
      "Life is short,\n",
      "You need python\n"
     ]
    }
   ],
   "source": [
    "### 문자열 리터널 : \"a\", 'a',\"\"\"a\"\"\",'''a'''\n",
    "print(\"이숭무\")\n",
    "print('이숭무')\n",
    "print(\"\"\"이숭무\"\"\")\n",
    "print('''이숭무''')\n",
    "print('Life is short,  You need python')\n",
    "print(\"\"\"Life is short, \n",
    "You need python\"\"\")\n",
    "print('''fe is short, \n",
    "You need python''')\n",
    "print('Life is short,\\n You need python')\n",
    "print('Life\\'s short, You need python')\n",
    "print(\"Life is short, \\\"You need python\\\"\")\n",
    "print(\"Life's short, You need python\")\n",
    "print('Life is short, \"You need python\"')\n",
    "str1 = '''Life is short,\n",
    "You need python'''\n",
    "print(str1)\n",
    "str1 = \"\"\"Life is short,\n",
    "You need python\"\"\"\n",
    "print(str1)"
   ]
  },
  {
   "cell_type": "code",
   "execution_count": 79,
   "id": "e8e38568",
   "metadata": {},
   "outputs": [
    {
     "name": "stdout",
     "output_type": "stream",
     "text": [
      "Python's favorite food is perl\n"
     ]
    }
   ],
   "source": [
    "food = \"Python's favorite food is perl\"\n",
    "print(food)"
   ]
  },
  {
   "cell_type": "code",
   "execution_count": 95,
   "id": "c70bdbdd",
   "metadata": {},
   "outputs": [
    {
     "name": "stdout",
     "output_type": "stream",
     "text": [
      "103\n",
      "Lifeis\n",
      "pythonpythonpython\n",
      "isisis\n",
      "============================================================\n",
      "제목\n",
      "============================================================\n",
      "103\n",
      "10\n"
     ]
    },
    {
     "ename": "TypeError",
     "evalue": "'int' object is not callable",
     "output_type": "error",
     "traceback": [
      "\u001b[1;31m---------------------------------------------------------------------------\u001b[0m",
      "\u001b[1;31mTypeError\u001b[0m                                 Traceback (most recent call last)",
      "Cell \u001b[1;32mIn[95], line 20\u001b[0m\n\u001b[0;32m     18\u001b[0m \u001b[38;5;28mstr\u001b[39m \u001b[38;5;241m=\u001b[39m \u001b[38;5;241m10\u001b[39m \u001b[38;5;66;03m# 변수\u001b[39;00m\n\u001b[0;32m     19\u001b[0m \u001b[38;5;28mprint\u001b[39m(\u001b[38;5;28mstr\u001b[39m)\n\u001b[1;32m---> 20\u001b[0m \u001b[38;5;28mprint\u001b[39m(\u001b[38;5;124m\"\u001b[39m\u001b[38;5;124m10\u001b[39m\u001b[38;5;124m\"\u001b[39m \u001b[38;5;241m+\u001b[39m \u001b[38;5;28;43mstr\u001b[39;49m\u001b[43m(\u001b[49m\u001b[38;5;241;43m3\u001b[39;49m\u001b[43m)\u001b[49m)\n",
      "\u001b[1;31mTypeError\u001b[0m: 'int' object is not callable"
     ]
    }
   ],
   "source": [
    "\n",
    "#print(\"10\" + 3)\n",
    "print(\"10\" + \"3\")\n",
    "head = \"Life\"\n",
    "tail = \"is\"\n",
    "a  =  3\n",
    "print(head + tail)\n",
    "#print(head + a)\n",
    "\n",
    "print(\"python\" * 3) # 반복연산자\n",
    "print(tail * a)\n",
    "print(\"==\" * 30)\n",
    "print(\"제목\")\n",
    "print(\"==\" * 30)\n",
    "\n",
    "#문자열 리터널 연산자 : +, *\n",
    "## 주의점\n",
    "print(\"10\" + str(3))\n",
    "str = 10 # 변수\n",
    "print(str)\n",
    "print(\"10\" + str(3))\n"
   ]
  },
  {
   "cell_type": "code",
   "execution_count": 96,
   "id": "ab25a875",
   "metadata": {},
   "outputs": [
    {
     "name": "stdout",
     "output_type": "stream",
     "text": [
      "103\n"
     ]
    }
   ],
   "source": [
    "del str\n",
    "print(\"10\" + str(3))\n",
    "##### str변수  str()함수 : 함수명과 변수명을 같이 사용가능하다.(다른 언어)\n",
    "#### 파이썬에서는 안된다."
   ]
  },
  {
   "cell_type": "code",
   "execution_count": 106,
   "id": "bcf11cd0",
   "metadata": {},
   "outputs": [
    {
     "name": "stdout",
     "output_type": "stream",
     "text": [
      "o\n",
      "r\n",
      "t\n",
      "L\n",
      "17\n",
      "t\n",
      "t\n",
      "t\n",
      "e\n"
     ]
    }
   ],
   "source": [
    "str1 = \"Life is too short\"\n",
    "#       01234567890123456   : index\n",
    "#                 1\n",
    "print(str1[14])\n",
    "print(str1[15])\n",
    "idx = 8\n",
    "print(str1[idx])\n",
    "print(str1[0])\n",
    "### 글자의 갯수\n",
    "print(len(str1)) # 17\n",
    "print(str1[16])\n",
    "print(str1[17-1])\n",
    "print(str1[len(str1)-1])\n",
    "print(str1[3])\n",
    "print(\"Life is too short\"[3])"
   ]
  },
  {
   "cell_type": "code",
   "execution_count": 111,
   "id": "6b9ac4a2",
   "metadata": {},
   "outputs": [
    {
     "name": "stdout",
     "output_type": "stream",
     "text": [
      "t\n",
      "t\n",
      "t\n",
      "L\n",
      "L\n",
      "L\n",
      "i\n",
      "f\n",
      "e\n",
      "Life\n"
     ]
    }
   ],
   "source": [
    "str1 = \"Life is too short\"\n",
    "#       01234567890123456   : index\n",
    "#                 1\n",
    "#       76543210987654321  -\n",
    "#              1\n",
    "print(str1[16])\n",
    "print(str1[len(str1) - 1])\n",
    "print(str1[-1])\n",
    "print(str1[0])\n",
    "print(str1[-17])\n",
    "## indexing : index를 이용해서 원하는 문자를 가지고 오는 것\n",
    "# index는 문자열에 있는 문자가 가지고 있는 고유의 번호\n",
    "\n",
    "# Life를 출력\n",
    "print(str1[0])\n",
    "print(str1[1])\n",
    "print(str1[2])\n",
    "print(str1[3])\n",
    "print(str1[0]+str1[1]+str1[2]+str1[3])"
   ]
  },
  {
   "cell_type": "code",
   "execution_count": 117,
   "id": "de06b05e",
   "metadata": {},
   "outputs": [
    {
     "name": "stdout",
     "output_type": "stream",
     "text": [
      "Life\n",
      "Life\n",
      "Life\n",
      "too\n",
      "too\n",
      "Life is to\n",
      "fe is too \n",
      "fe is too \n"
     ]
    }
   ],
   "source": [
    "#slicing \n",
    "str1 = \"Life is too short\"\n",
    "#       01234567890123456   : index\n",
    "#                 1\n",
    "#       76543210987654321  -\n",
    "#              1\n",
    "print(str1[0]+str1[1]+str1[2]+str1[3])\n",
    "print(str1[0:0+4])\n",
    "print(str1[0:4])\n",
    "print(str1[8:8+3])\n",
    "print(str1[8:11]) ## start:8, stop:11\n",
    "# L로 시작해서 10글자\n",
    "print(str1[0:0+10])\n",
    "start = 2\n",
    "cnt = 10\n",
    "print(str1[start:start+cnt])\n",
    "print(str1[2:2+10])\n",
    "print(str1[2:12]) # 2index부터 12번 전까지 가져오시오."
   ]
  },
  {
   "cell_type": "code",
   "execution_count": 127,
   "id": "b2a53cec",
   "metadata": {},
   "outputs": [
    {
     "name": "stdout",
     "output_type": "stream",
     "text": [
      "too short\n",
      "too short\n",
      "too short\n",
      "too short\n",
      "Life\n",
      "Life\n",
      "too\n",
      "too\n",
      "too\n",
      "too\n"
     ]
    }
   ],
   "source": [
    "str1 = \"Life is too short\"\n",
    "#       01234567890123456   : index\n",
    "#                 1\n",
    "#       76543210987654321  -\n",
    "#              1\n",
    "print(str1[8:17])\n",
    "print(str1[8:len(str1)])\n",
    "print(str1[8:])\n",
    "print(str1[-9:])\n",
    "\n",
    "print(str1[0:4])\n",
    "print(str1[:4])\n",
    "\n",
    "# too를 출력하시오.\n",
    "print(str1[8:8+3])\n",
    "print(str1[-9:-9+3])\n",
    "print(str1[-9:11])\n",
    "print(str1[-9:-6])"
   ]
  },
  {
   "cell_type": "code",
   "execution_count": 129,
   "id": "26046161",
   "metadata": {},
   "outputs": [
    {
     "name": "stdout",
     "output_type": "stream",
     "text": [
      "20010331\n",
      "Rainy\n",
      "2001\n",
      "03\n",
      "31\n"
     ]
    }
   ],
   "source": [
    "# 날짜와 이름을 분리하여 출력\n",
    "a = \"20010331Rainy\"\n",
    "###  0123456789012\n",
    "##             1\n",
    "print(a[:8])\n",
    "print(a[8:])\n",
    "###년월일\n",
    "print(a[:4])\n",
    "print(a[4:6])\n",
    "print(a[6:8])"
   ]
  },
  {
   "cell_type": "code",
   "execution_count": null,
   "id": "35d0d240",
   "metadata": {},
   "outputs": [],
   "source": []
  },
  {
   "cell_type": "code",
   "execution_count": null,
   "id": "eca807d8",
   "metadata": {},
   "outputs": [],
   "source": []
  },
  {
   "cell_type": "code",
   "execution_count": null,
   "id": "5be26eec",
   "metadata": {},
   "outputs": [],
   "source": []
  },
  {
   "cell_type": "code",
   "execution_count": null,
   "id": "ac10042f",
   "metadata": {},
   "outputs": [],
   "source": []
  },
  {
   "cell_type": "code",
   "execution_count": null,
   "id": "a5f26ba0",
   "metadata": {},
   "outputs": [],
   "source": []
  }
 ],
 "metadata": {
  "kernelspec": {
   "display_name": "Python 3 (ipykernel)",
   "language": "python",
   "name": "python3"
  },
  "language_info": {
   "codemirror_mode": {
    "name": "ipython",
    "version": 3
   },
   "file_extension": ".py",
   "mimetype": "text/x-python",
   "name": "python",
   "nbconvert_exporter": "python",
   "pygments_lexer": "ipython3",
   "version": "3.11.2"
  }
 },
 "nbformat": 4,
 "nbformat_minor": 5
}
