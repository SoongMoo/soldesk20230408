{
 "cells": [
  {
   "cell_type": "code",
   "execution_count": 130,
   "id": "b0ee1830",
   "metadata": {},
   "outputs": [
    {
     "name": "stderr",
     "output_type": "stream",
     "text": [
      "C:\\Users\\soldesk\\AppData\\Local\\Temp\\ipykernel_8460\\1014303460.py:1: DeprecationWarning: Importing display from IPython.core.display is deprecated since IPython 7.14, please import from IPython display\n",
      "  from IPython.core.display import display, HTML\n"
     ]
    },
    {
     "data": {
      "text/html": [
       "<style>\n",
       "div.container { width:100% !important; }\n",
       "div.CodeMirror {font-family: Consolas; font-size: 30pt;}\n",
       "div.output { font-size: 20pt; font-weight: bold;}\n",
       "div.input { font-family: Consolas; font-size: 30pt;}\n",
       "div.prompt { min-width: 100px;}\n",
       "</style>\n"
      ],
      "text/plain": [
       "<IPython.core.display.HTML object>"
      ]
     },
     "metadata": {},
     "output_type": "display_data"
    }
   ],
   "source": [
    "from IPython.core.display import display, HTML\n",
    "display(HTML(\n",
    "\"\"\"<style>\n",
    "div.container { width:100% !important; }\n",
    "div.CodeMirror {font-family: Consolas; font-size: 30pt;}\n",
    "div.output { font-size: 20pt; font-weight: bold;}\n",
    "div.input { font-family: Consolas; font-size: 30pt;}\n",
    "div.prompt { min-width: 100px;}\n",
    "</style>\n",
    "\"\"\"))"
   ]
  },
  {
   "cell_type": "code",
   "execution_count": 12,
   "id": "f37f1ff3",
   "metadata": {},
   "outputs": [
    {
     "name": "stdout",
     "output_type": "stream",
     "text": [
      "8\n",
      "15\n"
     ]
    }
   ],
   "source": [
    "print(3 + 5);\n",
    "print(5 * 3)"
   ]
  },
  {
   "cell_type": "code",
   "execution_count": 17,
   "id": "bd4f6cd4",
   "metadata": {},
   "outputs": [
    {
     "name": "stdout",
     "output_type": "stream",
     "text": [
      "8\n",
      "12\n",
      "11\n"
     ]
    }
   ],
   "source": [
    "print(3 + 5); print(3 * 4); print(4 + 7)"
   ]
  },
  {
   "cell_type": "code",
   "execution_count": 18,
   "id": "dbeab2e2",
   "metadata": {},
   "outputs": [
    {
     "name": "stdout",
     "output_type": "stream",
     "text": [
      "1\n",
      "2\n",
      "3\n"
     ]
    }
   ],
   "source": [
    "for i in [1,2,3]:\n",
    "    print(i)"
   ]
  },
  {
   "cell_type": "code",
   "execution_count": 25,
   "id": "ad8e252b",
   "metadata": {},
   "outputs": [
    {
     "name": "stdout",
     "output_type": "stream",
     "text": [
      "10\n",
      "10.5\n",
      "10\n",
      "10\n",
      "20\n",
      "10.5\n",
      "30\n"
     ]
    }
   ],
   "source": [
    "#### 자료형\n",
    "#리터널 : 자연어 : 문자, 숫자(정수/실수), 참/거짓\n",
    "#         정수 리터널 : 10, 2, 3\n",
    "#         실수 리터널 : 10.5 , 1.5\n",
    "print(10)\n",
    "print(10.5)\n",
    "a = 10 # a : 정수리터널 변수 : 정수형 변수\n",
    "print(10)\n",
    "print(a)\n",
    "###  변수 = 리터널\n",
    "a = 20\n",
    "print(a)\n",
    "a = 10.5 ### 실수리터널 변수\n",
    "print(a)\n",
    "### 변수란 : 리터널값을 저장하는 문자\n",
    "a = 30\n",
    "print(a)"
   ]
  },
  {
   "cell_type": "code",
   "execution_count": 26,
   "id": "bd83485d",
   "metadata": {},
   "outputs": [
    {
     "name": "stdout",
     "output_type": "stream",
     "text": [
      "10\n"
     ]
    }
   ],
   "source": [
    "aaa = 10\n",
    "print(aaa)"
   ]
  },
  {
   "cell_type": "code",
   "execution_count": 48,
   "id": "0ced844a",
   "metadata": {},
   "outputs": [
    {
     "name": "stdout",
     "output_type": "stream",
     "text": [
      "5.0\n",
      "5.0\n",
      "5.0\n",
      "1\n",
      "1\n",
      "3.3333333333333335\n",
      "3\n",
      "3\n",
      "1000\n",
      "100\n",
      "1000\n",
      "1000\n"
     ]
    }
   ],
   "source": [
    "### 숫자 연산자 , +, -, *, /\n",
    "a  =  10 / 2\n",
    "print(a)\n",
    "a = 10\n",
    "b = 2\n",
    "print( a / b)\n",
    "print( 10 / 2)\n",
    "### 나머지 : %\n",
    "print( 10 % 3)\n",
    "a = 10 % 3\n",
    "print(a)\n",
    "print(10 / 3)\n",
    "### 몫 : //\n",
    "print(10 // 3)\n",
    "a = 10 // 3\n",
    "print(a)\n",
    "##### 제곱 승\n",
    "print(1000)\n",
    "print(10 ** 2)\n",
    "print(10 ** 3)\n",
    "b = 10 ** 3\n",
    "print(b)\n",
    "\n",
    "### 숫자리터널(정수, 실수) 연산자 : +, -, *, /, %, //, **"
   ]
  },
  {
   "cell_type": "code",
   "execution_count": 52,
   "id": "5ad3465a",
   "metadata": {},
   "outputs": [
    {
     "ename": "SyntaxError",
     "evalue": "cannot assign to literal here. Maybe you meant '==' instead of '='? (4258158931.py, line 11)",
     "output_type": "error",
     "traceback": [
      "\u001b[1;36m  Cell \u001b[1;32mIn[52], line 11\u001b[1;36m\u001b[0m\n\u001b[1;33m    10 = 10\u001b[0m\n\u001b[1;37m    ^\u001b[0m\n\u001b[1;31mSyntaxError\u001b[0m\u001b[1;31m:\u001b[0m cannot assign to literal here. Maybe you meant '==' instead of '='?\n"
     ]
    }
   ],
   "source": [
    "### 자연어 : 리터널 : 숫자, 문자, 참/거짓\n",
    "### 숫자리터널 : 정수리터널 : 10\n",
    "###              실수리터널 : 1.5\n",
    "### 문자리터널 : \"이숭무\", 'highland0@nate.com', \"01071461970\"\n",
    "###              '010' , \"a\", \"10\", '10', \"10.5\", '10.5'\n",
    "###               a, 이숭무 : 변수\n",
    "\n",
    "a = 10\n",
    "이숭무 = 'hello python'\n",
    "print(이숭무)\n",
    "print( 10 + 10 )\n",
    "print( \"10\" + \"10\" )\n",
    "# 숫자는 변수로 사용하지 못한다.\n",
    "a10 = 10;\n",
    "#10q = 100;"
   ]
  },
  {
   "cell_type": "code",
   "execution_count": 53,
   "id": "d54143df",
   "metadata": {},
   "outputs": [
    {
     "name": "stdout",
     "output_type": "stream",
     "text": [
      "10\n",
      "10\n",
      "10\n"
     ]
    }
   ],
   "source": [
    "print(10) # 정수리터널\n",
    "print(\"10\") # 문자리터널\n",
    "print('10') # 문자리터널"
   ]
  },
  {
   "cell_type": "code",
   "execution_count": 58,
   "id": "0525ab12",
   "metadata": {},
   "outputs": [
    {
     "name": "stdout",
     "output_type": "stream",
     "text": [
      "1020\n",
      "pythonisfun\n",
      "python is fun\n",
      "Rhee\n",
      "이숭무\n"
     ]
    }
   ],
   "source": [
    "# 문자 리터널 연산자 ,+ , *\n",
    "print( \"10\" + \"20\" ) # + : 문자열에서 붙이기 연산자.\n",
    "a = \"python\"\n",
    "b = \"is\"\n",
    "c = \"fun\"\n",
    "print(a + b + c)\n",
    "print(a + \" \" + b + \" \" + c)\n",
    "이숭무 = \"Rhee\"\n",
    "print(이숭무)\n",
    "b = \"이숭무\"\n",
    "print(b)"
   ]
  },
  {
   "cell_type": "code",
   "execution_count": 74,
   "id": "51cbdd17",
   "metadata": {},
   "outputs": [
    {
     "name": "stdout",
     "output_type": "stream",
     "text": [
      "이숭무\n",
      "이숭무\n",
      "이숭무\n",
      "이숭무\n",
      "Life is short,  You need python\n",
      "Life is short, \n",
      "You need python\n",
      "fe is short, \n",
      "You need python\n",
      "Life is short,\n",
      " You need python\n",
      "Life's short, You need python\n",
      "Life is short, \"You need python\"\n",
      "Life's short, You need python\n",
      "Life is short, \"You need python\"\n",
      "Life is short,\n",
      "You need python\n",
      "Life is short,\n",
      "You need python\n"
     ]
    }
   ],
   "source": [
    "### 문자열 리터널 : \"a\", 'a',\"\"\"a\"\"\",'''a'''\n",
    "print(\"이숭무\")\n",
    "print('이숭무')\n",
    "print(\"\"\"이숭무\"\"\")\n",
    "print('''이숭무''')\n",
    "print('Life is short,  You need python')\n",
    "print(\"\"\"Life is short, \n",
    "You need python\"\"\")\n",
    "print('''fe is short, \n",
    "You need python''')\n",
    "print('Life is short,\\n You need python')\n",
    "print('Life\\'s short, You need python')\n",
    "print(\"Life is short, \\\"You need python\\\"\")\n",
    "print(\"Life's short, You need python\")\n",
    "print('Life is short, \"You need python\"')\n",
    "str1 = '''Life is short,\n",
    "You need python'''\n",
    "print(str1)\n",
    "str1 = \"\"\"Life is short,\n",
    "You need python\"\"\"\n",
    "print(str1)"
   ]
  },
  {
   "cell_type": "code",
   "execution_count": 79,
   "id": "e8e38568",
   "metadata": {},
   "outputs": [
    {
     "name": "stdout",
     "output_type": "stream",
     "text": [
      "Python's favorite food is perl\n"
     ]
    }
   ],
   "source": [
    "food = \"Python's favorite food is perl\"\n",
    "print(food)"
   ]
  },
  {
   "cell_type": "code",
   "execution_count": 95,
   "id": "c70bdbdd",
   "metadata": {},
   "outputs": [
    {
     "name": "stdout",
     "output_type": "stream",
     "text": [
      "103\n",
      "Lifeis\n",
      "pythonpythonpython\n",
      "isisis\n",
      "============================================================\n",
      "제목\n",
      "============================================================\n",
      "103\n",
      "10\n"
     ]
    },
    {
     "ename": "TypeError",
     "evalue": "'int' object is not callable",
     "output_type": "error",
     "traceback": [
      "\u001b[1;31m---------------------------------------------------------------------------\u001b[0m",
      "\u001b[1;31mTypeError\u001b[0m                                 Traceback (most recent call last)",
      "Cell \u001b[1;32mIn[95], line 20\u001b[0m\n\u001b[0;32m     18\u001b[0m \u001b[38;5;28mstr\u001b[39m \u001b[38;5;241m=\u001b[39m \u001b[38;5;241m10\u001b[39m \u001b[38;5;66;03m# 변수\u001b[39;00m\n\u001b[0;32m     19\u001b[0m \u001b[38;5;28mprint\u001b[39m(\u001b[38;5;28mstr\u001b[39m)\n\u001b[1;32m---> 20\u001b[0m \u001b[38;5;28mprint\u001b[39m(\u001b[38;5;124m\"\u001b[39m\u001b[38;5;124m10\u001b[39m\u001b[38;5;124m\"\u001b[39m \u001b[38;5;241m+\u001b[39m \u001b[38;5;28;43mstr\u001b[39;49m\u001b[43m(\u001b[49m\u001b[38;5;241;43m3\u001b[39;49m\u001b[43m)\u001b[49m)\n",
      "\u001b[1;31mTypeError\u001b[0m: 'int' object is not callable"
     ]
    }
   ],
   "source": [
    "\n",
    "#print(\"10\" + 3)\n",
    "print(\"10\" + \"3\")\n",
    "head = \"Life\"\n",
    "tail = \"is\"\n",
    "a  =  3\n",
    "print(head + tail)\n",
    "#print(head + a)\n",
    "\n",
    "print(\"python\" * 3) # 반복연산자\n",
    "print(tail * a)\n",
    "print(\"==\" * 30)\n",
    "print(\"제목\")\n",
    "print(\"==\" * 30)\n",
    "\n",
    "#문자열 리터널 연산자 : +, *\n",
    "## 주의점\n",
    "print(\"10\" + str(3))\n",
    "str = 10 # 변수\n",
    "print(str)\n",
    "print(\"10\" + str(3))\n"
   ]
  },
  {
   "cell_type": "code",
   "execution_count": 96,
   "id": "ab25a875",
   "metadata": {},
   "outputs": [
    {
     "name": "stdout",
     "output_type": "stream",
     "text": [
      "103\n"
     ]
    }
   ],
   "source": [
    "del str\n",
    "print(\"10\" + str(3))\n",
    "##### str변수  str()함수 : 함수명과 변수명을 같이 사용가능하다.(다른 언어)\n",
    "#### 파이썬에서는 안된다."
   ]
  },
  {
   "cell_type": "code",
   "execution_count": 106,
   "id": "bcf11cd0",
   "metadata": {},
   "outputs": [
    {
     "name": "stdout",
     "output_type": "stream",
     "text": [
      "o\n",
      "r\n",
      "t\n",
      "L\n",
      "17\n",
      "t\n",
      "t\n",
      "t\n",
      "e\n"
     ]
    }
   ],
   "source": [
    "str1 = \"Life is too short\"\n",
    "#       01234567890123456   : index\n",
    "#                 1\n",
    "print(str1[14])\n",
    "print(str1[15])\n",
    "idx = 8\n",
    "print(str1[idx])\n",
    "print(str1[0])\n",
    "### 글자의 갯수\n",
    "print(len(str1)) # 17\n",
    "print(str1[16])\n",
    "print(str1[17-1])\n",
    "print(str1[len(str1)-1])\n",
    "print(str1[3])\n",
    "print(\"Life is too short\"[3])"
   ]
  },
  {
   "cell_type": "code",
   "execution_count": 111,
   "id": "6b9ac4a2",
   "metadata": {},
   "outputs": [
    {
     "name": "stdout",
     "output_type": "stream",
     "text": [
      "t\n",
      "t\n",
      "t\n",
      "L\n",
      "L\n",
      "L\n",
      "i\n",
      "f\n",
      "e\n",
      "Life\n"
     ]
    }
   ],
   "source": [
    "str1 = \"Life is too short\"\n",
    "#       01234567890123456   : index\n",
    "#                 1\n",
    "#       76543210987654321  -\n",
    "#              1\n",
    "print(str1[16])\n",
    "print(str1[len(str1) - 1])\n",
    "print(str1[-1])\n",
    "print(str1[0])\n",
    "print(str1[-17])\n",
    "## indexing : index를 이용해서 원하는 문자를 가지고 오는 것\n",
    "# index는 문자열에 있는 문자가 가지고 있는 고유의 번호\n",
    "\n",
    "# Life를 출력\n",
    "print(str1[0])\n",
    "print(str1[1])\n",
    "print(str1[2])\n",
    "print(str1[3])\n",
    "print(str1[0]+str1[1]+str1[2]+str1[3])"
   ]
  },
  {
   "cell_type": "code",
   "execution_count": 117,
   "id": "de06b05e",
   "metadata": {},
   "outputs": [
    {
     "name": "stdout",
     "output_type": "stream",
     "text": [
      "Life\n",
      "Life\n",
      "Life\n",
      "too\n",
      "too\n",
      "Life is to\n",
      "fe is too \n",
      "fe is too \n"
     ]
    }
   ],
   "source": [
    "#slicing \n",
    "str1 = \"Life is too short\"\n",
    "#       01234567890123456   : index\n",
    "#                 1\n",
    "#       76543210987654321  -\n",
    "#              1\n",
    "print(str1[0]+str1[1]+str1[2]+str1[3])\n",
    "print(str1[0:0+4])\n",
    "print(str1[0:4])\n",
    "print(str1[8:8+3])\n",
    "print(str1[8:11]) ## start:8, stop:11\n",
    "# L로 시작해서 10글자\n",
    "print(str1[0:0+10])\n",
    "start = 2\n",
    "cnt = 10\n",
    "print(str1[start:start+cnt])\n",
    "print(str1[2:2+10])\n",
    "print(str1[2:12]) # 2index부터 12번 전까지 가져오시오."
   ]
  },
  {
   "cell_type": "code",
   "execution_count": 127,
   "id": "b2a53cec",
   "metadata": {},
   "outputs": [
    {
     "name": "stdout",
     "output_type": "stream",
     "text": [
      "too short\n",
      "too short\n",
      "too short\n",
      "too short\n",
      "Life\n",
      "Life\n",
      "too\n",
      "too\n",
      "too\n",
      "too\n"
     ]
    }
   ],
   "source": [
    "str1 = \"Life is too short\"\n",
    "#       01234567890123456   : index\n",
    "#                 1\n",
    "#       76543210987654321  -\n",
    "#              1\n",
    "print(str1[8:17])\n",
    "print(str1[8:len(str1)])\n",
    "print(str1[8:])\n",
    "print(str1[-9:])\n",
    "\n",
    "print(str1[0:4])\n",
    "print(str1[:4])\n",
    "\n",
    "# too를 출력하시오.\n",
    "print(str1[8:8+3])\n",
    "print(str1[-9:-9+3])\n",
    "print(str1[-9:11])\n",
    "print(str1[-9:-6])"
   ]
  },
  {
   "cell_type": "code",
   "execution_count": 129,
   "id": "26046161",
   "metadata": {},
   "outputs": [
    {
     "name": "stdout",
     "output_type": "stream",
     "text": [
      "20010331\n",
      "Rainy\n",
      "2001\n",
      "03\n",
      "31\n"
     ]
    }
   ],
   "source": [
    "# 날짜와 이름을 분리하여 출력\n",
    "a = \"20010331Rainy\"\n",
    "###  0123456789012\n",
    "##             1\n",
    "print(a[:8])\n",
    "print(a[8:])\n",
    "###년월일\n",
    "print(a[:4])\n",
    "print(a[4:6])\n",
    "print(a[6:8])"
   ]
  },
  {
   "cell_type": "code",
   "execution_count": 138,
   "id": "35d0d240",
   "metadata": {},
   "outputs": [
    {
     "name": "stdout",
     "output_type": "stream",
     "text": [
      "Life is too short\n",
      "Lf stosot\n",
      "trohs oot si efiL\n",
      "Lesosr\n",
      "f stos\n",
      "\n"
     ]
    }
   ],
   "source": [
    "str1 = \"Life is too short\"\n",
    "#       01234567890123456   : index\n",
    "#                 1\n",
    "#       76543210987654321  -\n",
    "#              1\n",
    "print(str1[:])\n",
    "print(str1[::2])\n",
    "print(str1[::-1])\n",
    "print(str1[::3])\n",
    "print(str1[2:14:2])\n",
    "print(str1[2:14:-1])"
   ]
  },
  {
   "cell_type": "code",
   "execution_count": 143,
   "id": "eca807d8",
   "metadata": {},
   "outputs": [
    {
     "name": "stdout",
     "output_type": "stream",
     "text": [
      "pithon\n",
      "i\n",
      "python\n"
     ]
    }
   ],
   "source": [
    "str1=\"pithon\"\n",
    "#     012345\n",
    "print(str1)\n",
    "print(str1[1])\n",
    "#str1[1] = 'y'문자열은 부분적으로 수정할 수 없다.\n",
    "print(str1[:1]+\"y\"+str1[2:])"
   ]
  },
  {
   "cell_type": "code",
   "execution_count": 148,
   "id": "5be26eec",
   "metadata": {},
   "outputs": [
    {
     "name": "stdout",
     "output_type": "stream",
     "text": [
      "나의 이름은 이숭무이고 나이는 38입니다.\n"
     ]
    }
   ],
   "source": [
    "# 문자열 포매팅\n",
    "'나의 이름은 이숭무이고 나이는 30입니다.'\n",
    "name = '이숭무'\n",
    "age = 38\n",
    "#print('나의 이름은 '+name+'이고 나이는 '+age+'입니다.')\n",
    "print('나의 이름은 %s이고 나이는 %d입니다.' % (name, age))\n",
    "## 포맷문자 : %d, %s, %f, "
   ]
  },
  {
   "cell_type": "code",
   "execution_count": 155,
   "id": "ac10042f",
   "metadata": {},
   "outputs": [
    {
     "name": "stdout",
     "output_type": "stream",
     "text": [
      "이숭무의 계좌번호는 1111이고 잔액은 100입니다.\n",
      "이숭무의 계좌번호는 1111이고 잔액은 100입니다.\n"
     ]
    }
   ],
   "source": [
    "### 이숭무의 계좌번호는 1111이고 잔액은 100입니다.\n",
    "name = \"이숭무\"\n",
    "account = \"1111\"\n",
    "money = 100\n",
    "a = '%s의 계좌번호는 %s이고 잔액은 %d입니다.' % (name, account, money)\n",
    "print(a)\n",
    "a = name+'의 계좌번호는 '+account+'이고 잔액은 '+ str(money) +'입니다.'\n",
    "print(a)"
   ]
  },
  {
   "cell_type": "code",
   "execution_count": 173,
   "id": "c330dff9",
   "metadata": {},
   "outputs": [
    {
     "name": "stdout",
     "output_type": "stream",
     "text": [
      "이숭무의 나이는 38살이고 키는 173.500000입니다\n",
      "170\n",
      "70\n",
      "10.5\n",
      "10.55\n",
      "99.999999\n",
      "이숭무의 나이는 38살이고 키는 173.5입니다\n",
      "이숭무의 나이는 38살이고 키는 173.50입니다\n",
      "이숭무의 나이는 38살이고 키는 173.5000입니다\n",
      "이숭무의 나이는 38살이고 키는 173.5입니다\n",
      "이숭무의 나이는 38살이고 키는 173.5입니다\n"
     ]
    }
   ],
   "source": [
    "\"이숭무의 나이는 25살이고 키는 175.3입니다\"\n",
    "height = 173.5\n",
    "a = \"%s의 나이는 %d살이고 키는 %f입니다\" % (name, age, height)\n",
    "print(a)\n",
    "print(170)\n",
    "print(70)\n",
    "print(10.5)\n",
    "print(10.55)\n",
    "print(99.999999)\n",
    "a = \"%s의 나이는 %d살이고 키는 %5.1f입니다\" % (name, age, height)\n",
    "print(a)\n",
    "a = \"%s의 나이는 %d살이고 키는 %5.2f입니다\" % (name, age, height)\n",
    "print(a)\n",
    "a = \"%s의 나이는 %d살이고 키는 %5.4f입니다\" % (name, age, height)\n",
    "print(a)\n",
    "a = \"%s의 나이는 %d살이고 키는 %.1f입니다\" % (name, age, height)\n",
    "print(a)\n",
    "a = \"%s의 나이는 %s살이고 키는 %s입니다\" % \\\n",
    "                        (name, age, height)\n",
    "print(a)"
   ]
  },
  {
   "cell_type": "code",
   "execution_count": 179,
   "id": "ba5a91bd",
   "metadata": {},
   "outputs": [
    {
     "name": "stdout",
     "output_type": "stream",
     "text": [
      "이숭무의 나이는 38        살이고 키는 173.5입니다\n",
      "이숭무의 나이는         38살이고 키는 173.5입니다\n",
      "I have 38 apples\n"
     ]
    }
   ],
   "source": [
    "#-는 왼쪽정렬, +는 오른쪽 정렬\n",
    "\"이숭무의 나이는 25     살이고 키는 175.3입니다\"\n",
    "\"이숭무의 나이는      25살이고 키는 175.3입니다\"\n",
    "print(\"%s의 나이는 %-10s살이고 키는 %s입니다\" % (name, age, height))\n",
    "print(\"%s의 나이는 %10s살이고 키는 %s입니다\" % (name, age, height))\n",
    "print(\"I have %s apples\" % age)"
   ]
  },
  {
   "cell_type": "code",
   "execution_count": 182,
   "id": "264fb838",
   "metadata": {},
   "outputs": [
    {
     "name": "stdout",
     "output_type": "stream",
     "text": [
      "이숭무의 나이는 25        살이고 키는 175.3입니다\n",
      "이숭무님의 나이는 25살이고요 키는 175.3입니다\n",
      "이숭무의 나이는 25살이고요 이숭무의 키는 175.3입니다\n"
     ]
    }
   ],
   "source": [
    "# format 함수를 사용한 포매팅\n",
    "# 문자 : \"a\", 'a'\n",
    "# 정수 : 10\n",
    "# 실수 : 1.5\n",
    "# 변수 : a\n",
    "# 함수 : a(), print(), str(), format(), len()\n",
    "name = '이숭무'\n",
    "age = 25\n",
    "height = 175.3\n",
    "# 이숭무님의 나이는 25살이고요 키는 175.3입니다\n",
    "print(\"%s의 나이는 %-10s살이고 키는 %s입니다\" % (name, age, height))\n",
    "print(\"{1}님의 나이는 {0}살이고요 키는 {2}입니다\".format(age, name, height))\n",
    "#                                                       0     1     2\n",
    "# 이숭무의 나이는 25살이고요 이숭무의 키는 175.3입니다\n",
    "print(\"{0}의 나이는 {1}살이고요 {0}의 키는 {2}입니다\".format(name,age,height))\n",
    "#                                                           0    1    2"
   ]
  },
  {
   "cell_type": "code",
   "execution_count": 192,
   "id": "005860ec",
   "metadata": {},
   "outputs": [
    {
     "name": "stdout",
     "output_type": "stream",
     "text": [
      "오늘 먹은 사과는 모두 3개입니다.\n",
      "오늘 먹은 사과는 모두 3개입니다.\n",
      "이숭무의 나이는 25살이고요 이숭무의 키는 172.5입니다\n",
      "이숭무의 나이는 25살이고요 이숭무의 키는 173.5입니다\n",
      "이숭무의 나이는 26살이고요 이숭무의 키는 173.5입니다\n"
     ]
    }
   ],
   "source": [
    "# 이름으로 넣기\n",
    "print(\"오늘 먹은 사과는 모두 {0}개입니다.\".format(3))\n",
    "print(\"오늘 먹은 사과는 모두 {count}개입니다.\".format(count=3))\n",
    "\n",
    "# 이숭무의 나이는 25살이고요 이숭무의 키는 175.3입니다\n",
    "print(\"{a}의 나이는 {b}살이고요 이숭무의 키는 {c}입니다\"\\\n",
    "      .format(a='이숭무',b=25,c=172.5))\n",
    "### 인덱스와 이름을 혼용해서 넣기\n",
    "print(\"{0}의 나이는 {1}살이고요 {0}의 키는 {h}입니다\".format(name, age, h=173.5))\n",
    "#print(\"{0}의 나이는 {2}살이고요 {0}의 키는 {h}입니다\".format(name, h=173.5, age))\n",
    "#                                                           0              1\n",
    "print(\"{0}의 나이는 {a}살이고요 {0}의 키는 {h}입니다\".format(name, a = 26, h=173.5))\n",
    "#                                                           0             "
   ]
  },
  {
   "cell_type": "code",
   "execution_count": 194,
   "id": "16869709",
   "metadata": {},
   "outputs": [
    {
     "name": "stdout",
     "output_type": "stream",
     "text": [
      "이숭무의 나이는 25살이고요 이숭무의 키는 175.3입니다\n",
      "이숭무의 나이는 25살이고요 이숭무의 키는 175.3입니다\n"
     ]
    }
   ],
   "source": [
    "#f 문자열 포매팅\n",
    "# 이숭무의 나이는 25살이고요 이숭무의 키는 175.3입니다\n",
    "name = '이숭무'\n",
    "age = 25\n",
    "height = 175.3\n",
    "print(f\"이숭무의 나이는 25살이고요 이숭무의 키는 175.3입니다\")\n",
    "print(f\"{name}의 나이는 {age}살이고요 {name}의 키는 {height}입니다\")\n",
    "str1 = f\"{name}의 나이는 {age}살이고요 {name}의 키는 {height}입니다\"\n",
    "print(str1)\n",
    "\n",
    "# 1. 포맷문자를 이용한 포맷팅\n",
    "# 2. format() 함수를 이용한 포맷팅\n",
    "# 3. f문자를 이용한 포맷팅\n",
    "# 문자열 연산자 : +, *\n",
    "# 문자열을 추출 : indexing, slicing"
   ]
  },
  {
   "cell_type": "code",
   "execution_count": 199,
   "id": "f380662d",
   "metadata": {},
   "outputs": [
    {
     "name": "stdout",
     "output_type": "stream",
     "text": [
      "5\n",
      "5\n",
      "2\n",
      "2\n"
     ]
    }
   ],
   "source": [
    "# 문자열 가공 : 문자열 함수\n",
    "a = \"hobby\"\n",
    "\n",
    "# 길이함수\n",
    "print(len(a))\n",
    "print(len(\"hobby\"))\n",
    "# 특정문자의 갯수\n",
    "print(a.count('b'))\n",
    "print(\"hobby\".count('b'))"
   ]
  },
  {
   "cell_type": "code",
   "execution_count": null,
   "id": "1ff985a2",
   "metadata": {},
   "outputs": [],
   "source": [
    "str1 = \"Life is too short\"\n",
    "#       01234567890123456\n",
    "#                 1\n",
    "print(str1[8:8+3])\n",
    "#t부터 3글자\n",
    "print(str1[8:])\n",
    "#문자열이 가지고 있는 index\n",
    "print(str1.index('t'))\n",
    "idx = str1.index('t')\n",
    "print(str1[idx : idx + 3 ])\n",
    "#too부터 모두\n",
    "print(str1.index('too'))\n",
    "print(str1[str1.index('too'):])\n",
    "## i가 있는 문자부터 2글자\n",
    "print(str1.index('i'))\n",
    "print(str1[str1.index('i'): str1.index('i') + 2])\n",
    "\n",
    "print(str1.index('i', str1.index('i') + 1))\n",
    "idx = str1.index('i', str1.index('i') + 1)\n",
    "print(str1[idx: idx+2])\n",
    "\n",
    "print(str1.rindex('i'))\n",
    "idx = str1.rindex('i')\n",
    "print(str1[idx: idx+2])"
   ]
  },
  {
   "cell_type": "code",
   "execution_count": 222,
   "id": "00e05259",
   "metadata": {},
   "outputs": [
    {
     "name": "stdout",
     "output_type": "stream",
     "text": [
      "8\n",
      "8\n",
      "16\n",
      "-1\n",
      "문자가 없다\n"
     ]
    }
   ],
   "source": [
    "str1 = \"Life is too short\"\n",
    "#       01234567890123456\n",
    "#                 1\n",
    "#t부터 3글자\n",
    "print(str1.index('t'))\n",
    "print(str1.find('t'))\n",
    "print(str1.rfind('t'))\n",
    "\n",
    "### find와 index의 차이\n",
    "#'K'를 찾으시오\n",
    "print(str1.find('K'))\n",
    "if str1.find('K') == -1:\n",
    "    print('문자가 없다')\n",
    "#print(str1.index('K')) #없는 문자열은 오류발생"
   ]
  },
  {
   "cell_type": "code",
   "execution_count": 228,
   "id": "94a5c803",
   "metadata": {},
   "outputs": [
    {
     "name": "stdout",
     "output_type": "stream",
     "text": [
      "life is too short\n",
      "Life is too short\n",
      "life is too short\n",
      "LIFE IS TOO SHORT\n",
      "Life is too short\n",
      "LIFE IS TOO SHORT\n"
     ]
    }
   ],
   "source": [
    "str1 = \"Life is too short\"\n",
    "#모두 소문자로\n",
    "print(str1.lower())\n",
    "print(str1)\n",
    "str2 = str1.lower()\n",
    "print(str2)\n",
    "#모두 대문자로\n",
    "print(str1.upper())\n",
    "print(str1)\n",
    "str2 = str1.upper()\n",
    "print(str2)"
   ]
  },
  {
   "cell_type": "code",
   "execution_count": 231,
   "id": "7950881b",
   "metadata": {},
   "outputs": [
    {
     "name": "stdout",
     "output_type": "stream",
     "text": [
      "같다\n",
      "   highland0       \n",
      "highland0\n"
     ]
    }
   ],
   "source": [
    "str1 = \"   highland0       \"\n",
    "if str1 == \"highland0\":\n",
    "    print(\"같다\")\n",
    "result = str1.strip();\n",
    "if result == \"highland0\":\n",
    "    print(\"같다\")\n",
    "print(str1)\n",
    "print(result)"
   ]
  },
  {
   "cell_type": "code",
   "execution_count": 239,
   "id": "b03f0834",
   "metadata": {},
   "outputs": [
    {
     "name": "stdout",
     "output_type": "stream",
     "text": [
      "highland0\n",
      "   highland0       \n",
      "highland0\n",
      "Life is too short\n",
      " Life is too short\n",
      "Life is too short  \n",
      "Life is too short\n"
     ]
    }
   ],
   "source": [
    "str1 = \"   highland0       \"\n",
    "result=str1.strip()\n",
    "print(result)\n",
    "print(str1)\n",
    "result=\"   highland0       \".strip()\n",
    "print(result)\n",
    "str1 = \" Life is too short  \"\n",
    "result=str1.strip()\n",
    "print(result)\n",
    "result = str1.rstrip()\n",
    "print(result)\n",
    "result = str1.lstrip()\n",
    "print(result)\n",
    "str1 = \"abLife is too shortab\"\n",
    "result = str1.strip(\"ab\")\n",
    "print(result)"
   ]
  },
  {
   "cell_type": "code",
   "execution_count": 242,
   "id": "1451d9f2",
   "metadata": {},
   "outputs": [
    {
     "name": "stdout",
     "output_type": "stream",
     "text": [
      "Your leg is too short\n",
      "Life is too short\n"
     ]
    }
   ],
   "source": [
    "str1 = \"Life is too short\"\n",
    "str1.replace(\"Life\",\"Your leg\")\n",
    "str2 = str1.replace(\"Life\",\"Your leg\")\n",
    "print(str2)\n",
    "print(str1)"
   ]
  },
  {
   "cell_type": "code",
   "execution_count": 244,
   "id": "61c59477",
   "metadata": {},
   "outputs": [
    {
     "name": "stdout",
     "output_type": "stream",
     "text": [
      "['Life', 'is', 'too', 'short']\n",
      "['Life', 'is', 'too', 'short']\n"
     ]
    }
   ],
   "source": [
    "# 쪼개기 : split : 배열 : 다른 언어 , 파이썬은 배열이 없다. numpy\n",
    "#                : 리스트 :  파이썬 : 배열 대신\n",
    "str1 = \"Life is too short\"\n",
    "str2 = str1.split()\n",
    "print(str2)\n",
    "str1 = \"Life:is:too:short\"\n",
    "str2 = str1.split(\":\") # ['Life', 'is', 'too', 'short']:리스트\n",
    "print(str2)"
   ]
  },
  {
   "cell_type": "code",
   "execution_count": 256,
   "id": "332cd94e",
   "metadata": {},
   "outputs": [
    {
     "name": "stdout",
     "output_type": "stream",
     "text": [
      "10\n",
      "[1, 2, 3, 4, 5]\n",
      "이숭무\n",
      "['Life', 'is', 'too', 'short']\n",
      "['Life', 'is', 'too', 'short']\n",
      "이숭무\n",
      "이상범\n",
      "10\n",
      "20\n",
      "[1, 2, 3, 4, 5]\n"
     ]
    }
   ],
   "source": [
    "# 자료형 : \n",
    "# 리터널 자료형 : 비지니스 자료형\n",
    "#              문자형리터널 : \"a\",'a',\"\"\"a\"\"\",'''a''', \"10\" , a:변수\n",
    "#              정수리터널 : 10, 20 , \"10\":문자열\n",
    "#              실수리터널 : 10.5 , \"10.5\":문자열\n",
    "# 리스트 자료형 : []\n",
    "i = 10 # 정수리터널 변수\n",
    "str1 = \"이숭무\"\n",
    "l = [1,2,3,4,5] # l : 리스트형 변수, [1,2,3,4,5] : 정수형리스트\n",
    "print(i)\n",
    "print(l)\n",
    "print(str1)\n",
    "l1 = [] # 빈리스트\n",
    "l2 = ['이숭무','이상범','이장범'] # 문자열형리스트\n",
    "l3 = [1,2,3,'이숭무','이상범'] # 혼합형리스트\n",
    "l4 = [1,2,3,[4,5,6]] #리스트를 포함한 리스트\n",
    "str1 = \"Life:is:too:short\"\n",
    "str2 = str1.split(\":\")\n",
    "print(str2)\n",
    "l5 = ['Life', 'is', 'too', 'short']\n",
    "print(l5)\n",
    "\n",
    "#변수의 특징은 오로지 하나의 값만 가진다.\n",
    "#문자열 변수 \n",
    "a = \"이숭무\"\n",
    "print(a)\n",
    "a = \"이상범\"\n",
    "print(a)\n",
    "a = 10\n",
    "print(a)\n",
    "a = 20\n",
    "print(a)\n",
    "# 여러개의 값을 저장할 수 있는 자료형 : 리스트\n",
    "l = [1,2,3,4,5]\n",
    "print(l)"
   ]
  },
  {
   "cell_type": "code",
   "execution_count": 269,
   "id": "47ce2910",
   "metadata": {},
   "outputs": [
    {
     "name": "stdout",
     "output_type": "stream",
     "text": [
      "f\n",
      "t\n",
      "['Life', 'is', 'too', 'short']\n",
      "is\n",
      "is\n",
      "s\n",
      "s\n",
      "s\n",
      "short\n",
      "r\n",
      "r\n",
      "isshort\n",
      "2\n",
      "4\n",
      "6\n",
      "too\n",
      "3\n",
      "tootootoo\n"
     ]
    }
   ],
   "source": [
    "# indexing\n",
    "str1 = \"Life is too short\" # 문자열의 각문자에 고유번호 \n",
    "#       01234567890123456\n",
    "#                 1\n",
    "#       76543210987654321 -\n",
    "#              1\n",
    "print(str1[2])\n",
    "print(str1[-1])\n",
    "l1 = ['Life', 'is', 'too', 'short']  #요소에 부여된 번호 : index\n",
    "#       0      1      2       3\n",
    "#       4      3      2       1  -\n",
    "print(l1)\n",
    "print(l1[1]) # is : 문자열\n",
    "#              01\n",
    "print(l1[-3])\n",
    "print(l1[1][1])\n",
    "print(l1[-3][1])\n",
    "\n",
    "print(\"is\"[1])\n",
    "print(l1[3]) # short : 문자열\n",
    "print(\"short\"[3])\n",
    "print(l1[3][3])\n",
    "\n",
    "print(l1[1] + l1[3]) # 문자열 + 문자열\n",
    "l2 = [1, 2, 3, 4]\n",
    "#     0  1  2  3\n",
    "print(l2[1]) # 2\n",
    "print(l2[3]) # 4\n",
    "print(l2[1] + l2[3]) # 6\n",
    "\n",
    "l3 = ['Life', 'is', 'too', 'short', 3]\n",
    "print(l3[2]) # too\n",
    "print(l3[4]) # 3\n",
    "print(l3[2] * l3[4]) #  문자열 * 정수"
   ]
  },
  {
   "cell_type": "code",
   "execution_count": 273,
   "id": "69d518cf",
   "metadata": {},
   "outputs": [
    {
     "name": "stdout",
     "output_type": "stream",
     "text": [
      "b\n",
      "b\n",
      "b\n"
     ]
    }
   ],
   "source": [
    "a = [1, 2, 3, 4, ['a', 'b', 'c']]\n",
    "#    0  1  2  3         4\n",
    "#                  0    1    2\n",
    "#    5  4  3  2         1       -\n",
    "#                  3    2    1  -\n",
    "print(a[4][1])\n",
    "print(a[-1][1])\n",
    "print(a[-1][-2])"
   ]
  },
  {
   "cell_type": "code",
   "execution_count": 279,
   "id": "0e46d42e",
   "metadata": {},
   "outputs": [
    {
     "name": "stdout",
     "output_type": "stream",
     "text": [
      "['a', 'b', ['Life', 'is']]\n",
      "['Life', 'is']\n",
      "Life\n",
      "i\n"
     ]
    }
   ],
   "source": [
    "a = [1, 2, ['a', 'b', ['Life', 'is']]]\n",
    "#    0  1             2\n",
    "#            0    1          2\n",
    "#                         0      1\n",
    "print(a[2]) # ['a', 'b', ['Life', 'is']]\n",
    "#               0    1         2\n",
    "print(a[2][2]) #['Life', 'is']\n",
    "#                   0      1\n",
    "print(a[2][2][0]) # Life\n",
    "#                   0123\n",
    "print(a[2][2][0][1])"
   ]
  },
  {
   "cell_type": "code",
   "execution_count": 289,
   "id": "1794df0f",
   "metadata": {},
   "outputs": [
    {
     "name": "stdout",
     "output_type": "stream",
     "text": [
      "e i\n",
      "[3, 4, 5]\n",
      "2\n",
      "6\n",
      "[2]\n",
      "[4]\n",
      "[2, 4]\n",
      "[1, 2, 3, 4, 5, 6, 7, 1, 2, 3, 4, 5, 6, 7, 1, 2, 3, 4, 5, 6, 7, 1, 2, 3, 4, 5, 6, 7]\n"
     ]
    }
   ],
   "source": [
    "# slicing\n",
    "str1 = \"Life is too short\"\n",
    "print(str1[3:3+3])\n",
    "l = [1,2,3,4,5,6,7]\n",
    "#    0 1 2 3 4 5 6\n",
    "print(l[2:2+3]) # 리스트\n",
    "print(l[1]) # 정수\n",
    "print(l[1] + l[3]) # 정수 + 정수\n",
    "print(l[1:1+1]) # [2]\n",
    "print(l[3:3+1]) # [4]\n",
    "print(l[1:1+1] + l[3:3+1]) # 리스트 + 리스트\n",
    "print(l * 4) # 반복연산자."
   ]
  },
  {
   "cell_type": "code",
   "execution_count": 292,
   "id": "71186236",
   "metadata": {},
   "outputs": [
    {
     "name": "stdout",
     "output_type": "stream",
     "text": [
      "your leg is too short\n",
      "Life\n",
      "['your leg', 'is', 'too', 'short']\n"
     ]
    }
   ],
   "source": [
    "str1 = 'Life is too short'\n",
    "str2 = str1.replace(\"Life\", \"your leg\");\n",
    "print(str2)\n",
    "#str1[1] = 'y'; \n",
    "c = ['Life', 'is', 'too', 'short'] \n",
    "### 'Life'를 ' your leg'\n",
    "print(c[0])\n",
    "c[0] = 'your leg'\n",
    "print(c)\n",
    "#리스트에서는 요소를 변경할 수 있다."
   ]
  },
  {
   "cell_type": "code",
   "execution_count": 312,
   "id": "8738f3e2",
   "metadata": {},
   "outputs": [
    {
     "name": "stdout",
     "output_type": "stream",
     "text": [
      "['b', 'a', 'b', 'a', 'b', 'a', 'b', 'a']\n"
     ]
    }
   ],
   "source": [
    "a = [1, 2, 3, ['a', 'b', 'c'], 4, 5]\n",
    "#    0  1  2         3         4\n",
    "\n",
    "# [3, ['a', 'b', 'c'], 4]를 출력\n",
    "print(a[2: 2 + 3])\n",
    "# ['a', 'b', 'c']를 출력\n",
    "print(a[2: 2+ 3][1])\n",
    "print(a[3])\n",
    "# 'b'를 출력\n",
    "print(a[2: 2+ 3][1][1])\n",
    "print(a[3][1])\n",
    "# ['b', 'c']를 출력하세요\n",
    "print(a[2: 2+ 3][1][1:1+2])\n",
    "print(a[3][1:1+2])\n",
    "# 위 리스트를 이용해서 ['b', 'c','b', 'c','b', 'c','b', 'c'] 가 출력되게 하시오.\n",
    "print(a[2: 2+ 3][1][1:1+2] * a[4])\n",
    "print(a[3][1:1+2] * a[4])\n"
   ]
  },
  {
   "cell_type": "code",
   "execution_count": null,
   "id": "0b7fea57",
   "metadata": {},
   "outputs": [],
   "source": []
  },
  {
   "cell_type": "code",
   "execution_count": null,
   "id": "7ca3e519",
   "metadata": {},
   "outputs": [],
   "source": []
  },
  {
   "cell_type": "code",
   "execution_count": null,
   "id": "a5f26ba0",
   "metadata": {},
   "outputs": [],
   "source": []
  }
 ],
 "metadata": {
  "kernelspec": {
   "display_name": "Python 3 (ipykernel)",
   "language": "python",
   "name": "python3"
  },
  "language_info": {
   "codemirror_mode": {
    "name": "ipython",
    "version": 3
   },
   "file_extension": ".py",
   "mimetype": "text/x-python",
   "name": "python",
   "nbconvert_exporter": "python",
   "pygments_lexer": "ipython3",
   "version": "3.11.2"
  }
 },
 "nbformat": 4,
 "nbformat_minor": 5
}
