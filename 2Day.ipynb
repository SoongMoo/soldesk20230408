{
 "cells": [
  {
   "cell_type": "code",
   "execution_count": 1,
   "id": "1590ef83",
   "metadata": {},
   "outputs": [
    {
     "name": "stderr",
     "output_type": "stream",
     "text": [
      "C:\\Users\\soldesk\\AppData\\Local\\Temp\\ipykernel_4936\\1014303460.py:1: DeprecationWarning: Importing display from IPython.core.display is deprecated since IPython 7.14, please import from IPython display\n",
      "  from IPython.core.display import display, HTML\n"
     ]
    },
    {
     "data": {
      "text/html": [
       "<style>\n",
       "div.container { width:100% !important; }\n",
       "div.CodeMirror {font-family: Consolas; font-size: 30pt;}\n",
       "div.output { font-size: 20pt; font-weight: bold;}\n",
       "div.input { font-family: Consolas; font-size: 30pt;}\n",
       "div.prompt { min-width: 100px;}\n",
       "</style>\n"
      ],
      "text/plain": [
       "<IPython.core.display.HTML object>"
      ]
     },
     "metadata": {},
     "output_type": "display_data"
    }
   ],
   "source": [
    "from IPython.core.display import display, HTML\n",
    "display(HTML(\n",
    "\"\"\"<style>\n",
    "div.container { width:100% !important; }\n",
    "div.CodeMirror {font-family: Consolas; font-size: 30pt;}\n",
    "div.output { font-size: 20pt; font-weight: bold;}\n",
    "div.input { font-family: Consolas; font-size: 30pt;}\n",
    "div.prompt { min-width: 100px;}\n",
    "</style>\n",
    "\"\"\"))"
   ]
  },
  {
   "cell_type": "code",
   "execution_count": 6,
   "id": "9dc4f2eb",
   "metadata": {},
   "outputs": [
    {
     "name": "stdout",
     "output_type": "stream",
     "text": [
      "i\n",
      "2\n",
      "[1, 10, 3, 4, 5]\n",
      "[1, 10, 3, 4, 100]\n"
     ]
    }
   ],
   "source": [
    "l = [1,2,3,4,5]\n",
    "str1 = \"Pithon\"\n",
    "print(str1[1])\n",
    "#str1[1] = 'y'\n",
    "print(l[1])\n",
    "l[1] = 10 #각 요소의 값을 변경할 수 있다.\n",
    "print(l)\n",
    "l[4]\n",
    "l[4] = 100\n",
    "print(l)"
   ]
  },
  {
   "cell_type": "code",
   "execution_count": 9,
   "id": "55253204",
   "metadata": {},
   "outputs": [
    {
     "name": "stdout",
     "output_type": "stream",
     "text": [
      "6\n",
      "5\n"
     ]
    }
   ],
   "source": [
    "# 리스트 함수\n",
    "print(len(str1)) # 문자의 갯수\n",
    "print(len(l)) # 요소의 갯수"
   ]
  },
  {
   "cell_type": "code",
   "execution_count": 19,
   "id": "d73acf81",
   "metadata": {},
   "outputs": [
    {
     "name": "stdout",
     "output_type": "stream",
     "text": [
      "['Life', 'is', 'too']\n",
      "['Life', 'is', 'too', 'short']\n",
      "['Life', 'is', 'too', 'short', 3]\n",
      "['Life', 'is', 'short']\n",
      "['Life', 'is', 'too', 'short']\n",
      "['Life', 'is', 'too', 'short', 1, 2, 3]\n",
      "['Life', 'is', 'too', 'short']\n",
      "['Life', 'is', 'too', 'short', 1, 2, 3]\n"
     ]
    }
   ],
   "source": [
    "### 리스트에 요소 추가 \n",
    "l1 = ['Life','is'] #문자열을 가진 리스트\n",
    "# 요소 'is' 뒤에 'too'를 추가  ['Life','is','too']\n",
    "l1.append('too')\n",
    "print(l1)\n",
    "# ['Life','is','too']에 short 를 추가\n",
    "l1.append('short')\n",
    "print(l1)\n",
    "l1.append(3)\n",
    "print(l1)\n",
    "# 원하는 위치에 요소 삽입하기\n",
    "l1 = ['Life','short']\n",
    "#       0       1\n",
    "l1.insert(1, 'is')\n",
    "print(l1) # ['Life', 'is', 'short']\n",
    "#              0       1      2\n",
    "l1.insert(2,'too')\n",
    "print(l1) # ['Life', 'is', 'too', 'short']\n",
    "a = [1,2,3]\n",
    "# ['Life', 'is', 'too', 'short' ,1,2,3]\n",
    "# 리스트 확장\n",
    "print(l1 + a)\n",
    "print(l1)\n",
    "l1.extend(a)\n",
    "print(l1)"
   ]
  },
  {
   "cell_type": "code",
   "execution_count": 43,
   "id": "162a9752",
   "metadata": {},
   "outputs": [
    {
     "name": "stdout",
     "output_type": "stream",
     "text": [
      "['Life', 'is', 'too', 'short', 2, 3]\n",
      "['too', 'short']\n",
      "['Life', 'is', 2, 3]\n",
      "['is', 2, 3]\n",
      "['Life']\n",
      "['Life', 'is', 'too', 1, 2, 3]\n",
      "['Life', 'is', 'too', 2, 3]\n",
      "None\n",
      "3\n",
      "['Life', 'is', 'too', 'short', 1, 2]\n",
      "2\n",
      "['Life', 'is', 'too', 'short', 1]\n",
      "too\n",
      "['Life', 'is', 'short', 1]\n"
     ]
    }
   ],
   "source": [
    "#요소 삭제\n",
    "l1 = ['Life', 'is', 'too', 'short', 1, 2, 3]\n",
    "#        0       1      2      3     4  5  6\n",
    "# index를 이용해서 요소 삭제\n",
    "del l1[4]\n",
    "print(l1)\n",
    "#slicing을 이용해서 삭제\n",
    "print(l1[2:2+2])\n",
    "del l1[2:2+2]\n",
    "print(l1)\n",
    "print(l1[1:])\n",
    "del l1[1:]\n",
    "print(l1)\n",
    "l1 = ['Life', 'is', 'too', 'short', 1, 2, 3]\n",
    "# 요소를 이용해서 삭제\n",
    "l1.remove('short')\n",
    "print(l1)\n",
    "l1.remove(1)\n",
    "print(l1)\n",
    "#l1.remove([2])\n",
    "#l1.remove('2')\n",
    "result = l1.remove('is')\n",
    "print(result)\n",
    "# 리스트에 있는 값을 가지고 나온 후 삭제\n",
    "l1 = ['Life', 'is', 'too', 'short', 1, 2, 3]\n",
    "#       0      1      2       3     4  5  6\n",
    "result = l1.pop() # 맨뒤에 있는 값을 가지고 나온 후 삭제\n",
    "print(result)\n",
    "print(l1)\n",
    "result = l1.pop() # 비 복원추출\n",
    "print(result)\n",
    "print(l1)\n",
    "result = l1.pop(2) # index를 이용해서 값을 가지고 나온 후 삭제\n",
    "print(result)\n",
    "print(l1)\n",
    "#주사위는 복원추출이다."
   ]
  },
  {
   "cell_type": "code",
   "execution_count": 60,
   "id": "e5a583c2",
   "metadata": {},
   "outputs": [
    {
     "name": "stdout",
     "output_type": "stream",
     "text": [
      "[1, 2, 3, 4, 5]\n",
      "[5, 4, 3, 2, 1]\n",
      "[3, 1, 5, 2, 4]\n"
     ]
    }
   ],
   "source": [
    "# 정렬 --  오름차순, 내림차순\n",
    "l = [4,2,5,1,3]\n",
    "#오름차순\n",
    "l.sort()\n",
    "print(l)\n",
    "#내림차순\n",
    "l.sort(reverse=True)\n",
    "print(l)\n",
    "l = [4,2,5,1,3]\n",
    "l.reverse()\n",
    "print(l)\n",
    "# 문자열 리스트인 경우 정렬 : 사전 순서\n",
    "# 문자열과 숫자가 혼합된 리스트를 정렬 (x): \n",
    "# '<' not supported between instances of 'str' and 'int'"
   ]
  },
  {
   "cell_type": "code",
   "execution_count": 61,
   "id": "01a2b924",
   "metadata": {},
   "outputs": [
    {
     "name": "stdout",
     "output_type": "stream",
     "text": [
      "2\n",
      "2\n",
      "3\n",
      "2\n",
      "-1\n",
      "2\n",
      "1\n",
      "4\n"
     ]
    }
   ],
   "source": [
    "str3 = 'hobby'\n",
    "print(str3.count('b'))\n",
    "print(str3.index('b'))\n",
    "print(str3.index('b',3))\n",
    "print(str3.find('b'))\n",
    "#print(str3.index('k')) # 오류\n",
    "print(str3.find('k')) # -1\n",
    "\n",
    "a = [1, 4, 2, 5, 4, 3]\n",
    "print(a.count(4))\n",
    "print(a.index(4))\n",
    "print(a.index(4, 2))\n",
    "#print(a.find(4)) #리스트에서는  find함수가 없다.\n",
    "#print(a.index(6)) #오류"
   ]
  },
  {
   "cell_type": "code",
   "execution_count": 75,
   "id": "56082921",
   "metadata": {},
   "outputs": [
    {
     "name": "stdout",
     "output_type": "stream",
     "text": [
      "[1, 2, 3, 4]\n",
      "(1, 2, 3, 4)\n",
      "[6]\n",
      "2\n",
      "(2,)\n",
      "1\n",
      "(1,)\n",
      "(1, 2)\n"
     ]
    }
   ],
   "source": [
    "'''\n",
    "리터널 자료형: 숫자자료형 : 정수 : 10,  5\n",
    "                          실수 : 10.5 , 5.2\n",
    "              문자열자료형 : \"a\", 'a',\"\"\"a\"\"\", '''''' ,'10', '10.5'\n",
    "리스트 자료형 : [], [1], [10.5], ['a'] , [1,2,'a'], [[1],2]\n",
    "튜플   자료형 : (), (1,2), ('a', 'b') \n",
    "'''\n",
    "a = 10\n",
    "b = \"a\"\n",
    "l = [] #빈 리스트\n",
    "t = () #빈 튜플\n",
    "l = [1,2,3,4] \n",
    "print(l)\n",
    "t = (1,2,3,4)\n",
    "print(t)\n",
    "l = [1]\n",
    "print([(1 + 1) * 3])\n",
    "print((1 + 1))\n",
    "print((1+1,))\n",
    "t = (1)\n",
    "print(t)\n",
    "t = (1,) #요소가 하나인 경우에는 최우선 연산자와 구별하기 위해 콤마를 넣어준다\n",
    "print(t)\n",
    "t = (1,2) #정수형 튜플\n",
    "print(t)\n",
    "t = ('a','b')#문자열 튜플\n",
    "t= ('a','b',1,2,3) #혼합형튜플\n",
    "t= ('a','b',(1,2,3))\n",
    "t= ('a','b',(1,2,3),[1,2,3], 1,2,3)"
   ]
  },
  {
   "cell_type": "code",
   "execution_count": 90,
   "id": "f95adbed",
   "metadata": {},
   "outputs": [
    {
     "name": "stdout",
     "output_type": "stream",
     "text": [
      "3\n",
      "3\n",
      "[3, 4, 3]\n",
      "(3, 4, 3)\n",
      "[3, 4, 3, 10]\n",
      "(3, 4, 3, 10)\n",
      "[1, 2, 3, 4]\n",
      "(1, 2, 3, 4)\n",
      "2\n",
      "2\n",
      "2\n",
      "2\n",
      "5\n",
      "5\n"
     ]
    }
   ],
   "source": [
    "# indexing, slicing을 할 수 있다\n",
    "l = [1,2,3,4,3]\n",
    "t = (1,2,3,4,3)\n",
    "#    0 1 2 3\n",
    "print(l[2])\n",
    "print(t[2])\n",
    "print(l[2:])\n",
    "print(t[2:])\n",
    "print(l[2:] + [10])\n",
    "print(t[2:] + (10,))\n",
    "print(l[:4])\n",
    "print(t[:4])\n",
    "print(l.index(3))\n",
    "print(t.index(3))\n",
    "print(l.count(3))\n",
    "print(t.count(3))\n",
    "print(len(l))\n",
    "print(len(t))"
   ]
  },
  {
   "cell_type": "code",
   "execution_count": 91,
   "id": "fc9f34cb",
   "metadata": {},
   "outputs": [
    {
     "name": "stdout",
     "output_type": "stream",
     "text": [
      "3\n",
      "[1, 2, 10, 4]\n",
      "3\n",
      "[1, 2, 4]\n"
     ]
    }
   ],
   "source": [
    "# 리스트와 튜플의 차이점\n",
    "l = [1,2,3,4]\n",
    "t = (1,2,3,4)\n",
    "print(l[2])\n",
    "l[2] = 10\n",
    "print(l)\n",
    "print(t[2])\n",
    "#t[2] = 10\n",
    "# 요소의 값을 변경 가능한 것은 리스트\n",
    "# 요소의 값을 변경 가능하지 않은 것은 튜플\n",
    "del l[2]\n",
    "print(l)\n",
    "#del t[2]"
   ]
  },
  {
   "cell_type": "code",
   "execution_count": 97,
   "id": "2b912e8b",
   "metadata": {},
   "outputs": [
    {
     "name": "stdout",
     "output_type": "stream",
     "text": [
      "['h', 'e', 'l', 'l', 'o']\n",
      "('h', 'e', 'l', 'l', 'o')\n",
      "101\n",
      "11\n",
      "11.0\n"
     ]
    }
   ],
   "source": [
    "str1 = \"hello\"\n",
    "l = list(str1)\n",
    "print(l)\n",
    "t = tuple(str1)\n",
    "print(t)\n",
    "a = \"1\"\n",
    "print(str(10) + a)\n",
    "print(10 + int(a))\n",
    "print(10 + float(a))"
   ]
  },
  {
   "cell_type": "code",
   "execution_count": 112,
   "id": "815441a4",
   "metadata": {},
   "outputs": [
    {
     "name": "stdout",
     "output_type": "stream",
     "text": [
      "3\n",
      "b\n",
      "[1, 2, 3]\n",
      "(1, 2, 3)\n",
      "2\n",
      "2\n",
      "(3, 'a')\n",
      "[3, 'a']\n",
      "l\n",
      "l\n",
      "(1, 2, 3, 'a', 'b', [1, 2, 3], (1, 2, 3))\n",
      "1 2\n",
      "1 2\n"
     ]
    }
   ],
   "source": [
    "t7 = (1, 2, 3, \"a\", \"b\", [1,2,3], (1,2,3))\n",
    "#     0  1  2   3    4      5        6\n",
    "print(t7[2]) #정수\n",
    "print(t7[4]) #문자열\n",
    "print(t7[5]) #리스트\n",
    "print(t7[6]) #튜플\n",
    "print(t7[5][1]) #정수\n",
    "print(t7[6][1]) #정수\n",
    "print(t7[2:4]) # 튜플\n",
    "l7 = [1, 2, 3, \"a\", \"b\", [1,2,3], (1,2,3)]\n",
    "print(l7[2:4]) # 리스트\n",
    "str1 = \"hello\"\n",
    "print(str1[2])\n",
    "print(\"hello\"[2])\n",
    "t8 = 1, 2, 3, \"a\", \"b\", [1,2,3], (1,2,3)\n",
    "print(t8)\n",
    "a, b = 1 , 2\n",
    "print(a, b)\n",
    "a, b = (1, 2)\n",
    "print(a, b)"
   ]
  },
  {
   "cell_type": "code",
   "execution_count": 116,
   "id": "9ebcdf53",
   "metadata": {},
   "outputs": [
    {
     "name": "stdout",
     "output_type": "stream",
     "text": [
      "Lifeistooshort\n",
      "Life is too short\n",
      "Life is too short\n",
      "h e l l o\n"
     ]
    }
   ],
   "source": [
    "l = ['Life', 'is', 'too', 'short' ]\n",
    "print(\"\".join(l))\n",
    "print(\" \".join(l)) #리스트를 문자열로 변경할 때\n",
    "t = ('Life', 'is', 'too', 'short' )\n",
    "print(\" \".join(t))\n",
    "str1 = \"hello\"\n",
    "print(\" \".join(str1))"
   ]
  },
  {
   "cell_type": "code",
   "execution_count": 127,
   "id": "b9fbcebb",
   "metadata": {},
   "outputs": [
    {
     "name": "stdout",
     "output_type": "stream",
     "text": [
      "3\n",
      "3\n",
      "l\n",
      "이숭무\n",
      "35\n",
      "이상범\n",
      "이숭무\n",
      "[1, 2, 10, 4]\n",
      "{2: '김찬중', 0: '이상범', 1: '이장범'}\n",
      "{2: '김찬중', 0: '이상범', 1: '이장범', 3: '이숭무'}\n",
      "{1: '이상범'}\n",
      "{1: '이성범'}\n"
     ]
    }
   ],
   "source": [
    "# 리터널 자료형 : 정수, 실수, 문자열\n",
    "# 리스트 자료형 : []\n",
    "# 튜플 자료형 : (), (1,), (1,2,3)\n",
    "# 딕셔너리(사전) : {}, {key_1:value_1,..., key_n:value_n}\n",
    "               #  자바스크립트 : json , 자바 : map<key, value> \n",
    "dic = {}\n",
    "dic1 = {'name':'이숭무', 'age':35, 'height':175.5}\n",
    "l = [1,2,3,4]\n",
    "print(l[2]) \n",
    "t = (1,2,3,4)\n",
    "print(t[2])\n",
    "str1= \"hello\"\n",
    "print(str1[2])\n",
    "print(dic1['name'])\n",
    "print(dic1['age'])\n",
    "d2 = {2:'이숭무', 0:'이상범', 1:'이장범'}\n",
    "#        0           1            2   딕셔너리는 index를 사용하지 않는다.\n",
    "print(d2[0]) # 값을 key를 이용해서 가지고 온다.\n",
    "print(d2[2])\n",
    "l[2] = 10 # index를 이용해서 값을 변경\n",
    "print(l)\n",
    "d2[2] = '김찬중' #키를 이용해서 값을 변경할 수 있다.\n",
    "print(d2)\n",
    "# l[4] = 100 index가 없는 경우 오류 발생\n",
    "d2[3] = '이숭무'\n",
    "print(d2) # 키가 있는 경우 값을 변경하고 키가 없는 경우 요소를 추가\n",
    "#키의 중복을 허용하지 않는다.\n",
    "d3 = {1:'이숭무' , 1:'이상범' }\n",
    "print(d3)\n",
    "d3 = {1:'이숭무'}\n",
    "d3[1] = \"이상범\"\n",
    "print(d3)"
   ]
  },
  {
   "cell_type": "code",
   "execution_count": 139,
   "id": "f039e772",
   "metadata": {},
   "outputs": [
    {
     "name": "stdout",
     "output_type": "stream",
     "text": [
      "{'name': '이숭무', 'age': 35, 'height': 175.5, 'phone': '01071461970'}\n",
      "[1, 3, 4]\n",
      "{'name': '이숭무', 'height': 175.5, 'phone': '01071461970'}\n",
      "dict_keys(['name', 'height', 'phone'])\n",
      "dict_values(['이숭무', 175.5, '01071461970'])\n",
      "dict_items([('name', '이숭무'), ('height', 175.5), ('phone', '01071461970')])\n",
      "[1, 3, 4]\n",
      "[]\n",
      "{'name': '이숭무', 'height': 175.5, 'phone': '01071461970'}\n",
      "{}\n",
      "(1, 2, 3, 4)\n"
     ]
    }
   ],
   "source": [
    "#딕셔너리 함수\n",
    "dic1 = {'name':'이숭무', 'age':35, 'height':175.5}\n",
    "dic1['phone'] = '01071461970'\n",
    "print(dic1)\n",
    "l = [1,2,3,4]\n",
    "del l[1]\n",
    "print(l)\n",
    "del dic1['age']\n",
    "print(dic1)\n",
    "### 딕셔너리에 있는 키만 가져오기\n",
    "print(dic1.keys())\n",
    "### 딕셔너리에 있는 값만 가져오기\n",
    "print(dic1.values())\n",
    "## 키와 값을 쌍으로 \n",
    "print(dic1.items())\n",
    "print(l)\n",
    "l.clear()\n",
    "print(l)\n",
    "print(dic1)\n",
    "dic1.clear()\n",
    "print(dic1)"
   ]
  },
  {
   "cell_type": "code",
   "execution_count": 145,
   "id": "d0caec4b",
   "metadata": {},
   "outputs": [
    {
     "name": "stdout",
     "output_type": "stream",
     "text": [
      "{'name': 'pey', 'phone': '0119993323', 'birth': '19981118'}\n",
      "19981118\n",
      "1998\n",
      "11\n",
      "18\n",
      "1998\n",
      "11\n",
      "11\n",
      "18\n"
     ]
    }
   ],
   "source": [
    "dic= {'name': 'pey', 'phone': '0119993323', 'birth': '1118'}\n",
    "dic['birth'] = '19981118'\n",
    "#               87654321 - \n",
    "print(dic)\n",
    "print(dic['birth']) #요소의 value가 문자열이므로 indexing또는 slicing을 할 수 있다.\n",
    "## 년, 월 , 일을 따로 출력하세요\n",
    "print(dic['birth'][0:4])\n",
    "print(dic['birth'][4:4+2])\n",
    "print(dic['birth'][6:])\n",
    "\n",
    "print(dic['birth'][0:-4])\n",
    "print(dic['birth'][-4:4+2])\n",
    "print(dic['birth'][-4:-4+2])\n",
    "print(dic['birth'][-2:])"
   ]
  },
  {
   "cell_type": "code",
   "execution_count": 157,
   "id": "38ec2f3d",
   "metadata": {},
   "outputs": [
    {
     "name": "stdout",
     "output_type": "stream",
     "text": [
      "pey\n",
      "pey\n",
      "None\n",
      "10\n",
      "600\n",
      "600\n",
      "1200\n",
      "100\n",
      "1200\n",
      "1000\n"
     ]
    }
   ],
   "source": [
    "dic= {'name': 'pey', 'phone': '0119993323', 'birth': '1118'}\n",
    "print(dic['name'])\n",
    "print(dic.get('name'))\n",
    "#print(dic['money'])\n",
    "print(dic.get('money'))\n",
    "print(dic.get('money', 10))\n",
    "dic1 = {'classic' : 500 ,  \"pop\" : 600 }\n",
    "dic2 = {'classic' : 500 ,  \"pop\" : 600, 'money': 100 }\n",
    "print(dic1['pop']) #정수\n",
    "print(dic2['pop']) #정수\n",
    "print(dic1['pop'] + dic2['pop'])\n",
    "#print(dic1['money'] + dic2['money'])\n",
    "print(dic1.get('money',0) + dic2.get('money', 0))\n",
    "print(dic1.get('pop',0) + dic2.get('pop', 0))\n",
    "print(dic1.get('classic',0) + dic2.get('classic', 0))"
   ]
  },
  {
   "cell_type": "code",
   "execution_count": 168,
   "id": "ed92239b",
   "metadata": {},
   "outputs": [
    {
     "name": "stdout",
     "output_type": "stream",
     "text": [
      "{1, 2, 3, 4, 5}\n",
      "{1: '이', 2: '숭'}\n",
      "(1, 2, 3, 4, 5)\n",
      "[1, 2, 3, 4, 5]\n",
      "1 2 3 4 5\n",
      "1 2 3 4 5\n",
      "20\n",
      "10100\n",
      "{1, 2, 3, 4, 5}\n",
      "{1, 2, 3, 4, 5}\n"
     ]
    }
   ],
   "source": [
    "# 집합(set) : 교집합 ,합집합, 차집합\n",
    "dic = {1:'이', 2:'숭'}\n",
    "s = {1,2,3,4,5}\n",
    "print(s)\n",
    "print(dic)\n",
    "t  = tuple([1,2,3,4,5])\n",
    "print(t)\n",
    "l = list((1, 2, 3, 4, 5))\n",
    "print(l)\n",
    "str1 = \" \".join(['1','2','3','4','5'])\n",
    "print(str1)\n",
    "str1 = \" \".join(('1','2','3','4','5'))\n",
    "print(str1)\n",
    "i = int('10')\n",
    "print(i + 10)\n",
    "str2 = str(10)\n",
    "print(str2 + \"100\")\n",
    "s = set([1,2,3,4,5])\n",
    "print(s)\n",
    "s = set((1,2,3,4,5))\n",
    "print(s)"
   ]
  },
  {
   "cell_type": "code",
   "execution_count": 186,
   "id": "5c9fbc58",
   "metadata": {},
   "outputs": [
    {
     "name": "stdout",
     "output_type": "stream",
     "text": [
      "{4, 5}\n",
      "{4, 5}\n",
      "{1, 2, 3, 4, 5, 6, 7, 8}\n",
      "{1, 2, 3, 4, 5, 6, 7, 8}\n",
      "{1, 2, 3}\n",
      "{8, 6, 7}\n",
      "{1, 2, 3}\n",
      "{8, 6, 7}\n",
      "{1, 2, 3, 4, 5, 7}\n",
      "{1, 2, 3, 4, 5, 7, 9}\n",
      "{1, 2, 3, 4, 5, 7, 9, (10, 11, 12)}\n",
      "{1, 2, 3, 4, 5, 7, 9}\n",
      "{1, 2, 3, 4, 5, 7, 9, 10, 11, 12}\n",
      "{1, 2, 3, 4, 5, 7, 9, 10, 11, 12, 13, 14, 15}\n"
     ]
    }
   ],
   "source": [
    "s1 = {1,2,3,4,5}\n",
    "s2 = {4,5,6,7,8}\n",
    "#교집합\n",
    "print(s1 & s2)\n",
    "print(s1.intersection(s2))\n",
    "#합집합\n",
    "print(s1 | s2)\n",
    "print(s1.union(s2))\n",
    "#차집합\n",
    "print(s1 - s2)\n",
    "print(s2 - s1)\n",
    "print(s1.difference(s2))\n",
    "print(s2.difference(s1))\n",
    "#요소 추가\n",
    "s1.add(7)\n",
    "print(s1)\n",
    "s1.add(9)\n",
    "print(s1)\n",
    "#s2에 10,11,12를 추가\n",
    "s1.add((10,11,12)) #요소 한개만 추가 가능\n",
    "print(s1)\n",
    "s1.remove((10,11,12))\n",
    "print(s1)\n",
    "s1.update((10,11,12))\n",
    "print(s1)\n",
    "s1.update([13,14,15])\n",
    "print(s1)\n",
    "#s1.remove(10,12) #요소 하나씩만 가능\n",
    "#s1.remove((10,12)) #튜플을 삭제"
   ]
  },
  {
   "cell_type": "code",
   "execution_count": 188,
   "id": "3b8c389c",
   "metadata": {},
   "outputs": [
    {
     "name": "stdout",
     "output_type": "stream",
     "text": [
      "hello\n",
      "{'e', 'l', 'o', 'h'}\n"
     ]
    }
   ],
   "source": [
    "s = \"hello\"\n",
    "print(s)\n",
    "s = set(\"hello\") #집합자료형은 중복값을 허용하지 않는다.\n",
    "print(s)"
   ]
  },
  {
   "cell_type": "code",
   "execution_count": 199,
   "id": "ca724670",
   "metadata": {},
   "outputs": [
    {
     "name": "stdout",
     "output_type": "stream",
     "text": [
      "1\n",
      "10\n",
      "100\n",
      "True\n",
      "False\n",
      "False\n",
      "10\n",
      "True\n",
      "True\n",
      "False\n",
      "True\n",
      "True\n",
      "False\n",
      "True\n",
      "True\n",
      "False\n"
     ]
    }
   ],
   "source": [
    "i = 1\n",
    "print(i)\n",
    "i = 10\n",
    "print(i)\n",
    "i = 100\n",
    "print(i)\n",
    "b = True\n",
    "print(b)\n",
    "b = False\n",
    "print(b)\n",
    "#리터널 자료형 : 정수, 실수 : +, -, *, /, //, %, **\n",
    "#               문자열 : + , *\n",
    "#리스트 자료형 : [] : + , *\n",
    "#튜플 자료형 : (), (1,) : +, *\n",
    "#딕셔너리 : {}, {key:value,..., n}\n",
    "#집합 자료형 : {1,2,3} : & , |\n",
    "#부울 자료형 : True(참), False(거짓) : 논리연산자 (and / or)\n",
    "#b = true # name 'true' is not defined : 변수\n",
    "print(b)\n",
    "true = 10\n",
    "print(true)\n",
    "b = True\n",
    "print(b)\n",
    "# 부울 자료형 : 논리연산\n",
    "print(True and True)\n",
    "print(True and False)\n",
    "\n",
    "print(True or True)\n",
    "print(True or False)\n",
    "print(False and False)\n",
    "\n",
    "# 비교(관계)연산자 : < , > ,>=, <= , == , != : 결과는 부울타입\n",
    "mat = 40\n",
    "eng = 80\n",
    "#각 과목이 40점이상이고 평균이 60점 이상이면 True\n",
    "result = mat >= 40 and eng >= 40 and (mat+eng) / 2 >= 60\n",
    "print(result)\n",
    "result = mat >= 40 #비교연산\n",
    "print(result)\n",
    "### 2200년은 윤년일까요(True)? 평년일까요(False)? \n",
    "### 4년마다 윤년이지만 100년마다는 윤년이 아니다 그렇지만 400년마다는 윤년이다.\n",
    "#논리연산과 비교연산\n",
    "result = 2200 % 4 == 0 and 2200 % 100 != 0  or  2200 % 400 == 0\n",
    "print(result) # False(평년)"
   ]
  },
  {
   "cell_type": "code",
   "execution_count": 214,
   "id": "a373c0a4",
   "metadata": {},
   "outputs": [
    {
     "name": "stdout",
     "output_type": "stream",
     "text": [
      "True\n",
      "False\n",
      "True\n",
      "True\n",
      "False\n",
      "True\n",
      "False\n",
      "True\n",
      "False\n",
      "True\n",
      "False\n",
      "False\n",
      "문자열입니다.\n",
      "숫자입니다.\n"
     ]
    }
   ],
   "source": [
    "print(bool('이숭무')) #\n",
    "print(bool('')) #blank , False\n",
    "print(bool(-1))\n",
    "print(bool(1))\n",
    "print(bool(0)) #False\n",
    "print(bool([1,2,3,4]))\n",
    "print(bool([])) #False\n",
    "print(bool((1,23)))\n",
    "print(bool(())) #False\n",
    "print(bool({1:'a'}))\n",
    "print(bool({}))#False\n",
    "print(bool(None)) #False\n",
    "\n",
    "if '이숭무':\n",
    "    print(\"문자열입니다.\")\n",
    "if 1:\n",
    "    print(\"숫자입니다.\")"
   ]
  },
  {
   "cell_type": "code",
   "execution_count": 222,
   "id": "fe0cc42f",
   "metadata": {},
   "outputs": [
    {
     "name": "stdout",
     "output_type": "stream",
     "text": [
      "<class 'str'>\n",
      "<class 'int'>\n",
      "<class 'float'>\n",
      "<class 'list'>\n",
      "<class 'tuple'>\n",
      "<class 'dict'>\n",
      "<class 'set'>\n",
      "<class 'bool'>\n"
     ]
    }
   ],
   "source": [
    "str1 = \"hello\" # str\n",
    "i = 10 #int\n",
    "f = 10.5 # float\n",
    "l = [1,2,3,4]  #list\n",
    "t = (1,2,3,4)  # tuple\n",
    "dic = {1:'이'} # dict\n",
    "s = {1,2,3,4} # set\n",
    "b = True # bool\n",
    "print(type(str1))\n",
    "print(type(i))\n",
    "print(type(f))\n",
    "print(type(l))\n",
    "print(type(t))\n",
    "print(type(dic))\n",
    "print(type(s))\n",
    "print(type(b))\n",
    "i =10\n",
    "i = \"hello\"\n",
    "i = []\n",
    "i = ()"
   ]
  },
  {
   "cell_type": "code",
   "execution_count": 230,
   "id": "ddbd76fd",
   "metadata": {},
   "outputs": [
    {
     "name": "stdout",
     "output_type": "stream",
     "text": [
      "10\n",
      "140732719494216\n",
      "2096123151616\n",
      "2096123151616\n",
      "[1, 100, 3, 4]\n",
      "2096123151616\n",
      "2096128575680\n",
      "2096123151616\n",
      "2096123359040\n"
     ]
    }
   ],
   "source": [
    "a = 10\n",
    "print(a)\n",
    "print(id(a)) #a변수저장된 10이 가지고 있는 메모리의 주소 \n",
    "b = [1,2,3,4] # 2096128575680\n",
    "print(id(b))\n",
    "c = b # 리스트에서는 안하는 것이 좋다. \n",
    "print(id(c))\n",
    "c[1] = 100 # 2096126996032[1] = 100 \n",
    "print(b)\n",
    "c = b[:]\n",
    "print(id(b))\n",
    "print(id(c))\n",
    "\n",
    "from copy import copy\n",
    "d = copy(b)\n",
    "print(id(b))\n",
    "print(id(d))"
   ]
  },
  {
   "cell_type": "code",
   "execution_count": 234,
   "id": "3110e6c6",
   "metadata": {},
   "outputs": [
    {
     "name": "stdout",
     "output_type": "stream",
     "text": [
      "1 2\n",
      "1 2\n",
      "1 2\n",
      "1 2\n",
      "1 2\n",
      "1 2\n",
      "1 2\n",
      "1 2 이숭무\n"
     ]
    }
   ],
   "source": [
    "a, b = 1, 2\n",
    "print(a, b)\n",
    "(a, b) = 1, 2\n",
    "print(a, b)\n",
    "a, b = (1, 2)\n",
    "print(a, b)\n",
    "(a, b) = (1, 2)\n",
    "print(a, b)\n",
    "[a, b] = (1, 2)\n",
    "print(a, b)\n",
    "[a, b] = [1, 2]\n",
    "print(a, b)\n",
    "[a, b] = 1, 2\n",
    "print(a, b)\n",
    "a, b, c= 1, 2, '이숭무'\n",
    "print(a,b,c)\n",
    "# a, b, c = 1, 2 # 오류"
   ]
  },
  {
   "cell_type": "code",
   "execution_count": 238,
   "id": "a08c9860",
   "metadata": {},
   "outputs": [
    {
     "name": "stdout",
     "output_type": "stream",
     "text": [
      "10 20\n",
      "20 10\n",
      "==========================================================================================\n",
      "10 20\n"
     ]
    }
   ],
   "source": [
    "a = 10; b = 20\n",
    "# b에 있는 값을 a에주고 a에 있는 값을 b에 주기\n",
    "print(a, b)\n",
    "temp = a\n",
    "a = b\n",
    "b = temp\n",
    "print(a, b)\n",
    "print('===' * 30)\n",
    "a, b = b, a\n",
    "print(a, b)"
   ]
  },
  {
   "cell_type": "code",
   "execution_count": 240,
   "id": "a1695bb4",
   "metadata": {},
   "outputs": [
    {
     "name": "stdout",
     "output_type": "stream",
     "text": [
      "문자열은 참이기 때문에 실행이된다.\n"
     ]
    }
   ],
   "source": [
    "#제어문 \n",
    "# bool타입을 이용해서 원하는 걀과를 가져오는 것\n",
    "## 조건식은  비교연산식 또는 논리연산식\n",
    "## 조건식의 결과에 따라 실행되거나 안된다.\n",
    "## 조건식이 True이면 if문 안에 있는 명령어가 실행이 된다.\n",
    "## if문 안에 있는 명령어는 Tab이나 공백문자를 이용해서 들여쓰기가 되어야한다.\n",
    "## 하지만 두개 혼용할 수 없다. tab을 많이 사용한다.\n",
    "### 조건식 뒤에는 :이 와야 한다.\n",
    "'''\n",
    "if  조건문:  # True \n",
    "    명령어1\n",
    "    명령어2\n",
    "    ...\n",
    "    명령어n\n",
    "'''\n",
    "if '이숭무': #True\n",
    "    print(\"문자열은 참이기 때문에 실행이된다.\")\n",
    "if '': # False\n",
    "    print('blank는 거짓이기 때문에 실행이 안된다.')"
   ]
  },
  {
   "cell_type": "code",
   "execution_count": 247,
   "id": "5df1c908",
   "metadata": {},
   "outputs": [
    {
     "name": "stdout",
     "output_type": "stream",
     "text": [
      "a는 20보다 작다.\n",
      "안녕\n",
      "if문 끝\n",
      "if문의 끝\n"
     ]
    }
   ],
   "source": [
    "#  단일 if\n",
    "a = 10\n",
    "if a < 20: #True\n",
    "    print(\"a는 20보다 작다.\")#if문 안에 있는 명령문\n",
    "    \n",
    "    print(\"안녕\")#if문 안에 있는 명령문\n",
    "print(\"if문 끝\") # if문 밖에 있는 명령문\n",
    "\n",
    "if a > 20 : #Fasle\n",
    "    print(\"a는 20보다 크다.\") #if문 안에 있는 명령문\n",
    "    \n",
    "print(\"if문의 끝\") # if문 밖에 있는 명령문"
   ]
  },
  {
   "cell_type": "code",
   "execution_count": 251,
   "id": "28a7c7db",
   "metadata": {},
   "outputs": [
    {
     "name": "stdout",
     "output_type": "stream",
     "text": [
      "차를타고 가시오\n"
     ]
    }
   ],
   "source": [
    "money = 2000\n",
    "if money >= 2000: # True\n",
    "    print(\"차를타고 가시오\")\n",
    "\n",
    "if money < 2000: # False\n",
    "    print(\"걸어가시오\")"
   ]
  },
  {
   "cell_type": "code",
   "execution_count": 254,
   "id": "f8be1e9b",
   "metadata": {},
   "outputs": [
    {
     "name": "stdout",
     "output_type": "stream",
     "text": [
      "걸어가시오.\n"
     ]
    }
   ],
   "source": [
    "# if ~ else : 두개 중에 하나를 실행 시키고 싶을 때\n",
    "money = 2000\n",
    "if money >= 3000: # True\n",
    "    print(\"차를 타고 가시오\")\n",
    "else: #False\n",
    "    print(\"걸어가시오.\")\n",
    "'''\n",
    "if 조건식 : # True\n",
    "    명령어1\n",
    "    명령어2\n",
    "    ...\n",
    "    명령어n\n",
    "else:      # False\n",
    "    명령어11\n",
    "    명령어12\n",
    "    ...\n",
    "    명령어nn\n",
    "'''"
   ]
  },
  {
   "cell_type": "code",
   "execution_count": 259,
   "id": "2dac89f2",
   "metadata": {},
   "outputs": [
    {
     "name": "stdout",
     "output_type": "stream",
     "text": [
      "걸어가시오\n",
      "x가 y보다 작다\n",
      "x가 y보다 같지 않다\n",
      "x가 y보다 같지 않다\n"
     ]
    }
   ],
   "source": [
    "money = 2000\n",
    "if not money >= 3000:  # not False = True\n",
    "    print(\"걸어가시오\")\n",
    "else: #False\n",
    "    print(\"차를 타고 가시오.\")\n",
    "x = 10; y = 20\n",
    "if x > y:\n",
    "    print(\"x가 y보다 크다\")\n",
    "else :\n",
    "    print(\"x가 y보다 작다\")\n",
    "if x == y:\n",
    "    print(\"x가 y보다 같다\")\n",
    "else :\n",
    "    print(\"x가 y보다 같지 않다\")\n",
    "if x != y:\n",
    "    print(\"x가 y보다 같지 않다\")\n",
    "else :\n",
    "    print(\"x가 y보다 같다\")"
   ]
  },
  {
   "cell_type": "code",
   "execution_count": 263,
   "id": "6a04a90f",
   "metadata": {},
   "outputs": [
    {
     "name": "stdout",
     "output_type": "stream",
     "text": [
      "True\n",
      "윤년\n"
     ]
    }
   ],
   "source": [
    "year = 2400\n",
    "result = year % 4 == 0 and year % 100 != 0  or  year % 400 == 0\n",
    "print(result)\n",
    "if year % 4 == 0 and year % 100 != 0  or  year % 400 == 0:\n",
    "    print(\"윤년\")\n",
    "else:\n",
    "    print(\"평년\")"
   ]
  },
  {
   "cell_type": "code",
   "execution_count": 275,
   "id": "86326280",
   "metadata": {},
   "outputs": [
    {
     "name": "stdout",
     "output_type": "stream",
     "text": [
      "True\n",
      "False\n",
      "False\n",
      "True\n",
      "True\n",
      "True\n",
      "False\n",
      "True\n",
      "True\n",
      "True\n",
      "True\n"
     ]
    }
   ],
   "source": [
    "#in연산자 사용하기\n",
    "l = [1,2,3,4,5,6]\n",
    "print( 4 in l) # 포함되어 있으면 참/ 아니면 거짓\n",
    "print(10 in l)\n",
    "print(10 in [1,2,3,4,5,6])\n",
    "print(7 not in l)\n",
    "\n",
    "print( \"y\" in \"python\")\n",
    "print( \"yt\" in \"python\")\n",
    "print( \"이\" in \"python\")\n",
    "print( \"이\" not in \"python\")\n",
    "\n",
    "print(6 in (1,2,3,4,5,6))\n",
    "print(6 in {1,2,3,4,5,6})\n",
    "\n",
    "print(1 in {1:'이', 2:'숭'}) #키가 있는지"
   ]
  },
  {
   "cell_type": "code",
   "execution_count": 282,
   "id": "c418f6c1",
   "metadata": {},
   "outputs": [
    {
     "name": "stdout",
     "output_type": "stream",
     "text": [
      "k가 없습니다.\n",
      "k가 없습니다.\n",
      "리스트에 6이 있습니다.\n",
      "7이 없습니다.\n"
     ]
    }
   ],
   "source": [
    "if 'k' in \"python\":\n",
    "    print(\"k 가 있습니다.\")\n",
    "else:\n",
    "    print(\"k가 없습니다.\")\n",
    "    \n",
    "str1 = \"python\"\n",
    "if 'k' in str1:\n",
    "    print(\"k 가 있습니다.\")\n",
    "else:\n",
    "    print(\"k가 없습니다.\")\n",
    "    \n",
    "l = [1,2,3,4,5,6]\n",
    "if 6 in l:\n",
    "    print(\"리스트에 6이 있습니다.\")\n",
    "else:\n",
    "    print(\"리스트에 6이 없습니다.\")\n",
    "    \n",
    "if 7 not in l:\n",
    "    print(\"7이 없습니다.\")\n",
    "else:\n",
    "    print(\"7이 있습니다.\")"
   ]
  },
  {
   "cell_type": "code",
   "execution_count": 283,
   "id": "d362b2d8",
   "metadata": {},
   "outputs": [
    {
     "name": "stdout",
     "output_type": "stream",
     "text": [
      "True\n"
     ]
    }
   ],
   "source": [
    "pocket = ['paper', 'cellphone', 'money']\n",
    "print('money' in pocket)\n",
    "if 'money' in pocket:\n",
    "    print(\" 주머니에 돈이 있습니다.\")\n",
    "else:\n",
    "    print(\"주머니에 돈이 없습니다.\")"
   ]
  },
  {
   "cell_type": "code",
   "execution_count": 284,
   "id": "7f0edaf6",
   "metadata": {},
   "outputs": [
    {
     "name": "stdout",
     "output_type": "stream",
     "text": [
      "False\n",
      "불합격\n"
     ]
    }
   ],
   "source": [
    "### 영어가 40이상이고, 국어가 40이상이고 , 수학이 40이상일 때 , \n",
    "### 평균이 60이상이면 합격 그렇지 않으면 불합격\n",
    "mat = 55\n",
    "eng = 70\n",
    "kor = 40\n",
    "result = (mat+eng+kor) / 3 >= 60 and mat >= 40 and eng >= 40 and kor >= 40\n",
    "print(result)\n",
    "if (mat+eng+kor) / 3 >= 60 and mat >= 40 and eng >= 40 and kor >= 40:\n",
    "    print('합격')\n",
    "else:\n",
    "    print('불합격')"
   ]
  },
  {
   "cell_type": "code",
   "execution_count": 285,
   "id": "12dd3314",
   "metadata": {},
   "outputs": [
    {
     "name": "stdout",
     "output_type": "stream",
     "text": [
      "C\n"
     ]
    }
   ],
   "source": [
    "# score가 90이상이면 A, 80이상이면 B, 70이상이면 C, 60이상이면 D, 그렇지 않으면 F\n",
    "# 조건이 여러개인 경우\n",
    "# 조건식은 항상 if문 뒤에 와야한다. else문 뒤에는 조건식이 올 수 없다\n",
    "'''\n",
    "if 조건식: # True\n",
    "    명령문1\n",
    "    ...\n",
    "elif 조건식:\n",
    "    명령문11\n",
    "elif 조건식:\n",
    "    명령어22\n",
    "    ...\n",
    "...\n",
    "else:\n",
    "     명령어nn\n",
    "     ...\n",
    "'''\n",
    "score = 75\n",
    "if score >= 90:\n",
    "    print('A')\n",
    "elif score >= 80:\n",
    "    print('B')\n",
    "elif score>= 70:\n",
    "    print('C')\n",
    "elif score >= 60:\n",
    "    print('D')\n",
    "else:\n",
    "    print('F')"
   ]
  },
  {
   "cell_type": "code",
   "execution_count": 286,
   "id": "e0e07386",
   "metadata": {},
   "outputs": [
    {
     "name": "stdout",
     "output_type": "stream",
     "text": [
      "C+\n"
     ]
    }
   ],
   "source": [
    "### 95이상이면 A+ 이하면 A\n",
    "### 85이상이면 B+ 이하면 B\n",
    "### 75이상이면 C+ 이하면 C\n",
    "### 65이상이면 D+ 이하면 D\n",
    "score = 75\n",
    "if score >= 90:\n",
    "    if score >= 95:\n",
    "        print('A+')\n",
    "    else:\n",
    "        print('A')\n",
    "elif score >= 80:\n",
    "    if score >= 85:\n",
    "        print('B+')\n",
    "    else:\n",
    "        print('B')\n",
    "elif score>= 70:\n",
    "    if score >= 75:\n",
    "        print('C+')\n",
    "    else:\n",
    "        print('C')\n",
    "elif score >= 60:\n",
    "    if score >= 65:\n",
    "        print('D+')\n",
    "    else:\n",
    "        print('D')\n",
    "else:\n",
    "    print('F')\n",
    "\n",
    "    \n",
    "# 단일 if , if~else, if ~ elif~elif~...elif~else, 다중 if문"
   ]
  },
  {
   "cell_type": "code",
   "execution_count": 290,
   "id": "0fd47eef",
   "metadata": {},
   "outputs": [
    {
     "name": "stdout",
     "output_type": "stream",
     "text": [
      "success\n",
      "success\n"
     ]
    }
   ],
   "source": [
    "'''\n",
    "score가 60이상이면 message 변수에 success를 아니면 message 에 failure를 저장한 후 출력\n",
    "'''\n",
    "if score >= 60:\n",
    "    message = \"success\"\n",
    "else:\n",
    "    message = \"failure\"\n",
    "print(message)\n",
    "\n",
    "\n",
    "message = \"success\" if score >= 60 else \"failure\"\n",
    "print(message)"
   ]
  },
  {
   "cell_type": "code",
   "execution_count": 293,
   "id": "692dd8b8",
   "metadata": {},
   "outputs": [
    {
     "name": "stdout",
     "output_type": "stream",
     "text": [
      "30\n"
     ]
    }
   ],
   "source": [
    "# 사직연산\n",
    "a = 10; b = 20; opt = \"add\"\n",
    "if opt == 'add':\n",
    "    result = a + b\n",
    "elif opt == 'sub':\n",
    "    result = a - b\n",
    "elif opt == 'mul':\n",
    "    result = a * b\n",
    "else:\n",
    "    result = a / b\n",
    "print(result)"
   ]
  },
  {
   "cell_type": "code",
   "execution_count": 294,
   "id": "b1a2289d",
   "metadata": {},
   "outputs": [
    {
     "name": "stdout",
     "output_type": "stream",
     "text": [
      "30\n"
     ]
    }
   ],
   "source": [
    "if opt == \"add\": \n",
    "    result = a + b;\n",
    "else:\n",
    "    if opt == \"sub\":\n",
    "        result = a - b\n",
    "    else:\n",
    "        if opt == \"mul\":\n",
    "            result = a * b\n",
    "        else:\n",
    "            result = a / b\n",
    "print(result)"
   ]
  },
  {
   "cell_type": "code",
   "execution_count": 295,
   "id": "5b34fef8",
   "metadata": {},
   "outputs": [
    {
     "name": "stdout",
     "output_type": "stream",
     "text": [
      "30\n"
     ]
    }
   ],
   "source": [
    "result = a + b if opt == \"add\" else ( a - b if opt == \"sub\"\n",
    "                               else ( a * b if opt == \"mul\"\n",
    "                               else   a / b))\n",
    "print(result)"
   ]
  },
  {
   "cell_type": "code",
   "execution_count": 296,
   "id": "a1636b84",
   "metadata": {},
   "outputs": [
    {
     "name": "stdout",
     "output_type": "stream",
     "text": [
      "나무를 1번 찍었습니다.\n",
      "나무를 2번 찍었습니다.\n",
      "나무를 3번 찍었습니다.\n",
      "나무를 4번 찍었습니다.\n",
      "나무를 5번 찍었습니다.\n",
      "나무를 6번 찍었습니다.\n",
      "나무를 7번 찍었습니다.\n",
      "나무를 8번 찍었습니다.\n",
      "나무를 9번 찍었습니다.\n",
      "나무를 10번 찍었습니다.\n",
      "나무가 넘어갑니다.\n"
     ]
    }
   ],
   "source": [
    "# 반복문\n",
    "print(\"나무를 1번 찍었습니다.\")\n",
    "print(\"나무를 2번 찍었습니다.\")\n",
    "print(\"나무를 3번 찍었습니다.\")\n",
    "print(\"나무를 4번 찍었습니다.\")\n",
    "print(\"나무를 5번 찍었습니다.\")\n",
    "print(\"나무를 6번 찍었습니다.\")\n",
    "print(\"나무를 7번 찍었습니다.\")\n",
    "print(\"나무를 8번 찍었습니다.\")\n",
    "print(\"나무를 9번 찍었습니다.\")\n",
    "print(\"나무를 10번 찍었습니다.\")\n",
    "print(\"나무가 넘어갑니다.\")"
   ]
  },
  {
   "cell_type": "code",
   "execution_count": 305,
   "id": "9a220098",
   "metadata": {},
   "outputs": [
    {
     "name": "stdout",
     "output_type": "stream",
     "text": [
      "나무를 1번 찍었습니다.\n",
      "나무를 2번 찍었습니다.\n",
      "나무를 3번 찍었습니다.\n",
      "나무를 4번 찍었습니다.\n",
      "나무를 5번 찍었습니다.\n",
      "나무를 6번 찍었습니다.\n",
      "나무를 7번 찍었습니다.\n",
      "나무를 8번 찍었습니다.\n",
      "나무를 9번 찍었습니다.\n",
      "나무를 10번 찍었습니다.\n",
      "나무가 넘어갑니다.\n",
      "[3, 4]\n"
     ]
    }
   ],
   "source": [
    "start =  1\n",
    "while start <= 10:\n",
    "    #print(\"나무를 %d번 찍었습니다.\" % start)\n",
    "    #print(\"나무를 {0}번 찍었습니다.\".format(start))\n",
    "    #print(\"나무를 {s}번 찍었습니다.\".format(s = start))\n",
    "    print(f\"나무를 {start}번 찍었습니다.\")\n",
    "    start += 1\n",
    "\n",
    "print(\"나무가 넘어갑니다.\")\n",
    "# start = 1 + 1\n",
    "# start = 2 + 1\n",
    "# start = 3 + 1\n",
    "#...\n",
    "# start = 10 + 1 \n",
    "# strat = 11\n",
    "l = [1,2,3,4,5]\n",
    "print(l[2:4])\n",
    "###명령어가 반복이 될 때 명령문 하나를 이용해서 여러번 실행이 될 수 있게"
   ]
  },
  {
   "cell_type": "code",
   "execution_count": 307,
   "id": "cfba40f3",
   "metadata": {},
   "outputs": [
    {
     "name": "stdout",
     "output_type": "stream",
     "text": [
      "8  * 1 = 8\n",
      "8  * 2 = 16\n",
      "8  * 3 = 24\n",
      "8  * 4 = 32\n",
      "8  * 5 = 40\n",
      "8  * 6 = 48\n",
      "8  * 7 = 56\n",
      "8  * 8 = 64\n",
      "8  * 9 = 72\n"
     ]
    }
   ],
   "source": [
    "'''\n",
    "8단 출력\n",
    "8  * 1 = 8 * 1\n",
    "8  * 2 = 8 * 2\n",
    "8  * 3 = 8 * 3\n",
    "8  * 4 = 8 * 4\n",
    "8  * 5 = 8 * 5\n",
    "8  * 6 = 8 * 6\n",
    "8  * 7 = 8 * 7\n",
    "8  * 8 = 8 * 8\n",
    "8  * 9 = 8 * 9\n",
    "'''\n",
    "start = 1\n",
    "while start <= 9:\n",
    "    print(f\"8  * {start} = {8 * start}\")\n",
    "    start += 1"
   ]
  },
  {
   "cell_type": "code",
   "execution_count": 312,
   "id": "8c32e18d",
   "metadata": {},
   "outputs": [
    {
     "name": "stdout",
     "output_type": "stream",
     "text": [
      "단을 입력하세요.5\n",
      "5  * 1 = 5\n",
      "5  * 2 = 10\n",
      "5  * 3 = 15\n",
      "5  * 4 = 20\n",
      "5  * 5 = 25\n",
      "5  * 6 = 30\n",
      "5  * 7 = 35\n",
      "5  * 8 = 40\n",
      "5  * 9 = 45\n"
     ]
    }
   ],
   "source": [
    "dan = int(input(\"단을 입력하세요.\"))\n",
    "start = 1\n",
    "while start <= 9:\n",
    "    print(f\"{dan}  * {start} = {dan * start}\")\n",
    "    start += 1"
   ]
  },
  {
   "cell_type": "code",
   "execution_count": 315,
   "id": "c319cef4",
   "metadata": {},
   "outputs": [
    {
     "name": "stdout",
     "output_type": "stream",
     "text": [
      "단을 입력하세요.5\n",
      "시작 곱을 입력하세요.2\n",
      "끝 곱을 입력하세요.5\n",
      "5  * 2 = 10\n",
      "5  * 3 = 15\n",
      "5  * 4 = 20\n",
      "5  * 5 = 25\n"
     ]
    }
   ],
   "source": [
    "dan = int(input(\"단을 입력하세요.\"))\n",
    "startGop = int(input(\"시작 곱을 입력하세요.\"))\n",
    "endGop = int(input(\"끝 곱을 입력하세요.\"))\n",
    "start = startGop\n",
    "while start <= endGop:\n",
    "    print(f\"{dan}  * {start} = {dan * start}\")\n",
    "    start += 1"
   ]
  },
  {
   "cell_type": "code",
   "execution_count": null,
   "id": "d690afa8",
   "metadata": {},
   "outputs": [],
   "source": []
  },
  {
   "cell_type": "code",
   "execution_count": null,
   "id": "fbaedfec",
   "metadata": {},
   "outputs": [],
   "source": []
  },
  {
   "cell_type": "code",
   "execution_count": null,
   "id": "e46b5342",
   "metadata": {},
   "outputs": [],
   "source": []
  },
  {
   "cell_type": "code",
   "execution_count": null,
   "id": "bb2c7d45",
   "metadata": {},
   "outputs": [],
   "source": []
  },
  {
   "cell_type": "code",
   "execution_count": null,
   "id": "6e9262f1",
   "metadata": {},
   "outputs": [],
   "source": []
  }
 ],
 "metadata": {
  "kernelspec": {
   "display_name": "Python 3 (ipykernel)",
   "language": "python",
   "name": "python3"
  },
  "language_info": {
   "codemirror_mode": {
    "name": "ipython",
    "version": 3
   },
   "file_extension": ".py",
   "mimetype": "text/x-python",
   "name": "python",
   "nbconvert_exporter": "python",
   "pygments_lexer": "ipython3",
   "version": "3.11.2"
  }
 },
 "nbformat": 4,
 "nbformat_minor": 5
}
