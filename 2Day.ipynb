{
 "cells": [
  {
   "cell_type": "code",
   "execution_count": 1,
   "id": "3e8f2862",
   "metadata": {},
   "outputs": [
    {
     "name": "stderr",
     "output_type": "stream",
     "text": [
      "C:\\Users\\soldesk\\AppData\\Local\\Temp\\ipykernel_4936\\1014303460.py:1: DeprecationWarning: Importing display from IPython.core.display is deprecated since IPython 7.14, please import from IPython display\n",
      "  from IPython.core.display import display, HTML\n"
     ]
    },
    {
     "data": {
      "text/html": [
       "<style>\n",
       "div.container { width:100% !important; }\n",
       "div.CodeMirror {font-family: Consolas; font-size: 30pt;}\n",
       "div.output { font-size: 20pt; font-weight: bold;}\n",
       "div.input { font-family: Consolas; font-size: 30pt;}\n",
       "div.prompt { min-width: 100px;}\n",
       "</style>\n"
      ],
      "text/plain": [
       "<IPython.core.display.HTML object>"
      ]
     },
     "metadata": {},
     "output_type": "display_data"
    }
   ],
   "source": [
    "from IPython.core.display import display, HTML\n",
    "display(HTML(\n",
    "\"\"\"<style>\n",
    "div.container { width:100% !important; }\n",
    "div.CodeMirror {font-family: Consolas; font-size: 30pt;}\n",
    "div.output { font-size: 20pt; font-weight: bold;}\n",
    "div.input { font-family: Consolas; font-size: 30pt;}\n",
    "div.prompt { min-width: 100px;}\n",
    "</style>\n",
    "\"\"\"))"
   ]
  },
  {
   "cell_type": "code",
   "execution_count": 6,
   "id": "88e9925c",
   "metadata": {},
   "outputs": [
    {
     "name": "stdout",
     "output_type": "stream",
     "text": [
      "i\n",
      "2\n",
      "[1, 10, 3, 4, 5]\n",
      "[1, 10, 3, 4, 100]\n"
     ]
    }
   ],
   "source": [
    "l = [1,2,3,4,5]\n",
    "str1 = \"Pithon\"\n",
    "print(str1[1])\n",
    "#str1[1] = 'y'\n",
    "print(l[1])\n",
    "l[1] = 10 #각 요소의 값을 변경할 수 있다.\n",
    "print(l)\n",
    "l[4]\n",
    "l[4] = 100\n",
    "print(l)"
   ]
  },
  {
   "cell_type": "code",
   "execution_count": 9,
   "id": "6c04f1b9",
   "metadata": {},
   "outputs": [
    {
     "name": "stdout",
     "output_type": "stream",
     "text": [
      "6\n",
      "5\n"
     ]
    }
   ],
   "source": [
    "# 리스트 함수\n",
    "print(len(str1)) # 문자의 갯수\n",
    "print(len(l)) # 요소의 갯수"
   ]
  },
  {
   "cell_type": "code",
   "execution_count": 19,
   "id": "d53803c0",
   "metadata": {},
   "outputs": [
    {
     "name": "stdout",
     "output_type": "stream",
     "text": [
      "['Life', 'is', 'too']\n",
      "['Life', 'is', 'too', 'short']\n",
      "['Life', 'is', 'too', 'short', 3]\n",
      "['Life', 'is', 'short']\n",
      "['Life', 'is', 'too', 'short']\n",
      "['Life', 'is', 'too', 'short', 1, 2, 3]\n",
      "['Life', 'is', 'too', 'short']\n",
      "['Life', 'is', 'too', 'short', 1, 2, 3]\n"
     ]
    }
   ],
   "source": [
    "### 리스트에 요소 추가 \n",
    "l1 = ['Life','is'] #문자열을 가진 리스트\n",
    "# 요소 'is' 뒤에 'too'를 추가  ['Life','is','too']\n",
    "l1.append('too')\n",
    "print(l1)\n",
    "# ['Life','is','too']에 short 를 추가\n",
    "l1.append('short')\n",
    "print(l1)\n",
    "l1.append(3)\n",
    "print(l1)\n",
    "# 원하는 위치에 요소 삽입하기\n",
    "l1 = ['Life','short']\n",
    "#       0       1\n",
    "l1.insert(1, 'is')\n",
    "print(l1) # ['Life', 'is', 'short']\n",
    "#              0       1      2\n",
    "l1.insert(2,'too')\n",
    "print(l1) # ['Life', 'is', 'too', 'short']\n",
    "a = [1,2,3]\n",
    "# ['Life', 'is', 'too', 'short' ,1,2,3]\n",
    "# 리스트 확장\n",
    "print(l1 + a)\n",
    "print(l1)\n",
    "l1.extend(a)\n",
    "print(l1)"
   ]
  },
  {
   "cell_type": "code",
   "execution_count": 43,
   "id": "0cfeab89",
   "metadata": {},
   "outputs": [
    {
     "name": "stdout",
     "output_type": "stream",
     "text": [
      "['Life', 'is', 'too', 'short', 2, 3]\n",
      "['too', 'short']\n",
      "['Life', 'is', 2, 3]\n",
      "['is', 2, 3]\n",
      "['Life']\n",
      "['Life', 'is', 'too', 1, 2, 3]\n",
      "['Life', 'is', 'too', 2, 3]\n",
      "None\n",
      "3\n",
      "['Life', 'is', 'too', 'short', 1, 2]\n",
      "2\n",
      "['Life', 'is', 'too', 'short', 1]\n",
      "too\n",
      "['Life', 'is', 'short', 1]\n"
     ]
    }
   ],
   "source": [
    "#요소 삭제\n",
    "l1 = ['Life', 'is', 'too', 'short', 1, 2, 3]\n",
    "#        0       1      2      3     4  5  6\n",
    "# index를 이용해서 요소 삭제\n",
    "del l1[4]\n",
    "print(l1)\n",
    "#slicing을 이용해서 삭제\n",
    "print(l1[2:2+2])\n",
    "del l1[2:2+2]\n",
    "print(l1)\n",
    "print(l1[1:])\n",
    "del l1[1:]\n",
    "print(l1)\n",
    "l1 = ['Life', 'is', 'too', 'short', 1, 2, 3]\n",
    "# 요소를 이용해서 삭제\n",
    "l1.remove('short')\n",
    "print(l1)\n",
    "l1.remove(1)\n",
    "print(l1)\n",
    "#l1.remove([2])\n",
    "#l1.remove('2')\n",
    "result = l1.remove('is')\n",
    "print(result)\n",
    "# 리스트에 있는 값을 가지고 나온 후 삭제\n",
    "l1 = ['Life', 'is', 'too', 'short', 1, 2, 3]\n",
    "#       0      1      2       3     4  5  6\n",
    "result = l1.pop() # 맨뒤에 있는 값을 가지고 나온 후 삭제\n",
    "print(result)\n",
    "print(l1)\n",
    "result = l1.pop() # 비 복원추출\n",
    "print(result)\n",
    "print(l1)\n",
    "result = l1.pop(2) # index를 이용해서 값을 가지고 나온 후 삭제\n",
    "print(result)\n",
    "print(l1)\n",
    "#주사위는 복원추출이다."
   ]
  },
  {
   "cell_type": "code",
   "execution_count": 60,
   "id": "fba08b06",
   "metadata": {},
   "outputs": [
    {
     "name": "stdout",
     "output_type": "stream",
     "text": [
      "[1, 2, 3, 4, 5]\n",
      "[5, 4, 3, 2, 1]\n",
      "[3, 1, 5, 2, 4]\n"
     ]
    }
   ],
   "source": [
    "# 정렬 --  오름차순, 내림차순\n",
    "l = [4,2,5,1,3]\n",
    "#오름차순\n",
    "l.sort()\n",
    "print(l)\n",
    "#내림차순\n",
    "l.sort(reverse=True)\n",
    "print(l)\n",
    "l = [4,2,5,1,3]\n",
    "l.reverse()\n",
    "print(l)\n",
    "# 문자열 리스트인 경우 정렬 : 사전 순서\n",
    "# 문자열과 숫자가 혼합된 리스트를 정렬 (x): \n",
    "# '<' not supported between instances of 'str' and 'int'"
   ]
  },
  {
   "cell_type": "code",
   "execution_count": 61,
   "id": "c09631b1",
   "metadata": {},
   "outputs": [
    {
     "name": "stdout",
     "output_type": "stream",
     "text": [
      "2\n",
      "2\n",
      "3\n",
      "2\n",
      "-1\n",
      "2\n",
      "1\n",
      "4\n"
     ]
    }
   ],
   "source": [
    "str3 = 'hobby'\n",
    "print(str3.count('b'))\n",
    "print(str3.index('b'))\n",
    "print(str3.index('b',3))\n",
    "print(str3.find('b'))\n",
    "#print(str3.index('k')) # 오류\n",
    "print(str3.find('k')) # -1\n",
    "\n",
    "a = [1, 4, 2, 5, 4, 3]\n",
    "print(a.count(4))\n",
    "print(a.index(4))\n",
    "print(a.index(4, 2))\n",
    "#print(a.find(4)) #리스트에서는  find함수가 없다.\n",
    "#print(a.index(6)) #오류"
   ]
  },
  {
   "cell_type": "code",
   "execution_count": 75,
   "id": "db2e84c8",
   "metadata": {},
   "outputs": [
    {
     "name": "stdout",
     "output_type": "stream",
     "text": [
      "[1, 2, 3, 4]\n",
      "(1, 2, 3, 4)\n",
      "[6]\n",
      "2\n",
      "(2,)\n",
      "1\n",
      "(1,)\n",
      "(1, 2)\n"
     ]
    }
   ],
   "source": [
    "'''\n",
    "리터널 자료형: 숫자자료형 : 정수 : 10,  5\n",
    "                          실수 : 10.5 , 5.2\n",
    "              문자열자료형 : \"a\", 'a',\"\"\"a\"\"\", '''''' ,'10', '10.5'\n",
    "리스트 자료형 : [], [1], [10.5], ['a'] , [1,2,'a'], [[1],2]\n",
    "튜플   자료형 : (), (1,2), ('a', 'b') \n",
    "'''\n",
    "a = 10\n",
    "b = \"a\"\n",
    "l = [] #빈 리스트\n",
    "t = () #빈 튜플\n",
    "l = [1,2,3,4] \n",
    "print(l)\n",
    "t = (1,2,3,4)\n",
    "print(t)\n",
    "l = [1]\n",
    "print([(1 + 1) * 3])\n",
    "print((1 + 1))\n",
    "print((1+1,))\n",
    "t = (1)\n",
    "print(t)\n",
    "t = (1,) #요소가 하나인 경우에는 최우선 연산자와 구별하기 위해 콤마를 넣어준다\n",
    "print(t)\n",
    "t = (1,2) #정수형 튜플\n",
    "print(t)\n",
    "t = ('a','b')#문자열 튜플\n",
    "t= ('a','b',1,2,3) #혼합형튜플\n",
    "t= ('a','b',(1,2,3))\n",
    "t= ('a','b',(1,2,3),[1,2,3], 1,2,3)"
   ]
  },
  {
   "cell_type": "code",
   "execution_count": 90,
   "id": "b2e76c1e",
   "metadata": {},
   "outputs": [
    {
     "name": "stdout",
     "output_type": "stream",
     "text": [
      "3\n",
      "3\n",
      "[3, 4, 3]\n",
      "(3, 4, 3)\n",
      "[3, 4, 3, 10]\n",
      "(3, 4, 3, 10)\n",
      "[1, 2, 3, 4]\n",
      "(1, 2, 3, 4)\n",
      "2\n",
      "2\n",
      "2\n",
      "2\n",
      "5\n",
      "5\n"
     ]
    }
   ],
   "source": [
    "# indexing, slicing을 할 수 있다\n",
    "l = [1,2,3,4,3]\n",
    "t = (1,2,3,4,3)\n",
    "#    0 1 2 3\n",
    "print(l[2])\n",
    "print(t[2])\n",
    "print(l[2:])\n",
    "print(t[2:])\n",
    "print(l[2:] + [10])\n",
    "print(t[2:] + (10,))\n",
    "print(l[:4])\n",
    "print(t[:4])\n",
    "print(l.index(3))\n",
    "print(t.index(3))\n",
    "print(l.count(3))\n",
    "print(t.count(3))\n",
    "print(len(l))\n",
    "print(len(t))"
   ]
  },
  {
   "cell_type": "code",
   "execution_count": 91,
   "id": "0f775aa4",
   "metadata": {},
   "outputs": [
    {
     "name": "stdout",
     "output_type": "stream",
     "text": [
      "3\n",
      "[1, 2, 10, 4]\n",
      "3\n",
      "[1, 2, 4]\n"
     ]
    }
   ],
   "source": [
    "# 리스트와 튜플의 차이점\n",
    "l = [1,2,3,4]\n",
    "t = (1,2,3,4)\n",
    "print(l[2])\n",
    "l[2] = 10\n",
    "print(l)\n",
    "print(t[2])\n",
    "#t[2] = 10\n",
    "# 요소의 값을 변경 가능한 것은 리스트\n",
    "# 요소의 값을 변경 가능하지 않은 것은 튜플\n",
    "del l[2]\n",
    "print(l)\n",
    "#del t[2]"
   ]
  },
  {
   "cell_type": "code",
   "execution_count": 97,
   "id": "a6f90ec8",
   "metadata": {},
   "outputs": [
    {
     "name": "stdout",
     "output_type": "stream",
     "text": [
      "['h', 'e', 'l', 'l', 'o']\n",
      "('h', 'e', 'l', 'l', 'o')\n",
      "101\n",
      "11\n",
      "11.0\n"
     ]
    }
   ],
   "source": [
    "str1 = \"hello\"\n",
    "l = list(str1)\n",
    "print(l)\n",
    "t = tuple(str1)\n",
    "print(t)\n",
    "a = \"1\"\n",
    "print(str(10) + a)\n",
    "print(10 + int(a))\n",
    "print(10 + float(a))"
   ]
  },
  {
   "cell_type": "code",
   "execution_count": 112,
   "id": "809d2431",
   "metadata": {},
   "outputs": [
    {
     "name": "stdout",
     "output_type": "stream",
     "text": [
      "3\n",
      "b\n",
      "[1, 2, 3]\n",
      "(1, 2, 3)\n",
      "2\n",
      "2\n",
      "(3, 'a')\n",
      "[3, 'a']\n",
      "l\n",
      "l\n",
      "(1, 2, 3, 'a', 'b', [1, 2, 3], (1, 2, 3))\n",
      "1 2\n",
      "1 2\n"
     ]
    }
   ],
   "source": [
    "t7 = (1, 2, 3, \"a\", \"b\", [1,2,3], (1,2,3))\n",
    "#     0  1  2   3    4      5        6\n",
    "print(t7[2]) #정수\n",
    "print(t7[4]) #문자열\n",
    "print(t7[5]) #리스트\n",
    "print(t7[6]) #튜플\n",
    "print(t7[5][1]) #정수\n",
    "print(t7[6][1]) #정수\n",
    "print(t7[2:4]) # 튜플\n",
    "l7 = [1, 2, 3, \"a\", \"b\", [1,2,3], (1,2,3)]\n",
    "print(l7[2:4]) # 리스트\n",
    "str1 = \"hello\"\n",
    "print(str1[2])\n",
    "print(\"hello\"[2])\n",
    "t8 = 1, 2, 3, \"a\", \"b\", [1,2,3], (1,2,3)\n",
    "print(t8)\n",
    "a, b = 1 , 2\n",
    "print(a, b)\n",
    "a, b = (1, 2)\n",
    "print(a, b)"
   ]
  },
  {
   "cell_type": "code",
   "execution_count": 116,
   "id": "970a0cf3",
   "metadata": {},
   "outputs": [
    {
     "name": "stdout",
     "output_type": "stream",
     "text": [
      "Lifeistooshort\n",
      "Life is too short\n",
      "Life is too short\n",
      "h e l l o\n"
     ]
    }
   ],
   "source": [
    "l = ['Life', 'is', 'too', 'short' ]\n",
    "print(\"\".join(l))\n",
    "print(\" \".join(l)) #리스트를 문자열로 변경할 때\n",
    "t = ('Life', 'is', 'too', 'short' )\n",
    "print(\" \".join(t))\n",
    "str1 = \"hello\"\n",
    "print(\" \".join(str1))"
   ]
  },
  {
   "cell_type": "code",
   "execution_count": 127,
   "id": "bf7c9f5a",
   "metadata": {},
   "outputs": [
    {
     "name": "stdout",
     "output_type": "stream",
     "text": [
      "3\n",
      "3\n",
      "l\n",
      "이숭무\n",
      "35\n",
      "이상범\n",
      "이숭무\n",
      "[1, 2, 10, 4]\n",
      "{2: '김찬중', 0: '이상범', 1: '이장범'}\n",
      "{2: '김찬중', 0: '이상범', 1: '이장범', 3: '이숭무'}\n",
      "{1: '이상범'}\n",
      "{1: '이성범'}\n"
     ]
    }
   ],
   "source": [
    "# 리터널 자료형 : 정수, 실수, 문자열\n",
    "# 리스트 자료형 : []\n",
    "# 튜플 자료형 : (), (1,), (1,2,3)\n",
    "# 딕셔너리(사전) : {}, {key_1:value_1,..., key_n:value_n}\n",
    "               #  자바스크립트 : json , 자바 : map<key, value> \n",
    "dic = {}\n",
    "dic1 = {'name':'이숭무', 'age':35, 'height':175.5}\n",
    "l = [1,2,3,4]\n",
    "print(l[2]) \n",
    "t = (1,2,3,4)\n",
    "print(t[2])\n",
    "str1= \"hello\"\n",
    "print(str1[2])\n",
    "print(dic1['name'])\n",
    "print(dic1['age'])\n",
    "d2 = {2:'이숭무', 0:'이상범', 1:'이장범'}\n",
    "#        0           1            2   딕셔너리는 index를 사용하지 않는다.\n",
    "print(d2[0]) # 값을 key를 이용해서 가지고 온다.\n",
    "print(d2[2])\n",
    "l[2] = 10 # index를 이용해서 값을 변경\n",
    "print(l)\n",
    "d2[2] = '김찬중' #키를 이용해서 값을 변경할 수 있다.\n",
    "print(d2)\n",
    "# l[4] = 100 index가 없는 경우 오류 발생\n",
    "d2[3] = '이숭무'\n",
    "print(d2) # 키가 있는 경우 값을 변경하고 키가 없는 경우 요소를 추가\n",
    "#키의 중복을 허용하지 않는다.\n",
    "d3 = {1:'이숭무' , 1:'이상범' }\n",
    "print(d3)\n",
    "d3 = {1:'이숭무'}\n",
    "d3[1] = \"이상범\"\n",
    "print(d3)"
   ]
  },
  {
   "cell_type": "code",
   "execution_count": 139,
   "id": "4cd56d35",
   "metadata": {},
   "outputs": [
    {
     "name": "stdout",
     "output_type": "stream",
     "text": [
      "{'name': '이숭무', 'age': 35, 'height': 175.5, 'phone': '01071461970'}\n",
      "[1, 3, 4]\n",
      "{'name': '이숭무', 'height': 175.5, 'phone': '01071461970'}\n",
      "dict_keys(['name', 'height', 'phone'])\n",
      "dict_values(['이숭무', 175.5, '01071461970'])\n",
      "dict_items([('name', '이숭무'), ('height', 175.5), ('phone', '01071461970')])\n",
      "[1, 3, 4]\n",
      "[]\n",
      "{'name': '이숭무', 'height': 175.5, 'phone': '01071461970'}\n",
      "{}\n",
      "(1, 2, 3, 4)\n"
     ]
    }
   ],
   "source": [
    "#딕셔너리 함수\n",
    "dic1 = {'name':'이숭무', 'age':35, 'height':175.5}\n",
    "dic1['phone'] = '01071461970'\n",
    "print(dic1)\n",
    "l = [1,2,3,4]\n",
    "del l[1]\n",
    "print(l)\n",
    "del dic1['age']\n",
    "print(dic1)\n",
    "### 딕셔너리에 있는 키만 가져오기\n",
    "print(dic1.keys())\n",
    "### 딕셔너리에 있는 값만 가져오기\n",
    "print(dic1.values())\n",
    "## 키와 값을 쌍으로 \n",
    "print(dic1.items())\n",
    "print(l)\n",
    "l.clear()\n",
    "print(l)\n",
    "print(dic1)\n",
    "dic1.clear()\n",
    "print(dic1)"
   ]
  },
  {
   "cell_type": "code",
   "execution_count": 145,
   "id": "a1c19bb7",
   "metadata": {},
   "outputs": [
    {
     "name": "stdout",
     "output_type": "stream",
     "text": [
      "{'name': 'pey', 'phone': '0119993323', 'birth': '19981118'}\n",
      "19981118\n",
      "1998\n",
      "11\n",
      "18\n",
      "1998\n",
      "11\n",
      "11\n",
      "18\n"
     ]
    }
   ],
   "source": [
    "dic= {'name': 'pey', 'phone': '0119993323', 'birth': '1118'}\n",
    "dic['birth'] = '19981118'\n",
    "#               87654321 - \n",
    "print(dic)\n",
    "print(dic['birth']) #요소의 value가 문자열이므로 indexing또는 slicing을 할 수 있다.\n",
    "## 년, 월 , 일을 따로 출력하세요\n",
    "print(dic['birth'][0:4])\n",
    "print(dic['birth'][4:4+2])\n",
    "print(dic['birth'][6:])\n",
    "\n",
    "print(dic['birth'][0:-4])\n",
    "print(dic['birth'][-4:4+2])\n",
    "print(dic['birth'][-4:-4+2])\n",
    "print(dic['birth'][-2:])"
   ]
  },
  {
   "cell_type": "code",
   "execution_count": 157,
   "id": "213f1f7a",
   "metadata": {},
   "outputs": [
    {
     "name": "stdout",
     "output_type": "stream",
     "text": [
      "pey\n",
      "pey\n",
      "None\n",
      "10\n",
      "600\n",
      "600\n",
      "1200\n",
      "100\n",
      "1200\n",
      "1000\n"
     ]
    }
   ],
   "source": [
    "dic= {'name': 'pey', 'phone': '0119993323', 'birth': '1118'}\n",
    "print(dic['name'])\n",
    "print(dic.get('name'))\n",
    "#print(dic['money'])\n",
    "print(dic.get('money'))\n",
    "print(dic.get('money', 10))\n",
    "dic1 = {'classic' : 500 ,  \"pop\" : 600 }\n",
    "dic2 = {'classic' : 500 ,  \"pop\" : 600, 'money': 100 }\n",
    "print(dic1['pop']) #정수\n",
    "print(dic2['pop']) #정수\n",
    "print(dic1['pop'] + dic2['pop'])\n",
    "#print(dic1['money'] + dic2['money'])\n",
    "print(dic1.get('money',0) + dic2.get('money', 0))\n",
    "print(dic1.get('pop',0) + dic2.get('pop', 0))\n",
    "print(dic1.get('classic',0) + dic2.get('classic', 0))"
   ]
  },
  {
   "cell_type": "code",
   "execution_count": 168,
   "id": "15c73334",
   "metadata": {},
   "outputs": [
    {
     "name": "stdout",
     "output_type": "stream",
     "text": [
      "{1, 2, 3, 4, 5}\n",
      "{1: '이', 2: '숭'}\n",
      "(1, 2, 3, 4, 5)\n",
      "[1, 2, 3, 4, 5]\n",
      "1 2 3 4 5\n",
      "1 2 3 4 5\n",
      "20\n",
      "10100\n",
      "{1, 2, 3, 4, 5}\n",
      "{1, 2, 3, 4, 5}\n"
     ]
    }
   ],
   "source": [
    "# 집합(set) : 교집합 ,합집합, 차집합\n",
    "dic = {1:'이', 2:'숭'}\n",
    "s = {1,2,3,4,5}\n",
    "print(s)\n",
    "print(dic)\n",
    "t  = tuple([1,2,3,4,5])\n",
    "print(t)\n",
    "l = list((1, 2, 3, 4, 5))\n",
    "print(l)\n",
    "str1 = \" \".join(['1','2','3','4','5'])\n",
    "print(str1)\n",
    "str1 = \" \".join(('1','2','3','4','5'))\n",
    "print(str1)\n",
    "i = int('10')\n",
    "print(i + 10)\n",
    "str2 = str(10)\n",
    "print(str2 + \"100\")\n",
    "s = set([1,2,3,4,5])\n",
    "print(s)\n",
    "s = set((1,2,3,4,5))\n",
    "print(s)"
   ]
  },
  {
   "cell_type": "code",
   "execution_count": 186,
   "id": "7d020329",
   "metadata": {},
   "outputs": [
    {
     "name": "stdout",
     "output_type": "stream",
     "text": [
      "{4, 5}\n",
      "{4, 5}\n",
      "{1, 2, 3, 4, 5, 6, 7, 8}\n",
      "{1, 2, 3, 4, 5, 6, 7, 8}\n",
      "{1, 2, 3}\n",
      "{8, 6, 7}\n",
      "{1, 2, 3}\n",
      "{8, 6, 7}\n",
      "{1, 2, 3, 4, 5, 7}\n",
      "{1, 2, 3, 4, 5, 7, 9}\n",
      "{1, 2, 3, 4, 5, 7, 9, (10, 11, 12)}\n",
      "{1, 2, 3, 4, 5, 7, 9}\n",
      "{1, 2, 3, 4, 5, 7, 9, 10, 11, 12}\n",
      "{1, 2, 3, 4, 5, 7, 9, 10, 11, 12, 13, 14, 15}\n"
     ]
    }
   ],
   "source": [
    "s1 = {1,2,3,4,5}\n",
    "s2 = {4,5,6,7,8}\n",
    "#교집합\n",
    "print(s1 & s2)\n",
    "print(s1.intersection(s2))\n",
    "#합집합\n",
    "print(s1 | s2)\n",
    "print(s1.union(s2))\n",
    "#차집합\n",
    "print(s1 - s2)\n",
    "print(s2 - s1)\n",
    "print(s1.difference(s2))\n",
    "print(s2.difference(s1))\n",
    "#요소 추가\n",
    "s1.add(7)\n",
    "print(s1)\n",
    "s1.add(9)\n",
    "print(s1)\n",
    "#s2에 10,11,12를 추가\n",
    "s1.add((10,11,12)) #요소 한개만 추가 가능\n",
    "print(s1)\n",
    "s1.remove((10,11,12))\n",
    "print(s1)\n",
    "s1.update((10,11,12))\n",
    "print(s1)\n",
    "s1.update([13,14,15])\n",
    "print(s1)\n",
    "#s1.remove(10,12) #요소 하나씩만 가능\n",
    "#s1.remove((10,12)) #튜플을 삭제"
   ]
  },
  {
   "cell_type": "code",
   "execution_count": 188,
   "id": "6a175fca",
   "metadata": {},
   "outputs": [
    {
     "name": "stdout",
     "output_type": "stream",
     "text": [
      "hello\n",
      "{'e', 'l', 'o', 'h'}\n"
     ]
    }
   ],
   "source": [
    "s = \"hello\"\n",
    "print(s)\n",
    "s = set(\"hello\") #집합자료형은 중복값을 허용하지 않는다.\n",
    "print(s)"
   ]
  },
  {
   "cell_type": "code",
   "execution_count": 195,
   "id": "149e1a43",
   "metadata": {},
   "outputs": [
    {
     "name": "stdout",
     "output_type": "stream",
     "text": [
      "1\n",
      "10\n",
      "100\n",
      "True\n",
      "False\n",
      "False\n",
      "10\n",
      "True\n"
     ]
    }
   ],
   "source": [
    "i = 1\n",
    "print(i)\n",
    "i = 10\n",
    "print(i)\n",
    "i = 100\n",
    "print(i)\n",
    "b = True\n",
    "print(b)\n",
    "b = False\n",
    "print(b)\n",
    "#리터널 자료형 : 정수, 실수 : +, -, *, /, //, %, **\n",
    "#               문자열 : + , *\n",
    "#리스트 자료형 : [] : + , *\n",
    "#튜플 자료형 : (), (1,) : +, *\n",
    "#딕셔너리 : {}, {key:value,..., n}\n",
    "#집합 자료형 : {1,2,3} : & , |\n",
    "#부울 자료형 : True(참), False(거짓) : 논리연산자 (and / or)\n",
    "#b = true # name 'true' is not defined : 변수\n",
    "print(b)\n",
    "true = 10\n",
    "print(true)\n",
    "b = True\n",
    "print(b)\n",
    "# 부울 자료형 : 논리연산\n",
    "print(True and True)\n",
    "print(True and False)\n",
    "\n",
    "print(True or True)\n",
    "print(True or False)\n",
    "print(False and False)\n",
    "\n",
    "# 비교(관계)연산자 : < , > ,>=, <= , == , != : 결과는 부울타입\n"
   ]
  },
  {
   "cell_type": "code",
   "execution_count": null,
   "id": "cbd71a4c",
   "metadata": {},
   "outputs": [],
   "source": []
  },
  {
   "cell_type": "code",
   "execution_count": null,
   "id": "27c3b70a",
   "metadata": {},
   "outputs": [],
   "source": []
  },
  {
   "cell_type": "code",
   "execution_count": null,
   "id": "58929db3",
   "metadata": {},
   "outputs": [],
   "source": []
  },
  {
   "cell_type": "code",
   "execution_count": null,
   "id": "df5c312e",
   "metadata": {},
   "outputs": [],
   "source": []
  },
  {
   "cell_type": "code",
   "execution_count": null,
   "id": "8c3d6803",
   "metadata": {},
   "outputs": [],
   "source": []
  },
  {
   "cell_type": "code",
   "execution_count": null,
   "id": "7c947f84",
   "metadata": {},
   "outputs": [],
   "source": []
  },
  {
   "cell_type": "code",
   "execution_count": null,
   "id": "608aed01",
   "metadata": {},
   "outputs": [],
   "source": []
  },
  {
   "cell_type": "code",
   "execution_count": null,
   "id": "34984353",
   "metadata": {},
   "outputs": [],
   "source": []
  }
 ],
 "metadata": {
  "kernelspec": {
   "display_name": "Python 3 (ipykernel)",
   "language": "python",
   "name": "python3"
  },
  "language_info": {
   "codemirror_mode": {
    "name": "ipython",
    "version": 3
   },
   "file_extension": ".py",
   "mimetype": "text/x-python",
   "name": "python",
   "nbconvert_exporter": "python",
   "pygments_lexer": "ipython3",
   "version": "3.11.2"
  }
 },
 "nbformat": 4,
 "nbformat_minor": 5
}
